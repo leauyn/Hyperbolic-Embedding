{
 "cells": [
  {
   "cell_type": "code",
   "execution_count": 30,
   "metadata": {
    "collapsed": false
   },
   "outputs": [
    {
     "name": "stdout",
     "output_type": "stream",
     "text": [
      "/Users/workspace/Hyperbolic-Embedding/src/python\n"
     ]
    }
   ],
   "source": [
    "cd ../../src/python/"
   ]
  },
  {
   "cell_type": "code",
   "execution_count": 31,
   "metadata": {
    "collapsed": true
   },
   "outputs": [],
   "source": [
    "import utils"
   ]
  },
  {
   "cell_type": "code",
   "execution_count": 32,
   "metadata": {
    "collapsed": false
   },
   "outputs": [
    {
     "name": "stdout",
     "output_type": "stream",
     "text": [
      "/Users/workspace/Hyperbolic-Embedding/local_resources/karate\n"
     ]
    }
   ],
   "source": [
    "cd ../../local_resources/karate/"
   ]
  },
  {
   "cell_type": "code",
   "execution_count": 33,
   "metadata": {
    "collapsed": false
   },
   "outputs": [],
   "source": [
    "edges = utils.read_pickle('X.p')"
   ]
  },
  {
   "cell_type": "code",
   "execution_count": 34,
   "metadata": {
    "collapsed": false
   },
   "outputs": [
    {
     "data": {
      "text/plain": [
       "scipy.sparse.csc.csc_matrix"
      ]
     },
     "execution_count": 34,
     "metadata": {},
     "output_type": "execute_result"
    }
   ],
   "source": [
    "type(edges)"
   ]
  },
  {
   "cell_type": "code",
   "execution_count": 85,
   "metadata": {
    "collapsed": false
   },
   "outputs": [
    {
     "name": "stdout",
     "output_type": "stream",
     "text": [
      "\u001b[31mX.p\u001b[m\u001b[m*                            \u001b[34membeddings\u001b[m\u001b[m/\r\n",
      "\u001b[31mblogcatalog.edgelist\u001b[m\u001b[m*           p025_q025_d128_walks.csv\r\n",
      "\u001b[31mblogcatalog.mat\u001b[m\u001b[m*                walks.csv\r\n",
      "blogcatalog128.emd              \u001b[31my.p\u001b[m\u001b[m*\r\n",
      "blogcatalog_p025_q025_d128.emd\r\n"
     ]
    }
   ],
   "source": [
    "ls"
   ]
  },
  {
   "cell_type": "code",
   "execution_count": 86,
   "metadata": {
    "collapsed": false
   },
   "outputs": [
    {
     "name": "stdout",
     "output_type": "stream",
     "text": [
      "/Users/workspace/Hyperbolic-Embedding/local_resources\n"
     ]
    }
   ],
   "source": [
    "cd .."
   ]
  },
  {
   "cell_type": "code",
   "execution_count": 87,
   "metadata": {
    "collapsed": false
   },
   "outputs": [
    {
     "name": "stdout",
     "output_type": "stream",
     "text": [
      "README.md               \u001b[30m\u001b[43mflickr\u001b[m\u001b[m/                 \u001b[34mtf_logs\u001b[m\u001b[m/\r\n",
      "\u001b[30m\u001b[43mblogcatalog\u001b[m\u001b[m/            \u001b[34mhyperbolic_embeddings\u001b[m\u001b[m/\r\n",
      "\u001b[34mblogcatalog_121_sample\u001b[m\u001b[m/ \u001b[34mkarate\u001b[m\u001b[m/\r\n"
     ]
    }
   ],
   "source": [
    "ls"
   ]
  },
  {
   "cell_type": "code",
   "execution_count": 88,
   "metadata": {
    "collapsed": false
   },
   "outputs": [
    {
     "name": "stdout",
     "output_type": "stream",
     "text": [
      "/Users/workspace/Hyperbolic-Embedding/local_resources/blogcatalog_121_sample\n"
     ]
    }
   ],
   "source": [
    "cd blogcatalog_121_sample/"
   ]
  },
  {
   "cell_type": "code",
   "execution_count": null,
   "metadata": {
    "collapsed": true
   },
   "outputs": [],
   "source": []
  },
  {
   "cell_type": "code",
   "execution_count": 37,
   "metadata": {
    "collapsed": false
   },
   "outputs": [
    {
     "name": "stdout",
     "output_type": "stream",
     "text": [
      "[Errno 2] No such file or directory: 'local_resources/karate/'\n",
      "/Users/workspace/Hyperbolic-Embedding/local_resources/karate\n"
     ]
    }
   ],
   "source": [
    "cd local_resources/karate/"
   ]
  },
  {
   "cell_type": "code",
   "execution_count": 38,
   "metadata": {
    "collapsed": false
   },
   "outputs": [
    {
     "name": "stdout",
     "output_type": "stream",
     "text": [
      "X.p                     karate.edgelist         walks1_len10_p1_q1.csv\r\n",
      "\u001b[34marchive\u001b[m\u001b[m/                size8_walks1_len10.emd  y.csv\r\n",
      "grad_debug.csv          tf.emd                  y.p\r\n"
     ]
    }
   ],
   "source": [
    "ls"
   ]
  },
  {
   "cell_type": "code",
   "execution_count": 39,
   "metadata": {
    "collapsed": false
   },
   "outputs": [
    {
     "name": "stdout",
     "output_type": "stream",
     "text": [
      "/Users/workspace/Hyperbolic-Embedding/local_resources/blogcatalog\n"
     ]
    }
   ],
   "source": [
    "cd ../../local_resources/blogcatalog/"
   ]
  },
  {
   "cell_type": "code",
   "execution_count": 40,
   "metadata": {
    "collapsed": false
   },
   "outputs": [
    {
     "name": "stdout",
     "output_type": "stream",
     "text": [
      "\u001b[31mX.p\u001b[m\u001b[m*                            \u001b[34membeddings\u001b[m\u001b[m/\r\n",
      "\u001b[31mblogcatalog.edgelist\u001b[m\u001b[m*           p025_q025_d128_walks.csv\r\n",
      "\u001b[31mblogcatalog.mat\u001b[m\u001b[m*                walks.csv\r\n",
      "blogcatalog128.emd              \u001b[31my.p\u001b[m\u001b[m*\r\n",
      "blogcatalog_p025_q025_d128.emd\r\n"
     ]
    }
   ],
   "source": [
    "ls"
   ]
  },
  {
   "cell_type": "code",
   "execution_count": 41,
   "metadata": {
    "collapsed": true
   },
   "outputs": [],
   "source": [
    "bc_labels = utils.read_pickle('y.p')"
   ]
  },
  {
   "cell_type": "code",
   "execution_count": 84,
   "metadata": {
    "collapsed": false
   },
   "outputs": [
    {
     "data": {
      "text/plain": [
       "14476.0"
      ]
     },
     "execution_count": 84,
     "metadata": {},
     "output_type": "execute_result"
    }
   ],
   "source": [
    "bc_labels.sum()"
   ]
  },
  {
   "cell_type": "code",
   "execution_count": null,
   "metadata": {
    "collapsed": true
   },
   "outputs": [],
   "source": []
  },
  {
   "cell_type": "code",
   "execution_count": 69,
   "metadata": {
    "collapsed": true
   },
   "outputs": [],
   "source": [
    "cat_sums = bc_labels.sum(axis=1)"
   ]
  },
  {
   "cell_type": "code",
   "execution_count": 73,
   "metadata": {
    "collapsed": false
   },
   "outputs": [],
   "source": [
    "single_class_vertices = np.where(cat_sums == 1)[0]"
   ]
  },
  {
   "cell_type": "code",
   "execution_count": 78,
   "metadata": {
    "collapsed": false
   },
   "outputs": [],
   "source": [
    "single_class_labels = bc_labels[single_class_vertices, :]"
   ]
  },
  {
   "cell_type": "code",
   "execution_count": 79,
   "metadata": {
    "collapsed": false
   },
   "outputs": [
    {
     "data": {
      "text/plain": [
       "matrix([[  60.,  481.,  352.,  116.,  597.,  504.,  347.,  970.,  209.,\n",
       "          221.,  231.,   21.,   30.,  165.,   32.,  234.,    0.,  177.,\n",
       "          432.,  184.,  182.,  126.,  212.,  514.,   87.,  173.,   58.,\n",
       "           48.,   91.,  173.,   35.,  179.,   44.,   26.,   29.,   66.,\n",
       "           34.,   17.,    3.]])"
      ]
     },
     "execution_count": 79,
     "metadata": {},
     "output_type": "execute_result"
    }
   ],
   "source": [
    "single_class_labels.sum(axis=0)"
   ]
  },
  {
   "cell_type": "code",
   "execution_count": null,
   "metadata": {
    "collapsed": true
   },
   "outputs": [],
   "source": []
  },
  {
   "cell_type": "code",
   "execution_count": null,
   "metadata": {
    "collapsed": true
   },
   "outputs": [],
   "source": []
  },
  {
   "cell_type": "code",
   "execution_count": 80,
   "metadata": {
    "collapsed": false
   },
   "outputs": [
    {
     "data": {
      "text/plain": [
       "matrix([[  167.,   778.,   619.,   246.,   908.,   876.,   610.,  1623.,\n",
       "           323.,   405.,   472.,    38.,   514.,   306.,    91.,   415.,\n",
       "           467.,   311.,   986.,   320.,   246.,   287.,   325.,   977.,\n",
       "           201.,   284.,    94.,   112.,   173.,   372.,    98.,   386.,\n",
       "            95.,    64.,    62.,   137.,    53.,    27.,     8.]])"
      ]
     },
     "execution_count": 80,
     "metadata": {},
     "output_type": "execute_result"
    }
   ],
   "source": [
    "bc_labels.sum(axis=0)"
   ]
  },
  {
   "cell_type": "code",
   "execution_count": 81,
   "metadata": {
    "collapsed": false
   },
   "outputs": [
    {
     "data": {
      "text/plain": [
       "matrix([[ 0.35928144,  0.61825193,  0.56865913,  0.47154472,  0.65748899,\n",
       "          0.57534247,  0.56885246,  0.59765866,  0.64705882,  0.54567901,\n",
       "          0.48940678,  0.55263158,  0.05836576,  0.53921569,  0.35164835,\n",
       "          0.56385542,  0.        ,  0.56913183,  0.43813387,  0.575     ,\n",
       "          0.7398374 ,  0.43902439,  0.65230769,  0.52610031,  0.43283582,\n",
       "          0.60915493,  0.61702128,  0.42857143,  0.52601156,  0.46505376,\n",
       "          0.35714286,  0.46373057,  0.46315789,  0.40625   ,  0.46774194,\n",
       "          0.48175182,  0.64150943,  0.62962963,  0.375     ]])"
      ]
     },
     "execution_count": 81,
     "metadata": {},
     "output_type": "execute_result"
    }
   ],
   "source": [
    "np.divide(single_class_labels.sum(axis=0), bc_labels.sum(axis=0))"
   ]
  },
  {
   "cell_type": "code",
   "execution_count": 77,
   "metadata": {
    "collapsed": false
   },
   "outputs": [
    {
     "data": {
      "text/plain": [
       "1.0"
      ]
     },
     "execution_count": 77,
     "metadata": {},
     "output_type": "execute_result"
    }
   ],
   "source": [
    "cat_sums[single_class_vertices, :].min()"
   ]
  },
  {
   "cell_type": "code",
   "execution_count": 42,
   "metadata": {
    "collapsed": false
   },
   "outputs": [
    {
     "data": {
      "text/plain": [
       "scipy.sparse.csc.csc_matrix"
      ]
     },
     "execution_count": 42,
     "metadata": {},
     "output_type": "execute_result"
    }
   ],
   "source": [
    "type(bc_labels)"
   ]
  },
  {
   "cell_type": "code",
   "execution_count": 43,
   "metadata": {
    "collapsed": false
   },
   "outputs": [
    {
     "data": {
      "text/plain": [
       "(10312, 39)"
      ]
     },
     "execution_count": 43,
     "metadata": {},
     "output_type": "execute_result"
    }
   ],
   "source": [
    "bc_labels.shape"
   ]
  },
  {
   "cell_type": "code",
   "execution_count": 44,
   "metadata": {
    "collapsed": true
   },
   "outputs": [],
   "source": [
    "label_sum = bc_labels.sum(axis=0)"
   ]
  },
  {
   "cell_type": "code",
   "execution_count": 46,
   "metadata": {
    "collapsed": false
   },
   "outputs": [
    {
     "data": {
      "text/plain": [
       "matrix([[  167.,   778.,   619.,   246.,   908.,   876.,   610.,  1623.,\n",
       "           323.,   405.,   472.,    38.,   514.,   306.,    91.,   415.,\n",
       "           467.,   311.,   986.,   320.,   246.,   287.,   325.,   977.,\n",
       "           201.,   284.,    94.,   112.,   173.,   372.,    98.,   386.,\n",
       "            95.,    64.,    62.,   137.,    53.,    27.,     8.]])"
      ]
     },
     "execution_count": 46,
     "metadata": {},
     "output_type": "execute_result"
    }
   ],
   "source": [
    "label_sum"
   ]
  },
  {
   "cell_type": "code",
   "execution_count": 51,
   "metadata": {
    "collapsed": true
   },
   "outputs": [],
   "source": [
    "kept_labels = bc_labels[:, 32:]"
   ]
  },
  {
   "cell_type": "code",
   "execution_count": 52,
   "metadata": {
    "collapsed": false
   },
   "outputs": [
    {
     "data": {
      "text/plain": [
       "(10312, 7)"
      ]
     },
     "execution_count": 52,
     "metadata": {},
     "output_type": "execute_result"
    }
   ],
   "source": [
    "kept_labels.shape"
   ]
  },
  {
   "cell_type": "code",
   "execution_count": 59,
   "metadata": {
    "collapsed": false
   },
   "outputs": [],
   "source": [
    "lab_sums = kept_labels.sum(axis=1)"
   ]
  },
  {
   "cell_type": "code",
   "execution_count": 66,
   "metadata": {
    "collapsed": false
   },
   "outputs": [],
   "source": [
    "idx = np.where(lab_sums > 0)[0]"
   ]
  },
  {
   "cell_type": "code",
   "execution_count": 68,
   "metadata": {
    "collapsed": false
   },
   "outputs": [
    {
     "data": {
      "text/plain": [
       "matrix([[  12.,   12.,   17.,    8.,   24.,   31.,   24.,   32.,   10.,\n",
       "            7.,   21.,    1.,   33.,   13.,    3.,   14.,   30.,    9.,\n",
       "           16.,    8.,    3.,    4.,    6.,   17.,    8.,   10.,    2.,\n",
       "            7.,    7.,    8.,    6.,   15.,   95.,   64.,   62.,  137.,\n",
       "           53.,   27.,    8.]])"
      ]
     },
     "execution_count": 68,
     "metadata": {},
     "output_type": "execute_result"
    }
   ],
   "source": [
    "bc_labels[idx, :].sum(axis=0)"
   ]
  },
  {
   "cell_type": "code",
   "execution_count": 65,
   "metadata": {
    "collapsed": false
   },
   "outputs": [
    {
     "data": {
      "text/plain": [
       "(array([   13,    38,    82,    99,   102,   116,   151,   203,   206,\n",
       "          210,   220,   233,   259,   282,   294,   319,   409,   433,\n",
       "          446,   481,   544,   559,   564,   653,   678,   690,   712,\n",
       "          717,   778,   785,   804,   860,   864,   872,   896,   913,\n",
       "          916,   943,   945,   986,   997,  1022,  1052,  1061,  1132,\n",
       "         1158,  1187,  1221,  1249,  1286,  1335,  1343,  1378,  1464,\n",
       "         1538,  1541,  1549,  1554,  1578,  1612,  1723,  1761,  1768,\n",
       "         1850,  1860,  1865,  1868,  1891,  1961,  2086,  2212,  2234,\n",
       "         2261,  2267,  2337,  2381,  2405,  2507,  2523,  2530,  2537,\n",
       "         2552,  2636,  2663,  2704,  2709,  2715,  2718,  2728,  2730,\n",
       "         2850,  2922,  2926,  2943,  2949,  2950,  2989,  3036,  3044,\n",
       "         3061,  3070,  3127,  3139,  3140,  3158,  3183,  3193,  3206,\n",
       "         3214,  3235,  3264,  3322,  3388,  3389,  3407,  3421,  3432,\n",
       "         3450,  3453,  3470,  3621,  3689,  3694,  3703,  3724,  3737,\n",
       "         3741,  3756,  3759,  3780,  3792,  3795,  3796,  3817,  3885,\n",
       "         3889,  3899,  3905,  3911,  3934,  3971,  3993,  4044,  4080,\n",
       "         4112,  4116,  4138,  4148,  4158,  4168,  4185,  4190,  4211,\n",
       "         4239,  4266,  4287,  4290,  4315,  4316,  4349,  4451,  4464,\n",
       "         4466,  4473,  4482,  4515,  4540,  4572,  4660,  4689,  4707,\n",
       "         4708,  4740,  4773,  4780,  4789,  4793,  4830,  4935,  5021,\n",
       "         5043,  5060,  5090,  5128,  5181,  5195,  5333,  5436,  5468,\n",
       "         5474,  5483,  5512,  5544,  5588,  5622,  5634,  5637,  5638,\n",
       "         5653,  5663,  5678,  5704,  5733,  5742,  5917,  5928,  5929,\n",
       "         5936,  6015,  6032,  6083,  6102,  6125,  6164,  6193,  6212,\n",
       "         6263,  6305,  6318,  6321,  6326,  6330,  6333,  6337,  6362,\n",
       "         6383,  6388,  6394,  6400,  6403,  6425,  6460,  6494,  6499,\n",
       "         6548,  6579,  6594,  6610,  6654,  6677,  6681,  6688,  6690,\n",
       "         6700,  6725,  6750,  6757,  6791,  6797,  6812,  6824,  6859,\n",
       "         6925,  6951,  6954,  6982,  6988,  7005,  7071,  7077,  7137,\n",
       "         7142,  7180,  7213,  7214,  7248,  7264,  7281,  7291,  7314,\n",
       "         7326,  7397,  7400,  7416,  7452,  7457,  7458,  7469,  7472,\n",
       "         7553,  7558,  7566,  7573,  7575,  7580,  7627,  7628,  7650,\n",
       "         7657,  7676,  7679,  7680,  7693,  7708,  7722,  7729,  7737,\n",
       "         7758,  7812,  7848,  7858,  7885,  7886,  7913,  7950,  7978,\n",
       "         7998,  8006,  8009,  8029,  8050,  8086,  8101,  8113,  8181,\n",
       "         8184,  8199,  8205,  8212,  8217,  8224,  8273,  8276,  8348,\n",
       "         8352,  8355,  8371,  8423,  8431,  8440,  8451,  8482,  8483,\n",
       "         8498,  8501,  8503,  8526,  8531,  8571,  8606,  8620,  8621,\n",
       "         8631,  8633,  8717,  8733,  8737,  8753,  8775,  8811,  8856,\n",
       "         8866,  8869,  8873,  8891,  8910,  8916,  8936,  8948,  8963,\n",
       "         8975,  8993,  9052,  9080,  9133,  9134,  9204,  9294,  9295,\n",
       "         9305,  9351,  9352,  9359,  9367,  9372,  9373,  9375,  9384,\n",
       "         9387,  9416,  9453,  9458,  9504,  9505,  9509,  9513,  9529,\n",
       "         9544,  9547,  9567,  9603,  9617,  9638,  9662,  9676,  9694,\n",
       "         9715,  9717,  9750,  9768,  9769,  9791,  9797,  9802,  9823,\n",
       "         9851,  9860,  9863,  9891,  9893,  9895,  9904,  9914,  9922,\n",
       "         9963,  9985,  9987,  9992, 10003, 10021, 10032, 10038, 10041,\n",
       "        10060, 10088, 10090, 10096, 10109, 10153, 10171, 10177, 10218,\n",
       "        10246, 10263, 10280, 10310]),\n",
       " array([0, 0, 0, 0, 0, 0, 0, 0, 0, 0, 0, 0, 0, 0, 0, 0, 0, 0, 0, 0, 0, 0, 0,\n",
       "        0, 0, 0, 0, 0, 0, 0, 0, 0, 0, 0, 0, 0, 0, 0, 0, 0, 0, 0, 0, 0, 0, 0,\n",
       "        0, 0, 0, 0, 0, 0, 0, 0, 0, 0, 0, 0, 0, 0, 0, 0, 0, 0, 0, 0, 0, 0, 0,\n",
       "        0, 0, 0, 0, 0, 0, 0, 0, 0, 0, 0, 0, 0, 0, 0, 0, 0, 0, 0, 0, 0, 0, 0,\n",
       "        0, 0, 0, 0, 0, 0, 0, 0, 0, 0, 0, 0, 0, 0, 0, 0, 0, 0, 0, 0, 0, 0, 0,\n",
       "        0, 0, 0, 0, 0, 0, 0, 0, 0, 0, 0, 0, 0, 0, 0, 0, 0, 0, 0, 0, 0, 0, 0,\n",
       "        0, 0, 0, 0, 0, 0, 0, 0, 0, 0, 0, 0, 0, 0, 0, 0, 0, 0, 0, 0, 0, 0, 0,\n",
       "        0, 0, 0, 0, 0, 0, 0, 0, 0, 0, 0, 0, 0, 0, 0, 0, 0, 0, 0, 0, 0, 0, 0,\n",
       "        0, 0, 0, 0, 0, 0, 0, 0, 0, 0, 0, 0, 0, 0, 0, 0, 0, 0, 0, 0, 0, 0, 0,\n",
       "        0, 0, 0, 0, 0, 0, 0, 0, 0, 0, 0, 0, 0, 0, 0, 0, 0, 0, 0, 0, 0, 0, 0,\n",
       "        0, 0, 0, 0, 0, 0, 0, 0, 0, 0, 0, 0, 0, 0, 0, 0, 0, 0, 0, 0, 0, 0, 0,\n",
       "        0, 0, 0, 0, 0, 0, 0, 0, 0, 0, 0, 0, 0, 0, 0, 0, 0, 0, 0, 0, 0, 0, 0,\n",
       "        0, 0, 0, 0, 0, 0, 0, 0, 0, 0, 0, 0, 0, 0, 0, 0, 0, 0, 0, 0, 0, 0, 0,\n",
       "        0, 0, 0, 0, 0, 0, 0, 0, 0, 0, 0, 0, 0, 0, 0, 0, 0, 0, 0, 0, 0, 0, 0,\n",
       "        0, 0, 0, 0, 0, 0, 0, 0, 0, 0, 0, 0, 0, 0, 0, 0, 0, 0, 0, 0, 0, 0, 0,\n",
       "        0, 0, 0, 0, 0, 0, 0, 0, 0, 0, 0, 0, 0, 0, 0, 0, 0, 0, 0, 0, 0, 0, 0,\n",
       "        0, 0, 0, 0, 0, 0, 0, 0, 0, 0, 0, 0, 0, 0, 0, 0, 0, 0, 0, 0, 0, 0, 0,\n",
       "        0, 0, 0, 0, 0, 0, 0, 0, 0, 0, 0, 0, 0, 0, 0, 0, 0, 0, 0, 0, 0, 0, 0,\n",
       "        0, 0, 0, 0, 0, 0, 0, 0, 0, 0, 0, 0, 0, 0, 0, 0, 0, 0, 0, 0, 0, 0]))"
      ]
     },
     "execution_count": 65,
     "metadata": {},
     "output_type": "execute_result"
    }
   ],
   "source": [
    "idx"
   ]
  },
  {
   "cell_type": "code",
   "execution_count": 82,
   "metadata": {
    "collapsed": false
   },
   "outputs": [
    {
     "data": {
      "text/plain": [
       "436"
      ]
     },
     "execution_count": 82,
     "metadata": {},
     "output_type": "execute_result"
    }
   ],
   "source": [
    "len(idx)"
   ]
  },
  {
   "cell_type": "code",
   "execution_count": null,
   "metadata": {
    "collapsed": true
   },
   "outputs": [],
   "source": []
  },
  {
   "cell_type": "code",
   "execution_count": 31,
   "metadata": {
    "collapsed": false
   },
   "outputs": [
    {
     "data": {
      "text/plain": [
       "array([2852])"
      ]
     },
     "execution_count": 31,
     "metadata": {},
     "output_type": "execute_result"
    }
   ],
   "source": [
    "sum(np.array(label_sum) > 1)"
   ]
  },
  {
   "cell_type": "code",
   "execution_count": 32,
   "metadata": {
    "collapsed": false
   },
   "outputs": [
    {
     "data": {
      "text/plain": [
       "7459"
      ]
     },
     "execution_count": 32,
     "metadata": {},
     "output_type": "execute_result"
    }
   ],
   "source": [
    "10312 - 2853"
   ]
  },
  {
   "cell_type": "code",
   "execution_count": 51,
   "metadata": {
    "collapsed": false
   },
   "outputs": [],
   "source": [
    "temp = np.array(bc_labels.todense())"
   ]
  },
  {
   "cell_type": "code",
   "execution_count": 52,
   "metadata": {
    "collapsed": false
   },
   "outputs": [
    {
     "data": {
      "text/plain": [
       "(10312, 39)"
      ]
     },
     "execution_count": 52,
     "metadata": {},
     "output_type": "execute_result"
    }
   ],
   "source": [
    "temp.shape"
   ]
  },
  {
   "cell_type": "code",
   "execution_count": 103,
   "metadata": {
    "collapsed": true
   },
   "outputs": [],
   "source": [
    "\n",
    "x = bc_labels.nonzero()"
   ]
  },
  {
   "cell_type": "code",
   "execution_count": 2,
   "metadata": {
    "collapsed": true
   },
   "outputs": [],
   "source": [
    "%matplotlib inline"
   ]
  },
  {
   "cell_type": "code",
   "execution_count": 4,
   "metadata": {
    "collapsed": true
   },
   "outputs": [],
   "source": [
    "from numpy import arange\n",
    "from matplotlib import pyplot as plt\n",
    "from matplotlib import cm\n",
    "from matplotlib.colors import LinearSegmentedColormap"
   ]
  },
  {
   "cell_type": "code",
   "execution_count": 7,
   "metadata": {
    "collapsed": false
   },
   "outputs": [
    {
     "name": "stdout",
     "output_type": "stream",
     "text": [
      "/Users/workspace/Hyperbolic-Embedding/src/python\n"
     ]
    }
   ],
   "source": [
    "cd ../python/"
   ]
  },
  {
   "cell_type": "code",
   "execution_count": null,
   "metadata": {
    "collapsed": true
   },
   "outputs": [],
   "source": []
  },
  {
   "cell_type": "code",
   "execution_count": 28,
   "metadata": {
    "collapsed": true
   },
   "outputs": [],
   "source": [
    "x = np.random.rand(10)\n",
    "y = np.random.rand(10)\n",
    "label = np.array([1,1,3,5,5,3,6,5,6,9])"
   ]
  },
  {
   "cell_type": "code",
   "execution_count": 29,
   "metadata": {
    "collapsed": false
   },
   "outputs": [
    {
     "name": "stdout",
     "output_type": "stream",
     "text": [
      "(10, 4)\n",
      "[[ 0.          0.          0.99910873  1.        ]\n",
      " [ 0.          0.          0.99910873  1.        ]\n",
      " [ 0.          0.83333333  1.          1.        ]\n",
      " [ 0.66729918  1.          0.30044276  1.        ]\n",
      " [ 0.66729918  1.          0.30044276  1.        ]\n",
      " [ 0.          0.83333333  1.          1.        ]\n",
      " [ 1.          0.90123457  0.          1.        ]\n",
      " [ 0.66729918  1.          0.30044276  1.        ]\n",
      " [ 1.          0.90123457  0.          1.        ]\n",
      " [ 0.5         0.          0.          1.        ]]\n",
      "10 10\n"
     ]
    },
    {
     "data": {
      "image/png": "[encoded data removed]",
      "text/plain": [
       "<matplotlib.figure.Figure at 0x211126a10>"
      ]
     },
     "metadata": {},
     "output_type": "display_data"
    }
   ],
   "source": [
    "N = len(label)\n",
    "\n",
    "# =================\n",
    "## custom colormap:\n",
    "\n",
    "# red-green colormap:\n",
    "cdict = {'red':   [(0.0, 1.0, 1.0),  # red decreases\n",
    "                   (1.0, 0.0, 0.0)],\n",
    "\n",
    "         'green': [(0.0, 0.0, 0.0),  # green increases\n",
    "                   (1.0, 1.0, 1.0)],\n",
    "\n",
    "         'blue':  [(0.0, 0.0, 0.0),  # no blue at all\n",
    "                   (1.0, 0.0, 0.0)]}\n",
    "\n",
    "red_green_cm = LinearSegmentedColormap('RedGreen', cdict, N)\n",
    "\n",
    "\n",
    "# ======\n",
    "## plot:\n",
    "start = 0.0\n",
    "stop = 1.0\n",
    "cm_subsection = linspace(start, stop, N) \n",
    "\n",
    "colors = np.array([ cm.jet(idx) for idx in cm_subsection ])\n",
    "\n",
    "\n",
    "\n",
    "# colors = cm.get_cmap(red_green_cm, N)\n",
    "\n",
    "fig = plt.figure()\n",
    "ax = fig.add_subplot(111)\n",
    "\n",
    "print colors.shape\n",
    "cols = colors[label, :]\n",
    "\n",
    "print cols\n",
    "\n",
    "print len(x), len(y)\n",
    "plt.scatter(x,y,color=colors[label, :])\n",
    "\n",
    "# # each line is of its own color:\n",
    "# for i, x in enumerate(data):\n",
    "#     ax.plot(data, data*x, color=colors(i))\n",
    "plt.show()"
   ]
  },
  {
   "cell_type": "code",
   "execution_count": 16,
   "metadata": {
    "collapsed": false
   },
   "outputs": [
    {
     "data": {
      "image/png": "[encoded data removed]",
      "text/plain": [
       "<matplotlib.figure.Figure at 0x20eb56850>"
      ]
     },
     "metadata": {},
     "output_type": "display_data"
    }
   ],
   "source": [
    "import matplotlib.pyplot as plt\n",
    "\n",
    "from matplotlib import cm\n",
    "from numpy import linspace\n",
    "\n",
    "start = 0.0\n",
    "stop = 1.0\n",
    "number_of_lines= 1000\n",
    "cm_subsection = linspace(start, stop, number_of_lines) \n",
    "\n",
    "colors = [ cm.jet(x) for x in cm_subsection ]\n",
    "\n",
    "for i, color in enumerate(colors):\n",
    "    plt.axhline(i, color=color)\n",
    "\n",
    "plt.ylabel('Line Number')\n",
    "plt.show()"
   ]
  },
  {
   "cell_type": "code",
   "execution_count": 5,
   "metadata": {
    "collapsed": false
   },
   "outputs": [
    {
     "name": "stdout",
     "output_type": "stream",
     "text": [
      "experiments.py             preprocessing.pyc\r\n",
      "hyperbolic_embedding.py    run_detectors.py\r\n",
      "hyperbolic_embedding.pyc   run_detectors.pyc\r\n",
      "multilabel_detectors.py    test.py\r\n",
      "multilabel_detectors.pyc   utils.py\r\n",
      "multilabel_evaluation.py   utils.pyc\r\n",
      "multilabel_evaluation.pyc  visualisation.py\r\n",
      "preprocessing.py           visualisation.pyc\r\n"
     ]
    }
   ],
   "source": [
    "ls"
   ]
  },
  {
   "cell_type": "code",
   "execution_count": 15,
   "metadata": {
    "collapsed": false
   },
   "outputs": [
    {
     "data": {
      "text/plain": [
       "0.46211715726000974"
      ]
     },
     "execution_count": 15,
     "metadata": {},
     "output_type": "execute_result"
    }
   ],
   "source": [
    "np.tanh(0.5)"
   ]
  },
  {
   "cell_type": "code",
   "execution_count": null,
   "metadata": {
    "collapsed": true
   },
   "outputs": [],
   "source": []
  }
 ],
 "metadata": {
  "kernelspec": {
   "display_name": "Python 2",
   "language": "python",
   "name": "python2"
  },
  "language_info": {
   "codemirror_mode": {
    "name": "ipython",
    "version": 2
   },
   "file_extension": ".py",
   "mimetype": "text/x-python",
   "name": "python",
   "nbconvert_exporter": "python",
   "pygments_lexer": "ipython2",
   "version": "2.7.12"
  }
 },
 "nbformat": 4,
 "nbformat_minor": 1
}
