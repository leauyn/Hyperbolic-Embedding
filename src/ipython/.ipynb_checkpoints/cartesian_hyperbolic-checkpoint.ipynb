{
 "cells": [
  {
   "cell_type": "code",
   "execution_count": 1,
   "metadata": {
    "collapsed": true
   },
   "outputs": [],
   "source": [
    "import tensorflow as tf\n",
    "import math"
   ]
  },
  {
   "cell_type": "code",
   "execution_count": 110,
   "metadata": {
    "collapsed": true
   },
   "outputs": [],
   "source": [
    "import utils"
   ]
  },
  {
   "cell_type": "code",
   "execution_count": 6,
   "metadata": {
    "collapsed": false
   },
   "outputs": [],
   "source": [
    "data = np.random.rand(5,3)"
   ]
  },
  {
   "cell_type": "code",
   "execution_count": 15,
   "metadata": {
    "collapsed": false
   },
   "outputs": [],
   "source": [
    "np_norms = np.linalg.norm(data,axis=0)"
   ]
  },
  {
   "cell_type": "code",
   "execution_count": 17,
   "metadata": {
    "collapsed": false
   },
   "outputs": [
    {
     "data": {
      "text/plain": [
       "array([ 1.13334822,  1.37877002,  1.0132657 ])"
      ]
     },
     "execution_count": 17,
     "metadata": {},
     "output_type": "execute_result"
    }
   ],
   "source": [
    "np_norms"
   ]
  },
  {
   "cell_type": "code",
   "execution_count": 16,
   "metadata": {
    "collapsed": false
   },
   "outputs": [
    {
     "data": {
      "text/plain": [
       "array([ 1.28447819,  1.90100676,  1.02670739])"
      ]
     },
     "execution_count": 16,
     "metadata": {},
     "output_type": "execute_result"
    }
   ],
   "source": [
    "np.square(np_norms)"
   ]
  },
  {
   "cell_type": "code",
   "execution_count": 7,
   "metadata": {
    "collapsed": false
   },
   "outputs": [],
   "source": [
    "emb = tf.Variable(data)"
   ]
  },
  {
   "cell_type": "code",
   "execution_count": 21,
   "metadata": {
    "collapsed": true
   },
   "outputs": [],
   "source": [
    "normed = tf.norm(emb, axis=0)\n",
    "squared_norm = tf.square(normed)\n",
    "mul_test = tf.mu"
   ]
  },
  {
   "cell_type": "code",
   "execution_count": 90,
   "metadata": {
    "collapsed": true
   },
   "outputs": [],
   "source": [
    "def conditional_assignment(tensor, epsilon):\n",
    "    norms = tf.norm(tensor, axis=1)\n",
    "    comparison = tf.greater(norms, tf.constant(1.0, dtype=tf.float64))\n",
    "    norm = tf.nn.l2_normalize(tensor, dim=1) - epsilon\n",
    "    conditional_assignment_op = tensor.assign( tf.where (comparison, norm, tensor) )\n",
    "    return conditional_assignment_op"
   ]
  },
  {
   "cell_type": "code",
   "execution_count": 91,
   "metadata": {
    "collapsed": false
   },
   "outputs": [],
   "source": [
    "sess = tf.Session()\n",
    "init = tf.global_variables_initializer()\n",
    "sess.run(init)"
   ]
  },
  {
   "cell_type": "code",
   "execution_count": 92,
   "metadata": {
    "collapsed": false
   },
   "outputs": [
    {
     "data": {
      "text/plain": [
       "[array([[ 0.03623995,  0.44508567,  0.02048884],\n",
       "        [ 0.4602401 ,  0.39136815,  0.36021053],\n",
       "        [ 0.15474701,  0.93211269,  0.61143239],\n",
       "        [ 0.77896091,  0.16941624,  0.62904565],\n",
       "        [ 0.66379   ,  0.80758934,  0.35635371]]),\n",
       " array([ 0.44702838,  0.70337871,  1.1254467 ,  1.01547053,  1.10444814])]"
      ]
     },
     "execution_count": 92,
     "metadata": {},
     "output_type": "execute_result"
    }
   ],
   "source": [
    "sess.run([emb, tf.norm(emb, axis=1)])"
   ]
  },
  {
   "cell_type": "code",
   "execution_count": 94,
   "metadata": {
    "collapsed": false
   },
   "outputs": [
    {
     "data": {
      "text/plain": [
       "[array([[ 0.03623995,  0.44508567,  0.02048884],\n",
       "        [ 0.4602401 ,  0.39136815,  0.36021053],\n",
       "        [ 0.13749692,  0.82820748,  0.5432743 ],\n",
       "        [ 0.7670859 ,  0.16683354,  0.61945605],\n",
       "        [ 0.60100908,  0.73120796,  0.32264996]])]"
      ]
     },
     "execution_count": 94,
     "metadata": {},
     "output_type": "execute_result"
    }
   ],
   "source": [
    "sess.run([tf.clip_by_norm(emb, 1-0.00001, axes=1)])"
   ]
  },
  {
   "cell_type": "code",
   "execution_count": 89,
   "metadata": {
    "collapsed": false
   },
   "outputs": [
    {
     "data": {
      "text/plain": [
       "[array([[ 0.03623995,  0.44508567,  0.02048884],\n",
       "        [ 0.4602401 ,  0.39136815,  0.36021053],\n",
       "        [ 0.1374883 ,  0.82820576,  0.54326974],\n",
       "        [ 0.76708357,  0.16682521,  0.61945224],\n",
       "        [ 0.60100509,  0.73120527,  0.32264319]])]"
      ]
     },
     "execution_count": 89,
     "metadata": {},
     "output_type": "execute_result"
    }
   ],
   "source": [
    "# sess.run([squared_norm, emb])\n",
    "sess.run([conditional_assignment(emb, 0.00001)])"
   ]
  },
  {
   "cell_type": "code",
   "execution_count": 83,
   "metadata": {
    "collapsed": false
   },
   "outputs": [
    {
     "data": {
      "text/plain": [
       "[array([False, False, False, False, False], dtype=bool)]"
      ]
     },
     "execution_count": 83,
     "metadata": {},
     "output_type": "execute_result"
    }
   ],
   "source": [
    "sess.run([tf.greater(tf.norm(emb, axis=1), tf.constant(1.0, dtype=tf.float64))])"
   ]
  },
  {
   "cell_type": "code",
   "execution_count": 84,
   "metadata": {
    "collapsed": false
   },
   "outputs": [
    {
     "data": {
      "text/plain": [
       "[array([ 0.44702838,  0.70337871,  0.99998491,  0.99998447,  0.99998345])]"
      ]
     },
     "execution_count": 84,
     "metadata": {},
     "output_type": "execute_result"
    }
   ],
   "source": [
    "sess.run([tf.norm(emb, axis=1)])"
   ]
  },
  {
   "cell_type": "code",
   "execution_count": 85,
   "metadata": {
    "collapsed": false
   },
   "outputs": [
    {
     "data": {
      "text/plain": [
       "[array([[ 0.03623995,  0.44508567,  0.02048884],\n",
       "        [ 0.4602401 ,  0.39136815,  0.36021053],\n",
       "        [ 0.1374883 ,  0.82820576,  0.54326974],\n",
       "        [ 0.76708357,  0.16682521,  0.61945224],\n",
       "        [ 0.60100509,  0.73120527,  0.32264319]])]"
      ]
     },
     "execution_count": 85,
     "metadata": {},
     "output_type": "execute_result"
    }
   ],
   "source": [
    "sess.run([emb])"
   ]
  },
  {
   "cell_type": "code",
   "execution_count": 65,
   "metadata": {
    "collapsed": false
   },
   "outputs": [
    {
     "data": {
      "text/plain": [
       "[array([[ 0.03623995,  0.44508567,  0.02048884],\n",
       "        [ 0.4602401 ,  0.39136815,  0.36021053],\n",
       "        [ 0.        ,  0.        ,  0.        ],\n",
       "        [ 0.        ,  0.        ,  0.        ],\n",
       "        [ 0.        ,  0.        ,  0.        ]])]"
      ]
     },
     "execution_count": 65,
     "metadata": {},
     "output_type": "execute_result"
    }
   ],
   "source": [
    "sess.run([conditional_assignment(emb)])"
   ]
  },
  {
   "cell_type": "code",
   "execution_count": 97,
   "metadata": {
    "collapsed": false
   },
   "outputs": [
    {
     "name": "stdout",
     "output_type": "stream",
     "text": [
      "ProductViewEmbeddingExploration.ipynb   plot line graphs with errors.ipynb\r\n",
      "ProductViewer.ipynb                     polar embedding.ipynb\r\n",
      "Untitled.ipynb                          read gml file.ipynb\r\n",
      "cartesian_hyperbolic.ipynb              read gml.ipynb\r\n",
      "euclidean_embedding_forward_pass.ipynb  tf_grad_intercept.ipynb\r\n",
      "hyp_embedding_forward_pass.ipynb        \u001b[34mtf_logs\u001b[m\u001b[m/\r\n",
      "hyperbolic_embedding.ipynb              theta_grad_debug.ipynb\r\n"
     ]
    }
   ],
   "source": [
    "ls"
   ]
  },
  {
   "cell_type": "code",
   "execution_count": 98,
   "metadata": {
    "collapsed": false
   },
   "outputs": [
    {
     "name": "stdout",
     "output_type": "stream",
     "text": [
      "/Users/workspace/Hyperbolic-Embedding/results\n"
     ]
    }
   ],
   "source": [
    "cd ../../results/"
   ]
  },
  {
   "cell_type": "code",
   "execution_count": 99,
   "metadata": {
    "collapsed": false
   },
   "outputs": [
    {
     "name": "stdout",
     "output_type": "stream",
     "text": [
      "README.md               \u001b[34mblogcatalog_121_sample\u001b[m\u001b[m/ \u001b[34mpolbooks\u001b[m\u001b[m/\r\n",
      "\u001b[34madjnoun\u001b[m\u001b[m/                \u001b[34mflickr\u001b[m\u001b[m/                 \u001b[34mpolitical_blogs\u001b[m\u001b[m/\r\n",
      "\u001b[34mall\u001b[m\u001b[m/                    \u001b[34mfootball\u001b[m\u001b[m/               \u001b[34myoutube\u001b[m\u001b[m/\r\n",
      "\u001b[34mblogcatalog\u001b[m\u001b[m/            \u001b[34mkarate\u001b[m\u001b[m/\r\n"
     ]
    }
   ],
   "source": [
    "ls"
   ]
  },
  {
   "cell_type": "code",
   "execution_count": 100,
   "metadata": {
    "collapsed": false
   },
   "outputs": [
    {
     "name": "stdout",
     "output_type": "stream",
     "text": [
      "/Users/workspace/Hyperbolic-Embedding/results/all\n"
     ]
    }
   ],
   "source": [
    "cd all"
   ]
  },
  {
   "cell_type": "code",
   "execution_count": 101,
   "metadata": {
    "collapsed": false
   },
   "outputs": [
    {
     "name": "stdout",
     "output_type": "stream",
     "text": [
      "adjnoun_errors.csv          karate_means.csv\r\n",
      "adjnoun_means.csv           \u001b[34mlineplots\u001b[m\u001b[m/\r\n",
      "\u001b[34membedding_figs\u001b[m\u001b[m/             polbooks_errors.csv\r\n",
      "football_errors.csv         polbooks_means.csv\r\n",
      "football_means.csv          political_blogs_errors.csv\r\n",
      "karate_errors.csv           political_blogs_means.csv\r\n"
     ]
    }
   ],
   "source": [
    "ls"
   ]
  },
  {
   "cell_type": "code",
   "execution_count": 102,
   "metadata": {
    "collapsed": false
   },
   "outputs": [
    {
     "name": "stdout",
     "output_type": "stream",
     "text": [
      "/Users/workspace/Hyperbolic-Embedding/results\n"
     ]
    }
   ],
   "source": [
    "cd .."
   ]
  },
  {
   "cell_type": "code",
   "execution_count": 103,
   "metadata": {
    "collapsed": false
   },
   "outputs": [
    {
     "name": "stdout",
     "output_type": "stream",
     "text": [
      "README.md               \u001b[34mblogcatalog_121_sample\u001b[m\u001b[m/ \u001b[34mpolbooks\u001b[m\u001b[m/\r\n",
      "\u001b[34madjnoun\u001b[m\u001b[m/                \u001b[34mflickr\u001b[m\u001b[m/                 \u001b[34mpolitical_blogs\u001b[m\u001b[m/\r\n",
      "\u001b[34mall\u001b[m\u001b[m/                    \u001b[34mfootball\u001b[m\u001b[m/               \u001b[34myoutube\u001b[m\u001b[m/\r\n",
      "\u001b[34mblogcatalog\u001b[m\u001b[m/            \u001b[34mkarate\u001b[m\u001b[m/\r\n"
     ]
    }
   ],
   "source": [
    "ls"
   ]
  },
  {
   "cell_type": "code",
   "execution_count": 104,
   "metadata": {
    "collapsed": false
   },
   "outputs": [
    {
     "name": "stdout",
     "output_type": "stream",
     "text": [
      "/Users/workspace/Hyperbolic-Embedding/results/football\n"
     ]
    }
   ],
   "source": [
    "cd football/"
   ]
  },
  {
   "cell_type": "code",
   "execution_count": 105,
   "metadata": {
    "collapsed": false
   },
   "outputs": [
    {
     "name": "stdout",
     "output_type": "stream",
     "text": [
      "\u001b[34mfigs\u001b[m\u001b[m/                       micro20170518-093531.csv\r\n",
      "macro20170518-082608.csv    micro20170518-102429.csv\r\n",
      "macro20170518-093133.csv    micro20170518-102728.csv\r\n",
      "macro20170518-093531.csv    pvalues20170518-082608.csv\r\n",
      "macro20170518-102429.csv    pvalues20170518-093133.csv\r\n",
      "macro20170518-102728.csv    pvalues20170518-093531.csv\r\n",
      "micro20170518-082608.csv    pvalues20170518-102429.csv\r\n",
      "micro20170518-093133.csv    pvalues20170518-102728.csv\r\n"
     ]
    }
   ],
   "source": [
    "ls"
   ]
  },
  {
   "cell_type": "code",
   "execution_count": 111,
   "metadata": {
    "collapsed": false
   },
   "outputs": [
    {
     "name": "stdout",
     "output_type": "stream",
     "text": [
      "/Users/workspace/Hyperbolic-Embedding/local_resources/football\n"
     ]
    }
   ],
   "source": [
    "cd ../../local_resources/football/"
   ]
  },
  {
   "cell_type": "code",
   "execution_count": 112,
   "metadata": {
    "collapsed": false
   },
   "outputs": [
    {
     "name": "stdout",
     "output_type": "stream",
     "text": [
      "X.p               football.txt      football32.emd    walks_n1_l10.csv\r\n",
      "\u001b[34mdeepwalk_figs\u001b[m\u001b[m/    football128.emd   football4.emd     y.p\r\n",
      "\u001b[34membeddings\u001b[m\u001b[m/       football16.emd    football64.emd\r\n",
      "football.gml      football2.emd     football8.emd\r\n"
     ]
    }
   ],
   "source": [
    "ls"
   ]
  },
  {
   "cell_type": "code",
   "execution_count": null,
   "metadata": {
    "collapsed": true
   },
   "outputs": [],
   "source": []
  }
 ],
 "metadata": {
  "kernelspec": {
   "display_name": "Python 2",
   "language": "python",
   "name": "python2"
  },
  "language_info": {
   "codemirror_mode": {
    "name": "ipython",
    "version": 2
   },
   "file_extension": ".py",
   "mimetype": "text/x-python",
   "name": "python",
   "nbconvert_exporter": "python",
   "pygments_lexer": "ipython2",
   "version": "2.7.12"
  }
 },
 "nbformat": 4,
 "nbformat_minor": 1
}
