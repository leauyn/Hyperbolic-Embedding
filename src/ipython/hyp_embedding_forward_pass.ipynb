{
 "cells": [
  {
   "cell_type": "code",
   "execution_count": 374,
   "metadata": {
    "collapsed": true
   },
   "outputs": [],
   "source": [
    "import tensorflow as tf"
   ]
  },
  {
   "cell_type": "code",
   "execution_count": 406,
   "metadata": {
    "collapsed": true
   },
   "outputs": [],
   "source": [
    "import math\n",
    "import numpy as np"
   ]
  },
  {
   "cell_type": "code",
   "execution_count": 376,
   "metadata": {
    "collapsed": true
   },
   "outputs": [],
   "source": [
    "def arctanh(x):\n",
    "    return tf.log(tf.divide(1+x,1-x))"
   ]
  },
  {
   "cell_type": "markdown",
   "metadata": {},
   "source": [
    "Initialise all of the variables"
   ]
  },
  {
   "cell_type": "code",
   "execution_count": 377,
   "metadata": {
    "collapsed": true
   },
   "outputs": [],
   "source": [
    "def inner_prod(r_in, r_out, theta_in, theta_out):\n",
    "    cosine = tf.cos(theta_in - theta_out)\n",
    "    radius = tf.multiply(arctanh(r_in), arctanh(r_out))\n",
    "    return 4 * tf.multiply(cosine, radius)"
   ]
  },
  {
   "cell_type": "code",
   "execution_count": 378,
   "metadata": {
    "collapsed": true
   },
   "outputs": [],
   "source": [
    "def minkowski_dot(u,v):\n",
    "    return tf.tensordot(u,v,1) - 2*tf.multiply(u[0],v[0])"
   ]
  },
  {
   "cell_type": "code",
   "execution_count": 379,
   "metadata": {
    "collapsed": true
   },
   "outputs": [],
   "source": [
    "def exponential(base, tangent):\n",
    "    \"\"\"\n",
    "    Compute the exponential of `tangent` from the point `base`.\n",
    "    \"\"\"\n",
    "    #tangent = tangent.copy()\n",
    "    norm = tf.sqrt(tf.maximum(minkowski_dot(tangent, tangent), 0))\n",
    "    if norm == 0:\n",
    "        return base\n",
    "    tangent /= norm\n",
    "    return tf.cosh(norm) * base + tf.sinh(norm) * tangent"
   ]
  },
  {
   "cell_type": "code",
   "execution_count": 380,
   "metadata": {
    "collapsed": true
   },
   "outputs": [],
   "source": [
    "def tensor_inner_prod(r_example, r_sample, theta_example, theta_sample):\n",
    "    r1 = arctanh(r_example)\n",
    "    r2 = arctanh(r_sample)\n",
    "    radius_term = r1[:, None] + r2[None, :]\n",
    "    cos_term = theta_example[:, None] - theta_sample[None, :]\n",
    "    return tf.squeeze(4* tf.multiply(cos_term, radius_term))"
   ]
  },
  {
   "cell_type": "code",
   "execution_count": 381,
   "metadata": {
    "collapsed": true
   },
   "outputs": [],
   "source": [
    "def nce_loss(true_logits, sampled_logits):\n",
    "        true_xent = tf.nn.sigmoid_cross_entropy_with_logits(\n",
    "            labels=tf.ones_like(true_logits), logits=true_logits)\n",
    "        sampled_xent = tf.nn.sigmoid_cross_entropy_with_logits(\n",
    "            labels=tf.zeros_like(sampled_logits), logits=sampled_logits)\n",
    "        nce_loss_tensor = (tf.reduce_sum(true_xent) +\n",
    "                           tf.reduce_sum(sampled_xent)) / 2\n",
    "        return nce_loss_tensor"
   ]
  },
  {
   "cell_type": "code",
   "execution_count": 382,
   "metadata": {
    "collapsed": false
   },
   "outputs": [],
   "source": [
    "radius_in = tf.Variable(tf.sqrt(tf.random_uniform([5,1])))  # radius\n",
    "# radius_out = tf.Variable(tf.zeros([5,1]))\n",
    "radius_out = tf.Variable(tf.sqrt(tf.random_uniform([5,1])))\n",
    "theta_in = tf.Variable(2*np.pi*tf.random_uniform([5,1]))  # angle\n",
    "theta_out = tf.Variable(2*np.pi*tf.random_uniform([5,1]))\n",
    "# theta_out = tf.Variable(tf.zeros([5,1]))\n",
    "sm_b = tf.Variable(tf.zeros([5,1]))\n",
    "examples = tf.Variable([1.0,2.0])\n",
    "labels = tf.Variable([3.0,4.0])"
   ]
  },
  {
   "cell_type": "code",
   "execution_count": 383,
   "metadata": {
    "collapsed": false
   },
   "outputs": [
    {
     "ename": "TypeError",
     "evalue": "Value passed to parameter 'indices' has DataType float32 not in list of allowed values: int32, int64",
     "output_type": "error",
     "traceback": [
      "\u001b[0;31m---------------------------------------------------------------------------\u001b[0m",
      "\u001b[0;31mTypeError\u001b[0m                                 Traceback (most recent call last)",
      "\u001b[0;32m<ipython-input-383-69bca5778d3a>\u001b[0m in \u001b[0;36m<module>\u001b[0;34m()\u001b[0m\n\u001b[0;32m----> 1\u001b[0;31m \u001b[0mexample_radius\u001b[0m \u001b[0;34m=\u001b[0m \u001b[0mtf\u001b[0m\u001b[0;34m.\u001b[0m\u001b[0mnn\u001b[0m\u001b[0;34m.\u001b[0m\u001b[0membedding_lookup\u001b[0m\u001b[0;34m(\u001b[0m\u001b[0mradius_in\u001b[0m\u001b[0;34m,\u001b[0m \u001b[0mexamples\u001b[0m\u001b[0;34m)\u001b[0m\u001b[0;34m\u001b[0m\u001b[0m\n\u001b[0m\u001b[1;32m      2\u001b[0m \u001b[0mexample_theta\u001b[0m \u001b[0;34m=\u001b[0m \u001b[0mtf\u001b[0m\u001b[0;34m.\u001b[0m\u001b[0mnn\u001b[0m\u001b[0;34m.\u001b[0m\u001b[0membedding_lookup\u001b[0m\u001b[0;34m(\u001b[0m\u001b[0mtheta_in\u001b[0m\u001b[0;34m,\u001b[0m \u001b[0mexamples\u001b[0m\u001b[0;34m)\u001b[0m\u001b[0;34m\u001b[0m\u001b[0m\n\u001b[1;32m      3\u001b[0m \u001b[0mtrue_radius\u001b[0m \u001b[0;34m=\u001b[0m \u001b[0mtf\u001b[0m\u001b[0;34m.\u001b[0m\u001b[0mnn\u001b[0m\u001b[0;34m.\u001b[0m\u001b[0membedding_lookup\u001b[0m\u001b[0;34m(\u001b[0m\u001b[0mradius_out\u001b[0m\u001b[0;34m,\u001b[0m \u001b[0mlabels\u001b[0m\u001b[0;34m)\u001b[0m\u001b[0;34m\u001b[0m\u001b[0m\n\u001b[1;32m      4\u001b[0m \u001b[0mtrue_theta\u001b[0m \u001b[0;34m=\u001b[0m \u001b[0mtf\u001b[0m\u001b[0;34m.\u001b[0m\u001b[0mnn\u001b[0m\u001b[0;34m.\u001b[0m\u001b[0membedding_lookup\u001b[0m\u001b[0;34m(\u001b[0m\u001b[0mtheta_out\u001b[0m\u001b[0;34m,\u001b[0m \u001b[0mlabels\u001b[0m\u001b[0;34m)\u001b[0m\u001b[0;34m\u001b[0m\u001b[0m\n",
      "\u001b[0;32m/Users/ben.chamberlain/anaconda/envs/tensorflow/lib/python2.7/site-packages/tensorflow/python/ops/embedding_ops.pyc\u001b[0m in \u001b[0;36membedding_lookup\u001b[0;34m(params, ids, partition_strategy, name, validate_indices, max_norm)\u001b[0m\n\u001b[1;32m    292\u001b[0m       \u001b[0mname\u001b[0m\u001b[0;34m=\u001b[0m\u001b[0mname\u001b[0m\u001b[0;34m,\u001b[0m\u001b[0;34m\u001b[0m\u001b[0m\n\u001b[1;32m    293\u001b[0m       \u001b[0mmax_norm\u001b[0m\u001b[0;34m=\u001b[0m\u001b[0mmax_norm\u001b[0m\u001b[0;34m,\u001b[0m\u001b[0;34m\u001b[0m\u001b[0m\n\u001b[0;32m--> 294\u001b[0;31m       transform_fn=None)\n\u001b[0m\u001b[1;32m    295\u001b[0m \u001b[0;34m\u001b[0m\u001b[0m\n\u001b[1;32m    296\u001b[0m \u001b[0;34m\u001b[0m\u001b[0m\n",
      "\u001b[0;32m/Users/ben.chamberlain/anaconda/envs/tensorflow/lib/python2.7/site-packages/tensorflow/python/ops/embedding_ops.pyc\u001b[0m in \u001b[0;36m_embedding_lookup_and_transform\u001b[0;34m(params, ids, partition_strategy, name, max_norm, transform_fn)\u001b[0m\n\u001b[1;32m    121\u001b[0m     \u001b[0;32mif\u001b[0m \u001b[0mnp\u001b[0m \u001b[0;34m==\u001b[0m \u001b[0;36m1\u001b[0m \u001b[0;32mand\u001b[0m \u001b[0;34m(\u001b[0m\u001b[0mtransform_fn\u001b[0m \u001b[0;32mis\u001b[0m \u001b[0mNone\u001b[0m \u001b[0;32mor\u001b[0m \u001b[0mids\u001b[0m\u001b[0;34m.\u001b[0m\u001b[0mget_shape\u001b[0m\u001b[0;34m(\u001b[0m\u001b[0;34m)\u001b[0m\u001b[0;34m.\u001b[0m\u001b[0mndims\u001b[0m \u001b[0;34m==\u001b[0m \u001b[0;36m1\u001b[0m\u001b[0;34m)\u001b[0m\u001b[0;34m:\u001b[0m\u001b[0;34m\u001b[0m\u001b[0m\n\u001b[1;32m    122\u001b[0m       \u001b[0;32mwith\u001b[0m \u001b[0mops\u001b[0m\u001b[0;34m.\u001b[0m\u001b[0mcolocate_with\u001b[0m\u001b[0;34m(\u001b[0m\u001b[0mparams\u001b[0m\u001b[0;34m[\u001b[0m\u001b[0;36m0\u001b[0m\u001b[0;34m]\u001b[0m\u001b[0;34m)\u001b[0m\u001b[0;34m:\u001b[0m\u001b[0;34m\u001b[0m\u001b[0m\n\u001b[0;32m--> 123\u001b[0;31m         \u001b[0mresult\u001b[0m \u001b[0;34m=\u001b[0m \u001b[0m_gather_and_clip\u001b[0m\u001b[0;34m(\u001b[0m\u001b[0mparams\u001b[0m\u001b[0;34m[\u001b[0m\u001b[0;36m0\u001b[0m\u001b[0;34m]\u001b[0m\u001b[0;34m,\u001b[0m \u001b[0mids\u001b[0m\u001b[0;34m,\u001b[0m \u001b[0mmax_norm\u001b[0m\u001b[0;34m,\u001b[0m \u001b[0mname\u001b[0m\u001b[0;34m=\u001b[0m\u001b[0mname\u001b[0m\u001b[0;34m)\u001b[0m\u001b[0;34m\u001b[0m\u001b[0m\n\u001b[0m\u001b[1;32m    124\u001b[0m         \u001b[0;32mif\u001b[0m \u001b[0mtransform_fn\u001b[0m \u001b[0;32mis\u001b[0m \u001b[0;32mnot\u001b[0m \u001b[0mNone\u001b[0m\u001b[0;34m:\u001b[0m\u001b[0;34m\u001b[0m\u001b[0m\n\u001b[1;32m    125\u001b[0m           \u001b[0mresult\u001b[0m \u001b[0;34m=\u001b[0m \u001b[0mtransform_fn\u001b[0m\u001b[0;34m(\u001b[0m\u001b[0mresult\u001b[0m\u001b[0;34m)\u001b[0m\u001b[0;34m\u001b[0m\u001b[0m\n",
      "\u001b[0;32m/Users/ben.chamberlain/anaconda/envs/tensorflow/lib/python2.7/site-packages/tensorflow/python/ops/embedding_ops.pyc\u001b[0m in \u001b[0;36m_gather_and_clip\u001b[0;34m(params, ids, max_norm, name)\u001b[0m\n\u001b[1;32m     55\u001b[0m     \u001b[0membs\u001b[0m \u001b[0;34m=\u001b[0m \u001b[0mparams\u001b[0m\u001b[0;34m.\u001b[0m\u001b[0msparse_read\u001b[0m\u001b[0;34m(\u001b[0m\u001b[0mids\u001b[0m\u001b[0;34m,\u001b[0m \u001b[0mname\u001b[0m\u001b[0;34m=\u001b[0m\u001b[0mname\u001b[0m\u001b[0;34m)\u001b[0m\u001b[0;34m\u001b[0m\u001b[0m\n\u001b[1;32m     56\u001b[0m   \u001b[0;32melse\u001b[0m\u001b[0;34m:\u001b[0m\u001b[0;34m\u001b[0m\u001b[0m\n\u001b[0;32m---> 57\u001b[0;31m     \u001b[0membs\u001b[0m \u001b[0;34m=\u001b[0m \u001b[0marray_ops\u001b[0m\u001b[0;34m.\u001b[0m\u001b[0mgather\u001b[0m\u001b[0;34m(\u001b[0m\u001b[0mparams\u001b[0m\u001b[0;34m,\u001b[0m \u001b[0mids\u001b[0m\u001b[0;34m,\u001b[0m \u001b[0mname\u001b[0m\u001b[0;34m=\u001b[0m\u001b[0mname\u001b[0m\u001b[0;34m)\u001b[0m\u001b[0;34m\u001b[0m\u001b[0m\n\u001b[0m\u001b[1;32m     58\u001b[0m   \u001b[0;32mif\u001b[0m \u001b[0mmax_norm\u001b[0m \u001b[0;32mis\u001b[0m \u001b[0mNone\u001b[0m\u001b[0;34m:\u001b[0m\u001b[0;34m\u001b[0m\u001b[0m\n\u001b[1;32m     59\u001b[0m     \u001b[0;32mreturn\u001b[0m \u001b[0membs\u001b[0m\u001b[0;34m\u001b[0m\u001b[0m\n",
      "\u001b[0;32m/Users/ben.chamberlain/anaconda/envs/tensorflow/lib/python2.7/site-packages/tensorflow/python/ops/array_ops.pyc\u001b[0m in \u001b[0;36mgather\u001b[0;34m(params, indices, validate_indices, name, axis)\u001b[0m\n\u001b[1;32m   2407\u001b[0m   \u001b[0;32mif\u001b[0m \u001b[0maxis\u001b[0m \u001b[0;34m==\u001b[0m \u001b[0;36m0\u001b[0m\u001b[0;34m:\u001b[0m\u001b[0;34m\u001b[0m\u001b[0m\n\u001b[1;32m   2408\u001b[0m     return gen_array_ops.gather(params, indices,\n\u001b[0;32m-> 2409\u001b[0;31m                                 validate_indices=validate_indices, name=name)\n\u001b[0m\u001b[1;32m   2410\u001b[0m   \u001b[0;32melse\u001b[0m\u001b[0;34m:\u001b[0m\u001b[0;34m\u001b[0m\u001b[0m\n\u001b[1;32m   2411\u001b[0m     \u001b[0;32mreturn\u001b[0m \u001b[0mgen_array_ops\u001b[0m\u001b[0;34m.\u001b[0m\u001b[0mgather_v2\u001b[0m\u001b[0;34m(\u001b[0m\u001b[0mparams\u001b[0m\u001b[0;34m,\u001b[0m \u001b[0mindices\u001b[0m\u001b[0;34m,\u001b[0m \u001b[0maxis\u001b[0m\u001b[0;34m,\u001b[0m \u001b[0mname\u001b[0m\u001b[0;34m=\u001b[0m\u001b[0mname\u001b[0m\u001b[0;34m)\u001b[0m\u001b[0;34m\u001b[0m\u001b[0m\n",
      "\u001b[0;32m/Users/ben.chamberlain/anaconda/envs/tensorflow/lib/python2.7/site-packages/tensorflow/python/ops/gen_array_ops.pyc\u001b[0m in \u001b[0;36mgather\u001b[0;34m(params, indices, validate_indices, name)\u001b[0m\n\u001b[1;32m   1217\u001b[0m   \"\"\"\n\u001b[1;32m   1218\u001b[0m   result = _op_def_lib.apply_op(\"Gather\", params=params, indices=indices,\n\u001b[0;32m-> 1219\u001b[0;31m                                 validate_indices=validate_indices, name=name)\n\u001b[0m\u001b[1;32m   1220\u001b[0m   \u001b[0;32mreturn\u001b[0m \u001b[0mresult\u001b[0m\u001b[0;34m\u001b[0m\u001b[0m\n\u001b[1;32m   1221\u001b[0m \u001b[0;34m\u001b[0m\u001b[0m\n",
      "\u001b[0;32m/Users/ben.chamberlain/anaconda/envs/tensorflow/lib/python2.7/site-packages/tensorflow/python/framework/op_def_library.pyc\u001b[0m in \u001b[0;36mapply_op\u001b[0;34m(self, op_type_name, name, **keywords)\u001b[0m\n\u001b[1;32m    587\u001b[0m               _SatisfiesTypeConstraint(base_type,\n\u001b[1;32m    588\u001b[0m                                        \u001b[0m_Attr\u001b[0m\u001b[0;34m(\u001b[0m\u001b[0mop_def\u001b[0m\u001b[0;34m,\u001b[0m \u001b[0minput_arg\u001b[0m\u001b[0;34m.\u001b[0m\u001b[0mtype_attr\u001b[0m\u001b[0;34m)\u001b[0m\u001b[0;34m,\u001b[0m\u001b[0;34m\u001b[0m\u001b[0m\n\u001b[0;32m--> 589\u001b[0;31m                                        param_name=input_name)\n\u001b[0m\u001b[1;32m    590\u001b[0m             \u001b[0mattrs\u001b[0m\u001b[0;34m[\u001b[0m\u001b[0minput_arg\u001b[0m\u001b[0;34m.\u001b[0m\u001b[0mtype_attr\u001b[0m\u001b[0;34m]\u001b[0m \u001b[0;34m=\u001b[0m \u001b[0mattr_value\u001b[0m\u001b[0;34m\u001b[0m\u001b[0m\n\u001b[1;32m    591\u001b[0m             \u001b[0minferred_from\u001b[0m\u001b[0;34m[\u001b[0m\u001b[0minput_arg\u001b[0m\u001b[0;34m.\u001b[0m\u001b[0mtype_attr\u001b[0m\u001b[0;34m]\u001b[0m \u001b[0;34m=\u001b[0m \u001b[0minput_name\u001b[0m\u001b[0;34m\u001b[0m\u001b[0m\n",
      "\u001b[0;32m/Users/ben.chamberlain/anaconda/envs/tensorflow/lib/python2.7/site-packages/tensorflow/python/framework/op_def_library.pyc\u001b[0m in \u001b[0;36m_SatisfiesTypeConstraint\u001b[0;34m(dtype, attr_def, param_name)\u001b[0m\n\u001b[1;32m     58\u001b[0m           \u001b[0;34m\"allowed values: %s\"\u001b[0m \u001b[0;34m%\u001b[0m\u001b[0;34m\u001b[0m\u001b[0m\n\u001b[1;32m     59\u001b[0m           (param_name, dtypes.as_dtype(dtype).name,\n\u001b[0;32m---> 60\u001b[0;31m            \", \".join(dtypes.as_dtype(x).name for x in allowed_list)))\n\u001b[0m\u001b[1;32m     61\u001b[0m \u001b[0;34m\u001b[0m\u001b[0m\n\u001b[1;32m     62\u001b[0m \u001b[0;34m\u001b[0m\u001b[0m\n",
      "\u001b[0;31mTypeError\u001b[0m: Value passed to parameter 'indices' has DataType float32 not in list of allowed values: int32, int64"
     ]
    }
   ],
   "source": [
    "example_radius = tf.nn.embedding_lookup(radius_in, examples)\n",
    "example_theta = tf.nn.embedding_lookup(theta_in, examples)\n",
    "true_radius = tf.nn.embedding_lookup(radius_out, labels)\n",
    "true_theta = tf.nn.embedding_lookup(theta_out, labels)"
   ]
  },
  {
   "cell_type": "code",
   "execution_count": 384,
   "metadata": {
    "collapsed": false
   },
   "outputs": [
    {
     "ename": "TypeError",
     "evalue": "Value passed to parameter 'indices' has DataType float32 not in list of allowed values: int32, int64",
     "output_type": "error",
     "traceback": [
      "\u001b[0;31m---------------------------------------------------------------------------\u001b[0m",
      "\u001b[0;31mTypeError\u001b[0m                                 Traceback (most recent call last)",
      "\u001b[0;32m<ipython-input-384-43bf1f685030>\u001b[0m in \u001b[0;36m<module>\u001b[0;34m()\u001b[0m\n\u001b[1;32m      2\u001b[0m \u001b[0msampled_radius\u001b[0m \u001b[0;34m=\u001b[0m \u001b[0mtf\u001b[0m\u001b[0;34m.\u001b[0m\u001b[0mnn\u001b[0m\u001b[0;34m.\u001b[0m\u001b[0membedding_lookup\u001b[0m\u001b[0;34m(\u001b[0m\u001b[0mradius_out\u001b[0m\u001b[0;34m,\u001b[0m \u001b[0msampled_ids\u001b[0m\u001b[0;34m)\u001b[0m\u001b[0;34m\u001b[0m\u001b[0m\n\u001b[1;32m      3\u001b[0m \u001b[0msampled_theta\u001b[0m \u001b[0;34m=\u001b[0m \u001b[0mtf\u001b[0m\u001b[0;34m.\u001b[0m\u001b[0mnn\u001b[0m\u001b[0;34m.\u001b[0m\u001b[0membedding_lookup\u001b[0m\u001b[0;34m(\u001b[0m\u001b[0mtheta_out\u001b[0m\u001b[0;34m,\u001b[0m \u001b[0msampled_ids\u001b[0m\u001b[0;34m)\u001b[0m\u001b[0;34m\u001b[0m\u001b[0m\n\u001b[0;32m----> 4\u001b[0;31m \u001b[0mtrue_b\u001b[0m \u001b[0;34m=\u001b[0m \u001b[0mtf\u001b[0m\u001b[0;34m.\u001b[0m\u001b[0mnn\u001b[0m\u001b[0;34m.\u001b[0m\u001b[0membedding_lookup\u001b[0m\u001b[0;34m(\u001b[0m\u001b[0msm_b\u001b[0m\u001b[0;34m,\u001b[0m \u001b[0mlabels\u001b[0m\u001b[0;34m)\u001b[0m\u001b[0;34m\u001b[0m\u001b[0m\n\u001b[0m",
      "\u001b[0;32m/Users/ben.chamberlain/anaconda/envs/tensorflow/lib/python2.7/site-packages/tensorflow/python/ops/embedding_ops.pyc\u001b[0m in \u001b[0;36membedding_lookup\u001b[0;34m(params, ids, partition_strategy, name, validate_indices, max_norm)\u001b[0m\n\u001b[1;32m    292\u001b[0m       \u001b[0mname\u001b[0m\u001b[0;34m=\u001b[0m\u001b[0mname\u001b[0m\u001b[0;34m,\u001b[0m\u001b[0;34m\u001b[0m\u001b[0m\n\u001b[1;32m    293\u001b[0m       \u001b[0mmax_norm\u001b[0m\u001b[0;34m=\u001b[0m\u001b[0mmax_norm\u001b[0m\u001b[0;34m,\u001b[0m\u001b[0;34m\u001b[0m\u001b[0m\n\u001b[0;32m--> 294\u001b[0;31m       transform_fn=None)\n\u001b[0m\u001b[1;32m    295\u001b[0m \u001b[0;34m\u001b[0m\u001b[0m\n\u001b[1;32m    296\u001b[0m \u001b[0;34m\u001b[0m\u001b[0m\n",
      "\u001b[0;32m/Users/ben.chamberlain/anaconda/envs/tensorflow/lib/python2.7/site-packages/tensorflow/python/ops/embedding_ops.pyc\u001b[0m in \u001b[0;36m_embedding_lookup_and_transform\u001b[0;34m(params, ids, partition_strategy, name, max_norm, transform_fn)\u001b[0m\n\u001b[1;32m    121\u001b[0m     \u001b[0;32mif\u001b[0m \u001b[0mnp\u001b[0m \u001b[0;34m==\u001b[0m \u001b[0;36m1\u001b[0m \u001b[0;32mand\u001b[0m \u001b[0;34m(\u001b[0m\u001b[0mtransform_fn\u001b[0m \u001b[0;32mis\u001b[0m \u001b[0mNone\u001b[0m \u001b[0;32mor\u001b[0m \u001b[0mids\u001b[0m\u001b[0;34m.\u001b[0m\u001b[0mget_shape\u001b[0m\u001b[0;34m(\u001b[0m\u001b[0;34m)\u001b[0m\u001b[0;34m.\u001b[0m\u001b[0mndims\u001b[0m \u001b[0;34m==\u001b[0m \u001b[0;36m1\u001b[0m\u001b[0;34m)\u001b[0m\u001b[0;34m:\u001b[0m\u001b[0;34m\u001b[0m\u001b[0m\n\u001b[1;32m    122\u001b[0m       \u001b[0;32mwith\u001b[0m \u001b[0mops\u001b[0m\u001b[0;34m.\u001b[0m\u001b[0mcolocate_with\u001b[0m\u001b[0;34m(\u001b[0m\u001b[0mparams\u001b[0m\u001b[0;34m[\u001b[0m\u001b[0;36m0\u001b[0m\u001b[0;34m]\u001b[0m\u001b[0;34m)\u001b[0m\u001b[0;34m:\u001b[0m\u001b[0;34m\u001b[0m\u001b[0m\n\u001b[0;32m--> 123\u001b[0;31m         \u001b[0mresult\u001b[0m \u001b[0;34m=\u001b[0m \u001b[0m_gather_and_clip\u001b[0m\u001b[0;34m(\u001b[0m\u001b[0mparams\u001b[0m\u001b[0;34m[\u001b[0m\u001b[0;36m0\u001b[0m\u001b[0;34m]\u001b[0m\u001b[0;34m,\u001b[0m \u001b[0mids\u001b[0m\u001b[0;34m,\u001b[0m \u001b[0mmax_norm\u001b[0m\u001b[0;34m,\u001b[0m \u001b[0mname\u001b[0m\u001b[0;34m=\u001b[0m\u001b[0mname\u001b[0m\u001b[0;34m)\u001b[0m\u001b[0;34m\u001b[0m\u001b[0m\n\u001b[0m\u001b[1;32m    124\u001b[0m         \u001b[0;32mif\u001b[0m \u001b[0mtransform_fn\u001b[0m \u001b[0;32mis\u001b[0m \u001b[0;32mnot\u001b[0m \u001b[0mNone\u001b[0m\u001b[0;34m:\u001b[0m\u001b[0;34m\u001b[0m\u001b[0m\n\u001b[1;32m    125\u001b[0m           \u001b[0mresult\u001b[0m \u001b[0;34m=\u001b[0m \u001b[0mtransform_fn\u001b[0m\u001b[0;34m(\u001b[0m\u001b[0mresult\u001b[0m\u001b[0;34m)\u001b[0m\u001b[0;34m\u001b[0m\u001b[0m\n",
      "\u001b[0;32m/Users/ben.chamberlain/anaconda/envs/tensorflow/lib/python2.7/site-packages/tensorflow/python/ops/embedding_ops.pyc\u001b[0m in \u001b[0;36m_gather_and_clip\u001b[0;34m(params, ids, max_norm, name)\u001b[0m\n\u001b[1;32m     55\u001b[0m     \u001b[0membs\u001b[0m \u001b[0;34m=\u001b[0m \u001b[0mparams\u001b[0m\u001b[0;34m.\u001b[0m\u001b[0msparse_read\u001b[0m\u001b[0;34m(\u001b[0m\u001b[0mids\u001b[0m\u001b[0;34m,\u001b[0m \u001b[0mname\u001b[0m\u001b[0;34m=\u001b[0m\u001b[0mname\u001b[0m\u001b[0;34m)\u001b[0m\u001b[0;34m\u001b[0m\u001b[0m\n\u001b[1;32m     56\u001b[0m   \u001b[0;32melse\u001b[0m\u001b[0;34m:\u001b[0m\u001b[0;34m\u001b[0m\u001b[0m\n\u001b[0;32m---> 57\u001b[0;31m     \u001b[0membs\u001b[0m \u001b[0;34m=\u001b[0m \u001b[0marray_ops\u001b[0m\u001b[0;34m.\u001b[0m\u001b[0mgather\u001b[0m\u001b[0;34m(\u001b[0m\u001b[0mparams\u001b[0m\u001b[0;34m,\u001b[0m \u001b[0mids\u001b[0m\u001b[0;34m,\u001b[0m \u001b[0mname\u001b[0m\u001b[0;34m=\u001b[0m\u001b[0mname\u001b[0m\u001b[0;34m)\u001b[0m\u001b[0;34m\u001b[0m\u001b[0m\n\u001b[0m\u001b[1;32m     58\u001b[0m   \u001b[0;32mif\u001b[0m \u001b[0mmax_norm\u001b[0m \u001b[0;32mis\u001b[0m \u001b[0mNone\u001b[0m\u001b[0;34m:\u001b[0m\u001b[0;34m\u001b[0m\u001b[0m\n\u001b[1;32m     59\u001b[0m     \u001b[0;32mreturn\u001b[0m \u001b[0membs\u001b[0m\u001b[0;34m\u001b[0m\u001b[0m\n",
      "\u001b[0;32m/Users/ben.chamberlain/anaconda/envs/tensorflow/lib/python2.7/site-packages/tensorflow/python/ops/array_ops.pyc\u001b[0m in \u001b[0;36mgather\u001b[0;34m(params, indices, validate_indices, name, axis)\u001b[0m\n\u001b[1;32m   2407\u001b[0m   \u001b[0;32mif\u001b[0m \u001b[0maxis\u001b[0m \u001b[0;34m==\u001b[0m \u001b[0;36m0\u001b[0m\u001b[0;34m:\u001b[0m\u001b[0;34m\u001b[0m\u001b[0m\n\u001b[1;32m   2408\u001b[0m     return gen_array_ops.gather(params, indices,\n\u001b[0;32m-> 2409\u001b[0;31m                                 validate_indices=validate_indices, name=name)\n\u001b[0m\u001b[1;32m   2410\u001b[0m   \u001b[0;32melse\u001b[0m\u001b[0;34m:\u001b[0m\u001b[0;34m\u001b[0m\u001b[0m\n\u001b[1;32m   2411\u001b[0m     \u001b[0;32mreturn\u001b[0m \u001b[0mgen_array_ops\u001b[0m\u001b[0;34m.\u001b[0m\u001b[0mgather_v2\u001b[0m\u001b[0;34m(\u001b[0m\u001b[0mparams\u001b[0m\u001b[0;34m,\u001b[0m \u001b[0mindices\u001b[0m\u001b[0;34m,\u001b[0m \u001b[0maxis\u001b[0m\u001b[0;34m,\u001b[0m \u001b[0mname\u001b[0m\u001b[0;34m=\u001b[0m\u001b[0mname\u001b[0m\u001b[0;34m)\u001b[0m\u001b[0;34m\u001b[0m\u001b[0m\n",
      "\u001b[0;32m/Users/ben.chamberlain/anaconda/envs/tensorflow/lib/python2.7/site-packages/tensorflow/python/ops/gen_array_ops.pyc\u001b[0m in \u001b[0;36mgather\u001b[0;34m(params, indices, validate_indices, name)\u001b[0m\n\u001b[1;32m   1217\u001b[0m   \"\"\"\n\u001b[1;32m   1218\u001b[0m   result = _op_def_lib.apply_op(\"Gather\", params=params, indices=indices,\n\u001b[0;32m-> 1219\u001b[0;31m                                 validate_indices=validate_indices, name=name)\n\u001b[0m\u001b[1;32m   1220\u001b[0m   \u001b[0;32mreturn\u001b[0m \u001b[0mresult\u001b[0m\u001b[0;34m\u001b[0m\u001b[0m\n\u001b[1;32m   1221\u001b[0m \u001b[0;34m\u001b[0m\u001b[0m\n",
      "\u001b[0;32m/Users/ben.chamberlain/anaconda/envs/tensorflow/lib/python2.7/site-packages/tensorflow/python/framework/op_def_library.pyc\u001b[0m in \u001b[0;36mapply_op\u001b[0;34m(self, op_type_name, name, **keywords)\u001b[0m\n\u001b[1;32m    587\u001b[0m               _SatisfiesTypeConstraint(base_type,\n\u001b[1;32m    588\u001b[0m                                        \u001b[0m_Attr\u001b[0m\u001b[0;34m(\u001b[0m\u001b[0mop_def\u001b[0m\u001b[0;34m,\u001b[0m \u001b[0minput_arg\u001b[0m\u001b[0;34m.\u001b[0m\u001b[0mtype_attr\u001b[0m\u001b[0;34m)\u001b[0m\u001b[0;34m,\u001b[0m\u001b[0;34m\u001b[0m\u001b[0m\n\u001b[0;32m--> 589\u001b[0;31m                                        param_name=input_name)\n\u001b[0m\u001b[1;32m    590\u001b[0m             \u001b[0mattrs\u001b[0m\u001b[0;34m[\u001b[0m\u001b[0minput_arg\u001b[0m\u001b[0;34m.\u001b[0m\u001b[0mtype_attr\u001b[0m\u001b[0;34m]\u001b[0m \u001b[0;34m=\u001b[0m \u001b[0mattr_value\u001b[0m\u001b[0;34m\u001b[0m\u001b[0m\n\u001b[1;32m    591\u001b[0m             \u001b[0minferred_from\u001b[0m\u001b[0;34m[\u001b[0m\u001b[0minput_arg\u001b[0m\u001b[0;34m.\u001b[0m\u001b[0mtype_attr\u001b[0m\u001b[0;34m]\u001b[0m \u001b[0;34m=\u001b[0m \u001b[0minput_name\u001b[0m\u001b[0;34m\u001b[0m\u001b[0m\n",
      "\u001b[0;32m/Users/ben.chamberlain/anaconda/envs/tensorflow/lib/python2.7/site-packages/tensorflow/python/framework/op_def_library.pyc\u001b[0m in \u001b[0;36m_SatisfiesTypeConstraint\u001b[0;34m(dtype, attr_def, param_name)\u001b[0m\n\u001b[1;32m     58\u001b[0m           \u001b[0;34m\"allowed values: %s\"\u001b[0m \u001b[0;34m%\u001b[0m\u001b[0;34m\u001b[0m\u001b[0m\n\u001b[1;32m     59\u001b[0m           (param_name, dtypes.as_dtype(dtype).name,\n\u001b[0;32m---> 60\u001b[0;31m            \", \".join(dtypes.as_dtype(x).name for x in allowed_list)))\n\u001b[0m\u001b[1;32m     61\u001b[0m \u001b[0;34m\u001b[0m\u001b[0m\n\u001b[1;32m     62\u001b[0m \u001b[0;34m\u001b[0m\u001b[0m\n",
      "\u001b[0;31mTypeError\u001b[0m: Value passed to parameter 'indices' has DataType float32 not in list of allowed values: int32, int64"
     ]
    }
   ],
   "source": [
    "sampled_ids = tf.Variable([0,1,2])\n",
    "sampled_radius = tf.nn.embedding_lookup(radius_out, sampled_ids)\n",
    "sampled_theta = tf.nn.embedding_lookup(theta_out, sampled_ids)\n",
    "true_b = tf.nn.embedding_lookup(sm_b, labels)"
   ]
  },
  {
   "cell_type": "code",
   "execution_count": null,
   "metadata": {
    "collapsed": false
   },
   "outputs": [],
   "source": [
    "true_logits = inner_prod(example_radius, true_radius, example_theta, true_theta) + true_b"
   ]
  },
  {
   "cell_type": "code",
   "execution_count": 385,
   "metadata": {
    "collapsed": false
   },
   "outputs": [],
   "source": [
    "sampled_b = tf.nn.embedding_lookup(sm_b, sampled_ids)\n",
    "sampled_b_vec = tf.reshape(sampled_b, sampled_ids.get_shape())"
   ]
  },
  {
   "cell_type": "code",
   "execution_count": 386,
   "metadata": {
    "collapsed": false
   },
   "outputs": [
    {
     "ename": "NameError",
     "evalue": "name 'example_radius' is not defined",
     "output_type": "error",
     "traceback": [
      "\u001b[0;31m---------------------------------------------------------------------------\u001b[0m",
      "\u001b[0;31mNameError\u001b[0m                                 Traceback (most recent call last)",
      "\u001b[0;32m<ipython-input-386-76740aedb0fc>\u001b[0m in \u001b[0;36m<module>\u001b[0;34m()\u001b[0m\n\u001b[0;32m----> 1\u001b[0;31m \u001b[0msampled_logits\u001b[0m \u001b[0;34m=\u001b[0m \u001b[0mtensor_inner_prod\u001b[0m\u001b[0;34m(\u001b[0m\u001b[0mexample_radius\u001b[0m\u001b[0;34m,\u001b[0m \u001b[0msampled_radius\u001b[0m\u001b[0;34m,\u001b[0m \u001b[0mexample_theta\u001b[0m\u001b[0;34m,\u001b[0m \u001b[0msampled_theta\u001b[0m\u001b[0;34m)\u001b[0m \u001b[0;34m+\u001b[0m \u001b[0msampled_b_vec\u001b[0m\u001b[0;34m\u001b[0m\u001b[0m\n\u001b[0m",
      "\u001b[0;31mNameError\u001b[0m: name 'example_radius' is not defined"
     ]
    }
   ],
   "source": [
    "sampled_logits = tensor_inner_prod(example_radius, sampled_radius, example_theta, sampled_theta) + sampled_b_vec"
   ]
  },
  {
   "cell_type": "code",
   "execution_count": 387,
   "metadata": {
    "collapsed": false
   },
   "outputs": [
    {
     "ename": "NameError",
     "evalue": "name 'example_radius' is not defined",
     "output_type": "error",
     "traceback": [
      "\u001b[0;31m---------------------------------------------------------------------------\u001b[0m",
      "\u001b[0;31mNameError\u001b[0m                                 Traceback (most recent call last)",
      "\u001b[0;32m<ipython-input-387-94f800871c53>\u001b[0m in \u001b[0;36m<module>\u001b[0;34m()\u001b[0m\n\u001b[0;32m----> 1\u001b[0;31m \u001b[0mr1\u001b[0m \u001b[0;34m=\u001b[0m \u001b[0marctanh\u001b[0m\u001b[0;34m(\u001b[0m\u001b[0mexample_radius\u001b[0m\u001b[0;34m)\u001b[0m\u001b[0;34m\u001b[0m\u001b[0m\n\u001b[0m\u001b[1;32m      2\u001b[0m \u001b[0mr2\u001b[0m \u001b[0;34m=\u001b[0m \u001b[0marctanh\u001b[0m\u001b[0;34m(\u001b[0m\u001b[0msampled_radius\u001b[0m\u001b[0;34m)\u001b[0m\u001b[0;34m\u001b[0m\u001b[0m\n\u001b[1;32m      3\u001b[0m \u001b[0mradius_term\u001b[0m \u001b[0;34m=\u001b[0m \u001b[0mr1\u001b[0m\u001b[0;34m[\u001b[0m\u001b[0;34m:\u001b[0m\u001b[0;34m,\u001b[0m \u001b[0mNone\u001b[0m\u001b[0;34m]\u001b[0m \u001b[0;34m+\u001b[0m \u001b[0mr2\u001b[0m\u001b[0;34m[\u001b[0m\u001b[0mNone\u001b[0m\u001b[0;34m,\u001b[0m \u001b[0;34m:\u001b[0m\u001b[0;34m]\u001b[0m\u001b[0;34m\u001b[0m\u001b[0m\n\u001b[1;32m      4\u001b[0m \u001b[0mcos_term\u001b[0m \u001b[0;34m=\u001b[0m \u001b[0mexample_theta\u001b[0m\u001b[0;34m[\u001b[0m\u001b[0;34m:\u001b[0m\u001b[0;34m,\u001b[0m \u001b[0mNone\u001b[0m\u001b[0;34m]\u001b[0m \u001b[0;34m-\u001b[0m \u001b[0msampled_theta\u001b[0m\u001b[0;34m[\u001b[0m\u001b[0mNone\u001b[0m\u001b[0;34m,\u001b[0m \u001b[0;34m:\u001b[0m\u001b[0;34m]\u001b[0m\u001b[0;34m\u001b[0m\u001b[0m\n\u001b[1;32m      5\u001b[0m \u001b[0mretval\u001b[0m \u001b[0;34m=\u001b[0m \u001b[0;36m4\u001b[0m\u001b[0;34m*\u001b[0m \u001b[0mtf\u001b[0m\u001b[0;34m.\u001b[0m\u001b[0mmultiply\u001b[0m\u001b[0;34m(\u001b[0m\u001b[0mcos_term\u001b[0m\u001b[0;34m,\u001b[0m \u001b[0mradius_term\u001b[0m\u001b[0;34m)\u001b[0m\u001b[0;34m\u001b[0m\u001b[0m\n",
      "\u001b[0;31mNameError\u001b[0m: name 'example_radius' is not defined"
     ]
    }
   ],
   "source": [
    "r1 = arctanh(example_radius)\n",
    "r2 = arctanh(sampled_radius)\n",
    "radius_term = r1[:, None] + r2[None, :]\n",
    "cos_term = example_theta[:, None] - sampled_theta[None, :]\n",
    "retval = 4* tf.multiply(cos_term, radius_term)"
   ]
  },
  {
   "cell_type": "code",
   "execution_count": 388,
   "metadata": {
    "collapsed": false
   },
   "outputs": [
    {
     "ename": "NameError",
     "evalue": "name 'true_logits' is not defined",
     "output_type": "error",
     "traceback": [
      "\u001b[0;31m---------------------------------------------------------------------------\u001b[0m",
      "\u001b[0;31mNameError\u001b[0m                                 Traceback (most recent call last)",
      "\u001b[0;32m<ipython-input-388-14d9f47292d7>\u001b[0m in \u001b[0;36m<module>\u001b[0;34m()\u001b[0m\n\u001b[0;32m----> 1\u001b[0;31m \u001b[0mloss\u001b[0m \u001b[0;34m=\u001b[0m \u001b[0mnce_loss\u001b[0m\u001b[0;34m(\u001b[0m\u001b[0mtrue_logits\u001b[0m\u001b[0;34m,\u001b[0m \u001b[0msampled_logits\u001b[0m\u001b[0;34m)\u001b[0m\u001b[0;34m\u001b[0m\u001b[0m\n\u001b[0m",
      "\u001b[0;31mNameError\u001b[0m: name 'true_logits' is not defined"
     ]
    }
   ],
   "source": [
    "loss = nce_loss(true_logits, sampled_logits)"
   ]
  },
  {
   "cell_type": "code",
   "execution_count": 389,
   "metadata": {
    "collapsed": true
   },
   "outputs": [],
   "source": [
    "def minkowski_dist(u, v):\n",
    "    \"\"\"\n",
    "    The distance between two points in Minkowski space\n",
    "    :param u:\n",
    "    :param v:\n",
    "    :return:\n",
    "    \"\"\"\n",
    "    return tf.acosh(-minkowski_dot(u, v))"
   ]
  },
  {
   "cell_type": "code",
   "execution_count": 390,
   "metadata": {
    "collapsed": true
   },
   "outputs": [],
   "source": [
    "def project_onto_tangent_space(hyperboloid_point, minkowski_tangent):\n",
    "    \"\"\"\n",
    "    project gradients in the ambiant space onto the tangent space\n",
    "    :param hyperboloid_point:\n",
    "    :param minkowski_tangent:\n",
    "    :return:\n",
    "    \"\"\"\n",
    "    return minkowski_tangent + minkowski_dot(hyperboloid_point, minkowski_tangent) * hyperboloid_point"
   ]
  },
  {
   "cell_type": "code",
   "execution_count": 391,
   "metadata": {
    "collapsed": true
   },
   "outputs": [],
   "source": [
    "def exp_map(base, tangent):\n",
    "    \"\"\"\n",
    "    Compute the exponential of the `tangent` vector from the point `base`.\n",
    "    \"\"\"\n",
    "    # tangent = tangent.copy()\n",
    "    norm = tf.sqrt(tf.maximum(minkowski_dot(tangent, tangent), 0))\n",
    "    if norm == 0:\n",
    "        return base\n",
    "    tangent /= norm\n",
    "    return tf.cosh(norm) * base + tf.sinh(norm) * tangent"
   ]
  },
  {
   "cell_type": "code",
   "execution_count": 392,
   "metadata": {
    "collapsed": false
   },
   "outputs": [
    {
     "data": {
      "text/plain": [
       "array([[-1. ,  2. ,  0.2],\n",
       "       [-3. ,  4. ,  0.5],\n",
       "       [-4. ,  2. ,  0.6]])"
      ]
     },
     "execution_count": 392,
     "metadata": {},
     "output_type": "execute_result"
    }
   ],
   "source": [
    "grads = np.array([[1., 2., 0.2], [3., 4., 0.5], [4., 2., 0.6]])\n",
    "x = np.eye(grads.shape[1])\n",
    "x[0,0]=-1\n",
    "grads.dot(x)"
   ]
  },
  {
   "cell_type": "code",
   "execution_count": 393,
   "metadata": {
    "collapsed": false
   },
   "outputs": [],
   "source": [
    "# V = tf.Variable(np.array([[1,2],[4,5],[5,2]]), dtype=tf.int32)\n",
    "V = tf.Variable(np.array([1,2]), dtype=tf.int32)\n",
    "x = np.eye(V.shape[0])\n",
    "x[0,0]=-1\n",
    "T = tf.constant(x, dtype=tf.int32)\n",
    "# U = tf.matmul(V,T)\n",
    "U = tf.tensordot(V,T, 1)\n",
    "# y = tf.constant([math.sqrt(10001),100])\n",
    "y = tf.constant([1.,0])\n",
    "z = tf.constant([1.,0])\n",
    "g1 = tf.constant([0.,1.])\n",
    "g2 = tf.constant([0.,-1.])\n",
    "g3 = tf.constant([0.,-2.])\n",
    "v = tf.constant([1.,1.])\n",
    "s = tf.constant([math.sqrt(5), 2])\n",
    "t = tf.constant([6.2, 3.2])"
   ]
  },
  {
   "cell_type": "code",
   "execution_count": 394,
   "metadata": {
    "collapsed": true
   },
   "outputs": [],
   "source": [
    "grads = tf.Variable(np.array([[1., 2., 0.2], [3., 4., 0.5], [4., 2., 0.6]]))\n",
    "true_val = np.array([[-1., 2., 0.2], [-3., 4., 0.5], [-4., 2., 0.6]])\n",
    "x = np.eye(grads.shape[1])\n",
    "x[0, 0] = -1.\n",
    "T = tf.constant(x, dtype=tf.float64)"
   ]
  },
  {
   "cell_type": "code",
   "execution_count": 395,
   "metadata": {
    "collapsed": true
   },
   "outputs": [],
   "source": [
    "def minkowski_tensor_dot(u, v):\n",
    "    \"\"\"\n",
    "    Minkowski dot product is the same as the Euclidean dot product, but the first element squared is subtracted\n",
    "    :param u: a tensor of shape (#examples, dims)\n",
    "    :param v: a tensor of shape (#examples, dims)\n",
    "    :return: a scalar dot product\n",
    "    \"\"\"\n",
    "    assert u.shape == v.shape, 'minkowski dot product not define for different shape tensors'\n",
    "    try:\n",
    "        temp = np.eye(u.shape[1])\n",
    "    except IndexError:\n",
    "        temp = np.eye(u.shape)\n",
    "    temp[0, 0] = -1.\n",
    "    T = tf.constant(temp, dtype=u.dtype)\n",
    "    # make the first column of v negative\n",
    "    v_neg = tf.matmul(v, T)\n",
    "    return tf.reduce_sum(tf.multiply(u, v_neg), 1, keep_dims=True)  # keep dims for broadcasting"
   ]
  },
  {
   "cell_type": "code",
   "execution_count": 396,
   "metadata": {
    "collapsed": true
   },
   "outputs": [],
   "source": [
    "def tensor_exp_map(hyperboloid_points, tangent_grads):\n",
    "    \"\"\"\n",
    "    Map vectors in the tangent space of the hyperboloid points back onto the hyperboloid\n",
    "    :param hyperboloid_points: a tensor of points on the hyperboloid of shape (#examples, #dims)\n",
    "    :param tangent_grads: a tensor of gradients on the tangent spaces of the hyperboloid_points of shape (#examples, #dims)\n",
    "    :return:\n",
    "    \"\"\"\n",
    "    # todo do we need to normalise the gradients?\n",
    "    norms = tf.sqrt(tf.maximum(minkowski_tensor_dot(tangent_grads, tangent_grads), 0))\n",
    "    zero = tf.constant(0, dtype=tf.float32)\n",
    "    nonzero_flags = tf.squeeze(tf.not_equal(norms, zero))\n",
    "    nonzero_indices = tf.squeeze(tf.where(nonzero_flags))\n",
    "    nonzero_norms = tf.boolean_mask(norms, nonzero_flags)\n",
    "    updated_grads = tf.boolean_mask(tangent_grads, tf.squeeze(nonzero_flags))\n",
    "    updated_points = tf.boolean_mask(hyperboloid_points, nonzero_flags)\n",
    "    # if norms == 0:\n",
    "    #     return hyperboloid_points\n",
    "    normed_grads = tf.divide(updated_grads, nonzero_norms)\n",
    "    updates = tf.multiply(tf.cosh(nonzero_norms), updated_points) + tf.multiply(tf.sinh(nonzero_norms), normed_grads)\n",
    "    return tf.scatter_update(hyperboloid_points, nonzero_indices, updates)"
   ]
  },
  {
   "cell_type": "code",
   "execution_count": 397,
   "metadata": {
    "collapsed": true
   },
   "outputs": [],
   "source": [
    "def project_tensors_onto_tangent_space(hyperboloid_points, ambient_gradients):\n",
    "    \"\"\"\n",
    "    project gradients in the ambiant space onto the tangent space\n",
    "    :param hyperboloid_point: A point on the hyperboloid\n",
    "    :param ambient_gradient: The gradient to project\n",
    "    :return: gradients in the tangent spaces of the hyperboloid points\n",
    "    \"\"\"\n",
    "    return ambient_gradients + tf.multiply(minkowski_tensor_dot(hyperboloid_points, ambient_gradients),\n",
    "                                           hyperboloid_points)"
   ]
  },
  {
   "cell_type": "code",
   "execution_count": 398,
   "metadata": {
    "collapsed": true
   },
   "outputs": [],
   "source": [
    "def transform_grads(grad):\n",
    "    \"\"\"\n",
    "    multiply by the inverse of the Minkowski metric tensor g = diag[-1, 1,1 ... 1] to make the first element of each\n",
    "    grad vector negative\n",
    "    :param grad: grad matrix of shape (n_vars, embedding_dim)\n",
    "    :return:\n",
    "    \"\"\"\n",
    "    x = np.eye(grad.shape[1])\n",
    "    x[0, 0] = -1.\n",
    "    T = tf.constant(x, dtype=grad.dtype)\n",
    "    return tf.matmul(grad, T)"
   ]
  },
  {
   "cell_type": "code",
   "execution_count": 399,
   "metadata": {
    "collapsed": true
   },
   "outputs": [],
   "source": [
    "def rsgd(grads, vecs, lr=0.1):\n",
    "    \"\"\"\n",
    "    Perform the Riemannian gradient descent operation by\n",
    "    1/ Transforming gradients using the Minkowski metric tensor\n",
    "    2/ Projecting onto the tangent space\n",
    "    3/ Applying the exponential map\n",
    "    :param grads:\n",
    "    :param var:\n",
    "    :param lr:\n",
    "    :return:\n",
    "    \"\"\"\n",
    "    minkowski_grads = transform_grads(grads)\n",
    "    tangent_grads = project_tensors_onto_tangent_space(vecs, minkowski_grads)\n",
    "    return tensor_exp_map(vecs, lr * tangent_grads)"
   ]
  },
  {
   "cell_type": "code",
   "execution_count": 400,
   "metadata": {
    "collapsed": false
   },
   "outputs": [
    {
     "name": "stdout",
     "output_type": "stream",
     "text": [
      "[[-1.  1.]\n",
      " [-2. -1.]\n",
      " [-3.  2.]\n",
      " [-4.  0.]]\n"
     ]
    }
   ],
   "source": [
    "g1 = tf.constant([[1., 1.], [2., -1.], [3., 2.], [4., 0.]])\n",
    "retval1 = np.array([[-1., 1.], [-2., -1.], [-3., 2.], [-4., 0.]])\n",
    "transformed_grads = transform_grads(g1)\n",
    "sess = tf.Session()\n",
    "init = tf.global_variables_initializer()\n",
    "sess.run(init)\n",
    "tgs = sess.run(transformed_grads)\n",
    "print(tgs)\n",
    "assert np.array_equal(tgs, retval1)"
   ]
  },
  {
   "cell_type": "code",
   "execution_count": 401,
   "metadata": {
    "collapsed": false
   },
   "outputs": [
    {
     "name": "stdout",
     "output_type": "stream",
     "text": [
      "[[ 1.  0.]\n",
      " [ 1.  0.]\n",
      " [ 1.  0.]\n",
      " [ 1.  0.]]\n",
      "[[ 1.  1.]\n",
      " [ 2. -1.]\n",
      " [ 3.  2.]\n",
      " [ 4.  0.]]\n"
     ]
    }
   ],
   "source": [
    "p1 = tf.Variable([[1., 0.], [1., 0.], [1., 0.], [1., 0.]])  # this the minima of the hyperboloid\n",
    "g1 = tf.constant([[1., 1.], [2., -1.], [3., 2.], [4., 0.]])\n",
    "retval1 = np.array([[-1.], [-1.], [-1.], [-1.]])\n",
    "sess = tf.Session()\n",
    "init = tf.global_variables_initializer()\n",
    "sess.run(init)\n",
    "print(sess.run(p1))\n",
    "p1 = g1\n",
    "print(sess.run(p1))"
   ]
  },
  {
   "cell_type": "code",
   "execution_count": 402,
   "metadata": {
    "collapsed": false
   },
   "outputs": [
    {
     "name": "stdout",
     "output_type": "stream",
     "text": [
      "('minkowski grads', array([[-1.,  1.],\n",
      "       [-2., -1.],\n",
      "       [-3.,  2.],\n",
      "       [-4.,  0.]], dtype=float32))\n",
      "('tangent space grads', array([[  3.19452763,   4.19452763],\n",
      "       [  4.57562494,  -6.00795794],\n",
      "       [ 66.75225067,  69.24310303],\n",
      "       [  0.        ,   0.        ]], dtype=float32))\n",
      "('new points', array([[  2.06089172e+01,   2.05846424e+01],\n",
      "       [  6.67124863e+01,  -6.67050018e+01],\n",
      "       [  3.63710016e+08,   3.63710048e+08],\n",
      "       [  1.00000000e+00,   0.00000000e+00]], dtype=float32))\n",
      "[[ -9.99969482e-01]\n",
      " [ -9.98535156e-01]\n",
      " [  2.57698038e+10]\n",
      " [ -1.00000000e+00]]\n"
     ]
    },
    {
     "ename": "AssertionError",
     "evalue": "",
     "output_type": "error",
     "traceback": [
      "\u001b[0;31m---------------------------------------------------------------------------\u001b[0m",
      "\u001b[0;31mAssertionError\u001b[0m                            Traceback (most recent call last)",
      "\u001b[0;32m<ipython-input-402-37b77ea5cdb9>\u001b[0m in \u001b[0;36m<module>\u001b[0;34m()\u001b[0m\n\u001b[1;32m     20\u001b[0m \u001b[0mnorms\u001b[0m \u001b[0;34m=\u001b[0m \u001b[0msess\u001b[0m\u001b[0;34m.\u001b[0m\u001b[0mrun\u001b[0m\u001b[0;34m(\u001b[0m\u001b[0mminkowski_tensor_dot\u001b[0m\u001b[0;34m(\u001b[0m\u001b[0mnew_points\u001b[0m\u001b[0;34m,\u001b[0m \u001b[0mnew_points\u001b[0m\u001b[0;34m)\u001b[0m\u001b[0;34m)\u001b[0m\u001b[0;34m\u001b[0m\u001b[0m\n\u001b[1;32m     21\u001b[0m \u001b[0;32mprint\u001b[0m\u001b[0;34m(\u001b[0m\u001b[0mnorms\u001b[0m\u001b[0;34m)\u001b[0m\u001b[0;34m\u001b[0m\u001b[0m\n\u001b[0;32m---> 22\u001b[0;31m \u001b[0;32massert\u001b[0m \u001b[0mnp\u001b[0m\u001b[0;34m.\u001b[0m\u001b[0marray_equal\u001b[0m\u001b[0;34m(\u001b[0m\u001b[0mnp\u001b[0m\u001b[0;34m.\u001b[0m\u001b[0maround\u001b[0m\u001b[0;34m(\u001b[0m\u001b[0mnorms\u001b[0m\u001b[0;34m,\u001b[0m \u001b[0;36m3\u001b[0m\u001b[0;34m)\u001b[0m\u001b[0;34m,\u001b[0m \u001b[0mretval1\u001b[0m\u001b[0;34m)\u001b[0m\u001b[0;34m\u001b[0m\u001b[0m\n\u001b[0m",
      "\u001b[0;31mAssertionError\u001b[0m: "
     ]
    }
   ],
   "source": [
    "p1 = tf.Variable([[1., 0.], [1., 0.], [1., 0.], [1., 0.]])  # this the minima of the hyperboloid\n",
    "p2 = tf.Variable([[ 1.54308057, 1.17520118],[ 1.54308057,-1.17520118],[ 3.76219535,3.62686038],[ 1.,0.]])\n",
    "g1 = tf.constant([[1., 1.], [2., -1.], [3., 2.], [4., 0.]])\n",
    "retval1 = np.array([[-1.], [-1.], [-1.], [-1.]])\n",
    "sess = tf.Session()\n",
    "init = tf.global_variables_initializer()\n",
    "sess.run(init)\n",
    "# here the tangent space is x=1\n",
    "# print(sess.run(rsgd(g1, p1)))\n",
    "minkowski_grads = transform_grads(g1)\n",
    "tangent_grads = project_tensors_onto_tangent_space(p2, minkowski_grads)\n",
    "pnew = tensor_exp_map(p2, tangent_grads)\n",
    "# # check that the points are on the hyperboloid\n",
    "# # print(sess.run(p2))\n",
    "print('minkowski grads', sess.run(minkowski_grads))\n",
    "print('tangent space grads', sess.run(tangent_grads))\n",
    "new_points = sess.run(pnew)\n",
    "print('new points', new_points)\n",
    "# norms = sess.run(minkowski_tensor_dot(pnew, pnew))\n",
    "norms = sess.run(minkowski_tensor_dot(new_points, new_points))\n",
    "print(norms)\n",
    "assert np.array_equal(np.around(norms, 3), retval1)"
   ]
  },
  {
   "cell_type": "code",
   "execution_count": null,
   "metadata": {
    "collapsed": true
   },
   "outputs": [],
   "source": [
    "def minkowski_vector_dot(u, v):\n",
    "    \"\"\"\n",
    "        Minkowski dot product is the same as the Euclidean dot product, but the first element squared is subtracted\n",
    "        :param u: a vector\n",
    "        :param v: a vector\n",
    "        :return: a scalar dot product\n",
    "        \"\"\"\n",
    "    assert u.shape == v.shape, 'minkowski dot product not define for different shape vectors'\n",
    "    # assert that the vectors have only 1d.\n",
    "    # todo this currently fails because exp_map returns tensors with shape = None\n",
    "    # assert u.get_shape().ndims == 1, 'applied minkowski_vector_dot to a tensor. Try using minkowski_tensor_dot'\n",
    "\n",
    "    return tf.tensordot(u, v, 1) - 2 * tf.multiply(u[0], v[0])"
   ]
  },
  {
   "cell_type": "code",
   "execution_count": null,
   "metadata": {
    "collapsed": true
   },
   "outputs": [],
   "source": [
    "def project_onto_tangent_space(hyperboloid_point, ambient_gradient):\n",
    "    \"\"\"\n",
    "    project gradients in the ambiant space onto the tangent space\n",
    "    :param hyperboloid_point: A point on the hyperboloid\n",
    "    :param ambient_gradient: The gradient to project\n",
    "    :return:\n",
    "    \"\"\"\n",
    "    return ambient_gradient + minkowski_vector_dot(hyperboloid_point, ambient_gradient) * hyperboloid_point"
   ]
  },
  {
   "cell_type": "code",
   "execution_count": null,
   "metadata": {
    "collapsed": false
   },
   "outputs": [],
   "source": [
    "point = tf.Variable([3.76219535,3.62686038])\n",
    "g1 = tf.constant([-3., 2.])\n",
    "# minkowski_grads = transform_grads(g1)\n",
    "sess = tf.Session()\n",
    "init = tf.global_variables_initializer()\n",
    "sess.run(init)\n",
    "print(sess.run(project_onto_tangent_space(point, g1)))"
   ]
  },
  {
   "cell_type": "code",
   "execution_count": null,
   "metadata": {
    "collapsed": false
   },
   "outputs": [],
   "source": [
    "points = tf.Variable([[1., 0.], [1., 0.], [1., 0.], [1., 0.]])  # this the minima of the hyperboloid\n",
    "grads = tf.Variable([[1., 1.], [2., -1.], [3., 2.], [4., 0.]])\n",
    "retval1 = np.array([[-1.], [-1.], [-1.], [-1.]])\n",
    "sess = tf.Session()\n",
    "lr = 0.1\n",
    "init = tf.global_variables_initializer()\n",
    "sess.run(init)\n",
    "vals = []\n",
    "for i in range(3):\n",
    "    vals.append(sess.run(points))\n",
    "    print(vals[i])\n",
    "    print(sess.run(minkowski_tensor_dot(vals[i], vals[i])))\n",
    "#     print(sess.run(points))\n",
    "    points = rsgd(grads, points)\n",
    "#     vals.append(points)\n",
    "    # check that the points are on the hyperboloid\n",
    "#     norms = sess.run(minkowski_tensor_dot(points, points))\n",
    "#     print(norms)\n",
    "#     try:\n",
    "#         assert np.array_equal(np.around(norms, 3), retval1)\n",
    "#     except AssertionError:\n",
    "#         print(sess.run(points))\n",
    "print(sess.run(vals))"
   ]
  },
  {
   "cell_type": "code",
   "execution_count": 427,
   "metadata": {
    "collapsed": false
   },
   "outputs": [],
   "source": [
    "def circ_sample():\n",
    "    from matplotlib.pyplot import scatter\n",
    "    # radius of the circle\n",
    "    circle_r = 1\n",
    "    # center of the circle (x, y)\n",
    "    circle_x = 0\n",
    "    circle_y = 0\n",
    "\n",
    "    # random angle\n",
    "    alpha = 2 * math.pi * np.random.rand(1000)\n",
    "    # random radius\n",
    "    r = circle_r * np.sqrt(np.random.rand(1000))\n",
    "    # calculating coordinates\n",
    "    x = r * np.cos(alpha) + circle_x\n",
    "    y = r * np.sin(alpha) + circle_y\n",
    "#     scatter(x,y)\n",
    "    retval = np.concatenate((x,y), axis=0)\n",
    "    print(retval)\n",
    "    return retval"
   ]
  },
  {
   "cell_type": "code",
   "execution_count": 428,
   "metadata": {
    "collapsed": false
   },
   "outputs": [
    {
     "name": "stdout",
     "output_type": "stream",
     "text": [
      "[ 0.11786285 -0.48487972  0.73233298 ...,  0.67630736  0.06704782\n",
      " -0.45228546]\n"
     ]
    },
    {
     "data": {
      "text/plain": [
       "array([ 0.11786285, -0.48487972,  0.73233298, ...,  0.67630736,\n",
       "        0.06704782, -0.45228546])"
      ]
     },
     "execution_count": 428,
     "metadata": {},
     "output_type": "execute_result"
    }
   ],
   "source": [
    "circ_sample()"
   ]
  },
  {
   "cell_type": "code",
   "execution_count": 408,
   "metadata": {
    "collapsed": false
   },
   "outputs": [
    {
     "data": {
      "text/plain": [
       "array([ 0.99220344,  0.47888188,  0.96114238,  0.51419669,  0.13342885,\n",
       "        0.3481402 ,  0.49727209,  0.50193905,  0.44276913,  0.1926202 ])"
      ]
     },
     "execution_count": 408,
     "metadata": {},
     "output_type": "execute_result"
    }
   ],
   "source": [
    "np.random.rand(10)"
   ]
  },
  {
   "cell_type": "code",
   "execution_count": 446,
   "metadata": {
    "collapsed": true
   },
   "outputs": [],
   "source": [
    "def to_hyperboloid_points(poincare_pts):\n",
    "    \"\"\"\n",
    "    Post: result.shape[1] == poincare_pts.shape[1] + 1\n",
    "    \"\"\"\n",
    "    norm_sqd = (poincare_pts ** 2).sum(axis=1)\n",
    "    N = poincare_pts.shape[1]\n",
    "    result = np.zeros((poincare_pts.shape[0], N + 1), dtype=np.float64)\n",
    "    result[:, 1:] = (2. / (1 - norm_sqd))[:, np.newaxis] * poincare_pts\n",
    "    result[:, 0] = (1 + norm_sqd) / (1 - norm_sqd)\n",
    "    return result"
   ]
  },
  {
   "cell_type": "code",
   "execution_count": 447,
   "metadata": {
    "collapsed": true
   },
   "outputs": [],
   "source": [
    "points = np.divide(np.random.rand(100,2),np.sqrt(2))"
   ]
  },
  {
   "cell_type": "code",
   "execution_count": 448,
   "metadata": {
    "collapsed": false
   },
   "outputs": [],
   "source": [
    "hyp_points = to_hyperboloid_points(points)"
   ]
  },
  {
   "cell_type": "code",
   "execution_count": 449,
   "metadata": {
    "collapsed": true
   },
   "outputs": [
    {
     "data": {
      "text/plain": [
       "array([[  3.08603677e+00,   9.68986464e-01,   2.75403126e+00],\n",
       "       [  1.36300074e+00,   7.86176826e-01,   4.89588628e-01],\n",
       "       [  3.20336079e+00,   2.20962623e+00,   2.09262330e+00],\n",
       "       [  1.47619865e+00,   1.04260346e+00,   3.03546497e-01],\n",
       "       [  1.27981685e+00,   6.33842268e-01,   4.85978543e-01],\n",
       "       [  3.36952527e+00,   1.32147588e+00,   2.93383743e+00],\n",
       "       [  3.39460041e+00,   1.90462314e+00,   2.62597079e+00],\n",
       "       [  1.14379844e+00,   1.32912895e-01,   5.39081655e-01],\n",
       "       [  8.67314828e+00,   6.08228655e+00,   6.10158106e+00],\n",
       "       [  1.06980832e+00,   3.58919025e-01,   1.25167802e-01],\n",
       "       [  2.16135982e+00,   3.78978614e-01,   1.87825756e+00],\n",
       "       [  1.37954551e+00,   9.50308411e-01,   7.72968048e-03],\n",
       "       [  1.27782878e+00,   4.06931665e-01,   6.83559074e-01],\n",
       "       [  2.97189045e+00,   1.72008486e+00,   2.20758713e+00],\n",
       "       [  2.23136668e+00,   1.10528308e+00,   1.66052600e+00],\n",
       "       [  2.79282061e+00,   9.47224276e-01,   2.42952940e+00],\n",
       "       [  1.47618598e+00,   1.56194891e-01,   1.07458280e+00],\n",
       "       [  1.19169776e+00,   5.42235361e-01,   3.55139924e-01],\n",
       "       [  3.12333656e+00,   2.67658200e+00,   1.26140400e+00],\n",
       "       [  1.67813399e+00,   1.33616940e+00,   1.75456574e-01],\n",
       "       [  1.42424332e+00,   8.93892670e-01,   4.78983230e-01],\n",
       "       [  3.60171196e+00,   1.44691793e+00,   3.14304908e+00],\n",
       "       [  1.29077455e+00,   2.63802983e-01,   7.72338616e-01],\n",
       "       [  1.21737915e+01,   9.28165062e+00,   7.81358831e+00],\n",
       "       [  1.48027095e+00,   1.09108985e+00,   2.69263839e-02],\n",
       "       [  1.57888310e+00,   1.19784167e+00,   2.40929863e-01],\n",
       "       [  1.89874145e+00,   7.16381011e-01,   1.44638077e+00],\n",
       "       [  1.19451862e+00,   1.06480869e-01,   6.44621243e-01],\n",
       "       [  3.50834593e+00,   1.60510598e+00,   2.95501708e+00],\n",
       "       [  2.76193799e+00,   1.01215605e+00,   2.36724345e+00],\n",
       "       [  1.77420081e+00,   9.13648090e-01,   1.14587769e+00],\n",
       "       [  2.31812104e+00,   1.50913899e+00,   1.44782066e+00],\n",
       "       [  1.93439956e+00,   5.61182719e-01,   1.55787536e+00],\n",
       "       [  1.27107475e+00,   1.98646717e-01,   7.59058953e-01],\n",
       "       [  1.06430046e+00,   3.26172821e-01,   1.62316876e-01],\n",
       "       [  1.03122746e+00,   2.31720984e-01,   9.86684167e-02],\n",
       "       [  2.15983213e+00,   9.88101524e-02,   1.91183456e+00],\n",
       "       [  1.88918841e+00,   1.45502032e+00,   6.72271303e-01],\n",
       "       [  2.37083556e+00,   3.58420056e-01,   2.11952738e+00],\n",
       "       [  1.57555947e+00,   9.34707174e-01,   7.80198785e-01],\n",
       "       [  2.68975382e+00,   2.45215168e+00,   4.70879726e-01],\n",
       "       [  1.08601602e+01,   7.52284745e+00,   7.76851628e+00],\n",
       "       [  1.11287568e+00,   4.81013012e-01,   8.43727339e-02],\n",
       "       [  1.86775498e+00,   8.13572409e-01,   1.35152085e+00],\n",
       "       [  1.76309464e+00,   6.12908872e-01,   1.31637587e+00],\n",
       "       [  3.18619623e+00,   2.92074080e+00,   7.88111389e-01],\n",
       "       [  3.17584271e+00,   2.35959196e+00,   1.87571392e+00],\n",
       "       [  1.43878957e+00,   1.03444962e+00,   5.42372429e-03],\n",
       "       [  1.35672767e+00,   2.79418479e-01,   8.73289917e-01],\n",
       "       [  1.88477541e+00,   1.27677243e-03,   1.59761595e+00],\n",
       "       [  1.52587105e+00,   2.67834095e-01,   1.12095823e+00],\n",
       "       [  2.33934801e+00,   1.98132228e+00,   7.39534385e-01],\n",
       "       [  3.81294219e+00,   2.10290738e+00,   3.01932256e+00],\n",
       "       [  1.19711720e+00,   6.06054611e-01,   2.56490536e-01],\n",
       "       [  1.10347589e+00,   8.11297917e-02,   4.59431161e-01],\n",
       "       [  1.10450062e+00,   2.78259417e-01,   3.77482876e-01],\n",
       "       [  2.24665080e+00,   6.21074967e-01,   1.91355839e+00],\n",
       "       [  2.23710387e+00,   1.27004355e+00,   1.54648735e+00],\n",
       "       [  1.11516511e+00,   4.64702318e-01,   1.66267767e-01],\n",
       "       [  2.44473709e+00,   1.85403806e+00,   1.24067817e+00],\n",
       "       [  2.14449729e+00,   1.88055593e+00,   2.49755960e-01],\n",
       "       [  1.11486740e+00,   4.73729474e-01,   1.36050405e-01],\n",
       "       [  1.25783100e+00,   7.59878975e-01,   6.87224446e-02],\n",
       "       [  1.30829331e+00,   8.41270168e-01,   6.24171471e-02],\n",
       "       [  3.09339504e+00,   2.84168014e+00,   7.02813512e-01],\n",
       "       [  2.57151425e+00,   1.51623180e+00,   1.82036443e+00],\n",
       "       [  1.62800643e+00,   3.58017264e-01,   1.23378627e+00],\n",
       "       [  2.78618210e+00,   1.46375690e+00,   2.14947120e+00],\n",
       "       [  1.79713188e+00,   5.41503219e-03,   1.49320248e+00],\n",
       "       [  1.79933879e+00,   1.32123341e+00,   7.01400282e-01],\n",
       "       [  2.44025626e+00,   7.16930838e-01,   2.10733500e+00],\n",
       "       [  3.27177862e+00,   2.58860173e+00,   1.73311178e+00],\n",
       "       [  1.42627735e+00,   1.01557559e+00,   5.36031285e-02],\n",
       "       [  3.03181413e+00,   2.59766518e+00,   1.20167904e+00],\n",
       "       [  1.50508368e+00,   5.60140067e-01,   9.75458866e-01],\n",
       "       [  5.91978453e+00,   4.20563241e+00,   4.04431761e+00],\n",
       "       [  4.41138521e+00,   3.76366280e+00,   2.07247722e+00],\n",
       "       [  3.20493528e+00,   2.01114115e+00,   2.28624614e+00],\n",
       "       [  4.63390853e+00,   3.73889696e+00,   2.54828527e+00],\n",
       "       [  2.94978186e+00,   2.46801408e+00,   1.26890485e+00],\n",
       "       [  3.02374570e+00,   8.76121790e-01,   2.71577772e+00],\n",
       "       [  2.52726639e+00,   1.84631638e+00,   1.40648186e+00],\n",
       "       [  2.38057167e+00,   6.92107734e-01,   2.04648683e+00],\n",
       "       [  1.74933735e+00,   2.38019163e-01,   1.41546036e+00],\n",
       "       [  3.31667432e+00,   2.09807537e+00,   2.36609558e+00],\n",
       "       [  2.03077542e+00,   4.32942680e-01,   1.71365382e+00],\n",
       "       [  1.24788215e+00,   1.66699607e-01,   7.27613287e-01],\n",
       "       [  4.29228196e+00,   2.26237029e+00,   3.50790038e+00],\n",
       "       [  1.46528442e+00,   8.45543859e-01,   6.57353790e-01],\n",
       "       [  1.92196500e+00,   1.60957312e+00,   3.21284686e-01],\n",
       "       [  3.72544958e+00,   3.31878893e+00,   1.36550891e+00],\n",
       "       [  1.57020764e+00,   4.14908905e-01,   1.13727860e+00],\n",
       "       [  2.35455164e+00,   2.11124337e+00,   2.94219006e-01],\n",
       "       [  2.59656011e+00,   2.38576149e+00,   2.24201918e-01],\n",
       "       [  1.69362814e+00,   1.34491369e+00,   2.44097174e-01],\n",
       "       [  1.92557588e+00,   1.32677272e+00,   9.73404656e-01],\n",
       "       [  1.28076071e+00,   4.56547061e-01,   6.57200712e-01],\n",
       "       [  3.03066175e+00,   1.59112814e+00,   2.37765049e+00],\n",
       "       [  1.20211237e+00,   6.60190697e-01,   9.60333426e-02],\n",
       "       [  9.83748360e+00,   7.09961247e+00,   6.73584340e+00]])"
      ]
     },
     "execution_count": 449,
     "metadata": {},
     "output_type": "execute_result"
    }
   ],
   "source": [
    "hyp_points"
   ]
  },
  {
   "cell_type": "code",
   "execution_count": 454,
   "metadata": {
    "collapsed": false
   },
   "outputs": [
    {
     "ename": "AssertionError",
     "evalue": "",
     "output_type": "error",
     "traceback": [
      "\u001b[0;31m---------------------------------------------------------------------------\u001b[0m",
      "\u001b[0;31mAssertionError\u001b[0m                            Traceback (most recent call last)",
      "\u001b[0;32m<ipython-input-454-f4c4a8703796>\u001b[0m in \u001b[0;36m<module>\u001b[0;34m()\u001b[0m\n\u001b[1;32m      3\u001b[0m \u001b[0minit\u001b[0m \u001b[0;34m=\u001b[0m \u001b[0mtf\u001b[0m\u001b[0;34m.\u001b[0m\u001b[0mglobal_variables_initializer\u001b[0m\u001b[0;34m(\u001b[0m\u001b[0;34m)\u001b[0m\u001b[0;34m\u001b[0m\u001b[0m\n\u001b[1;32m      4\u001b[0m \u001b[0msess\u001b[0m\u001b[0;34m.\u001b[0m\u001b[0mrun\u001b[0m\u001b[0;34m(\u001b[0m\u001b[0minit\u001b[0m\u001b[0;34m)\u001b[0m\u001b[0;34m\u001b[0m\u001b[0m\n\u001b[0;32m----> 5\u001b[0;31m \u001b[0;32massert\u001b[0m \u001b[0mnp\u001b[0m\u001b[0;34m.\u001b[0m\u001b[0marray_equal\u001b[0m\u001b[0;34m(\u001b[0m\u001b[0msess\u001b[0m\u001b[0;34m.\u001b[0m\u001b[0mrun\u001b[0m\u001b[0;34m(\u001b[0m\u001b[0mminkowski_tensor_dot\u001b[0m\u001b[0;34m(\u001b[0m\u001b[0mhyp_points\u001b[0m\u001b[0;34m,\u001b[0m \u001b[0mhyp_points\u001b[0m\u001b[0;34m)\u001b[0m\u001b[0;34m)\u001b[0m\u001b[0;34m,\u001b[0m \u001b[0mnp\u001b[0m\u001b[0;34m.\u001b[0m\u001b[0marray\u001b[0m\u001b[0;34m(\u001b[0m\u001b[0;36m100\u001b[0m \u001b[0;34m*\u001b[0m \u001b[0;34m[\u001b[0m\u001b[0;34m[\u001b[0m\u001b[0;34m-\u001b[0m\u001b[0;36m1.\u001b[0m\u001b[0;34m]\u001b[0m\u001b[0;34m]\u001b[0m\u001b[0;34m)\u001b[0m\u001b[0;34m)\u001b[0m\u001b[0;34m\u001b[0m\u001b[0m\n\u001b[0m",
      "\u001b[0;31mAssertionError\u001b[0m: "
     ]
    }
   ],
   "source": [
    "sess = tf.Session()\n",
    "lr = 0.1\n",
    "init = tf.global_variables_initializer()\n",
    "sess.run(init)\n",
    "assert np.array_equal(np.around(sess.run(minkowski_tensor_dot(hyp_points, hyp_points)),, np.array(100 * [[-1.]]))"
   ]
  },
  {
   "cell_type": "code",
   "execution_count": 453,
   "metadata": {
    "collapsed": true
   },
   "outputs": [
    {
     "data": {
      "text/plain": [
       "array([[-1],\n",
       "       [-1],\n",
       "       [-1],\n",
       "       [-1],\n",
       "       [-1],\n",
       "       [-1],\n",
       "       [-1],\n",
       "       [-1],\n",
       "       [-1],\n",
       "       [-1],\n",
       "       [-1],\n",
       "       [-1],\n",
       "       [-1],\n",
       "       [-1],\n",
       "       [-1],\n",
       "       [-1],\n",
       "       [-1],\n",
       "       [-1],\n",
       "       [-1],\n",
       "       [-1],\n",
       "       [-1],\n",
       "       [-1],\n",
       "       [-1],\n",
       "       [-1],\n",
       "       [-1],\n",
       "       [-1],\n",
       "       [-1],\n",
       "       [-1],\n",
       "       [-1],\n",
       "       [-1],\n",
       "       [-1],\n",
       "       [-1],\n",
       "       [-1],\n",
       "       [-1],\n",
       "       [-1],\n",
       "       [-1],\n",
       "       [-1],\n",
       "       [-1],\n",
       "       [-1],\n",
       "       [-1],\n",
       "       [-1],\n",
       "       [-1],\n",
       "       [-1],\n",
       "       [-1],\n",
       "       [-1],\n",
       "       [-1],\n",
       "       [-1],\n",
       "       [-1],\n",
       "       [-1],\n",
       "       [-1],\n",
       "       [-1],\n",
       "       [-1],\n",
       "       [-1],\n",
       "       [-1],\n",
       "       [-1],\n",
       "       [-1],\n",
       "       [-1],\n",
       "       [-1],\n",
       "       [-1],\n",
       "       [-1],\n",
       "       [-1],\n",
       "       [-1],\n",
       "       [-1],\n",
       "       [-1],\n",
       "       [-1],\n",
       "       [-1],\n",
       "       [-1],\n",
       "       [-1],\n",
       "       [-1],\n",
       "       [-1],\n",
       "       [-1],\n",
       "       [-1],\n",
       "       [-1],\n",
       "       [-1],\n",
       "       [-1],\n",
       "       [-1],\n",
       "       [-1],\n",
       "       [-1],\n",
       "       [-1],\n",
       "       [-1],\n",
       "       [-1],\n",
       "       [-1],\n",
       "       [-1],\n",
       "       [-1],\n",
       "       [-1],\n",
       "       [-1],\n",
       "       [-1],\n",
       "       [-1],\n",
       "       [-1],\n",
       "       [-1],\n",
       "       [-1],\n",
       "       [-1],\n",
       "       [-1],\n",
       "       [-1],\n",
       "       [-1],\n",
       "       [-1],\n",
       "       [-1],\n",
       "       [-1],\n",
       "       [-1],\n",
       "       [-1]])"
      ]
     },
     "execution_count": 453,
     "metadata": {},
     "output_type": "execute_result"
    }
   ],
   "source": [
    "np.array(100*[[-1]])"
   ]
  },
  {
   "cell_type": "code",
   "execution_count": null,
   "metadata": {
    "collapsed": true
   },
   "outputs": [],
   "source": []
  }
 ],
 "metadata": {
  "kernelspec": {
   "display_name": "Python 2",
   "language": "python",
   "name": "python2"
  },
  "language_info": {
   "codemirror_mode": {
    "name": "ipython",
    "version": 2
   },
   "file_extension": ".py",
   "mimetype": "text/x-python",
   "name": "python",
   "nbconvert_exporter": "python",
   "pygments_lexer": "ipython2",
   "version": "2.7.12"
  }
 },
 "nbformat": 4,
 "nbformat_minor": 1
}
