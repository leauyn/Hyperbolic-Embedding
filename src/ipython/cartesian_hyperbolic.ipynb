{
 "cells": [
  {
   "cell_type": "code",
   "execution_count": 1,
   "metadata": {
    "collapsed": true
   },
   "outputs": [],
   "source": [
    "import tensorflow as tf\n",
    "import math"
   ]
  },
  {
   "cell_type": "code",
   "execution_count": 126,
   "metadata": {
    "collapsed": true
   },
   "outputs": [],
   "source": [
    "import os"
   ]
  },
  {
   "cell_type": "code",
   "execution_count": 110,
   "metadata": {
    "collapsed": true
   },
   "outputs": [],
   "source": [
    "import utils"
   ]
  },
  {
   "cell_type": "code",
   "execution_count": 6,
   "metadata": {
    "collapsed": false
   },
   "outputs": [],
   "source": [
    "data = np.random.rand(5,3)"
   ]
  },
  {
   "cell_type": "code",
   "execution_count": 15,
   "metadata": {
    "collapsed": false
   },
   "outputs": [],
   "source": [
    "np_norms = np.linalg.norm(data,axis=0)"
   ]
  },
  {
   "cell_type": "code",
   "execution_count": 17,
   "metadata": {
    "collapsed": false
   },
   "outputs": [
    {
     "data": {
      "text/plain": [
       "array([ 1.13334822,  1.37877002,  1.0132657 ])"
      ]
     },
     "execution_count": 17,
     "metadata": {},
     "output_type": "execute_result"
    }
   ],
   "source": [
    "np_norms"
   ]
  },
  {
   "cell_type": "code",
   "execution_count": 16,
   "metadata": {
    "collapsed": false
   },
   "outputs": [
    {
     "data": {
      "text/plain": [
       "array([ 1.28447819,  1.90100676,  1.02670739])"
      ]
     },
     "execution_count": 16,
     "metadata": {},
     "output_type": "execute_result"
    }
   ],
   "source": [
    "np.square(np_norms)"
   ]
  },
  {
   "cell_type": "code",
   "execution_count": 7,
   "metadata": {
    "collapsed": false
   },
   "outputs": [],
   "source": [
    "emb = tf.Variable(data)"
   ]
  },
  {
   "cell_type": "code",
   "execution_count": 21,
   "metadata": {
    "collapsed": true
   },
   "outputs": [],
   "source": [
    "normed = tf.norm(emb, axis=0)\n",
    "squared_norm = tf.square(normed)\n",
    "mul_test = tf.mu"
   ]
  },
  {
   "cell_type": "code",
   "execution_count": 90,
   "metadata": {
    "collapsed": true
   },
   "outputs": [],
   "source": [
    "def conditional_assignment(tensor, epsilon):\n",
    "    norms = tf.norm(tensor, axis=1)\n",
    "    comparison = tf.greater(norms, tf.constant(1.0, dtype=tf.float64))\n",
    "    norm = tf.nn.l2_normalize(tensor, dim=1) - epsilon\n",
    "    conditional_assignment_op = tensor.assign( tf.where (comparison, norm, tensor) )\n",
    "    return conditional_assignment_op"
   ]
  },
  {
   "cell_type": "code",
   "execution_count": 91,
   "metadata": {
    "collapsed": false
   },
   "outputs": [],
   "source": [
    "sess = tf.Session()\n",
    "init = tf.global_variables_initializer()\n",
    "sess.run(init)"
   ]
  },
  {
   "cell_type": "code",
   "execution_count": 92,
   "metadata": {
    "collapsed": false
   },
   "outputs": [
    {
     "data": {
      "text/plain": [
       "[array([[ 0.03623995,  0.44508567,  0.02048884],\n",
       "        [ 0.4602401 ,  0.39136815,  0.36021053],\n",
       "        [ 0.15474701,  0.93211269,  0.61143239],\n",
       "        [ 0.77896091,  0.16941624,  0.62904565],\n",
       "        [ 0.66379   ,  0.80758934,  0.35635371]]),\n",
       " array([ 0.44702838,  0.70337871,  1.1254467 ,  1.01547053,  1.10444814])]"
      ]
     },
     "execution_count": 92,
     "metadata": {},
     "output_type": "execute_result"
    }
   ],
   "source": [
    "sess.run([emb, tf.norm(emb, axis=1)])"
   ]
  },
  {
   "cell_type": "code",
   "execution_count": 94,
   "metadata": {
    "collapsed": false
   },
   "outputs": [
    {
     "data": {
      "text/plain": [
       "[array([[ 0.03623995,  0.44508567,  0.02048884],\n",
       "        [ 0.4602401 ,  0.39136815,  0.36021053],\n",
       "        [ 0.13749692,  0.82820748,  0.5432743 ],\n",
       "        [ 0.7670859 ,  0.16683354,  0.61945605],\n",
       "        [ 0.60100908,  0.73120796,  0.32264996]])]"
      ]
     },
     "execution_count": 94,
     "metadata": {},
     "output_type": "execute_result"
    }
   ],
   "source": [
    "sess.run([tf.clip_by_norm(emb, 1-0.00001, axes=1)])"
   ]
  },
  {
   "cell_type": "code",
   "execution_count": 89,
   "metadata": {
    "collapsed": false
   },
   "outputs": [
    {
     "data": {
      "text/plain": [
       "[array([[ 0.03623995,  0.44508567,  0.02048884],\n",
       "        [ 0.4602401 ,  0.39136815,  0.36021053],\n",
       "        [ 0.1374883 ,  0.82820576,  0.54326974],\n",
       "        [ 0.76708357,  0.16682521,  0.61945224],\n",
       "        [ 0.60100509,  0.73120527,  0.32264319]])]"
      ]
     },
     "execution_count": 89,
     "metadata": {},
     "output_type": "execute_result"
    }
   ],
   "source": [
    "# sess.run([squared_norm, emb])\n",
    "sess.run([conditional_assignment(emb, 0.00001)])"
   ]
  },
  {
   "cell_type": "code",
   "execution_count": 83,
   "metadata": {
    "collapsed": false
   },
   "outputs": [
    {
     "data": {
      "text/plain": [
       "[array([False, False, False, False, False], dtype=bool)]"
      ]
     },
     "execution_count": 83,
     "metadata": {},
     "output_type": "execute_result"
    }
   ],
   "source": [
    "sess.run([tf.greater(tf.norm(emb, axis=1), tf.constant(1.0, dtype=tf.float64))])"
   ]
  },
  {
   "cell_type": "code",
   "execution_count": 84,
   "metadata": {
    "collapsed": false
   },
   "outputs": [
    {
     "data": {
      "text/plain": [
       "[array([ 0.44702838,  0.70337871,  0.99998491,  0.99998447,  0.99998345])]"
      ]
     },
     "execution_count": 84,
     "metadata": {},
     "output_type": "execute_result"
    }
   ],
   "source": [
    "sess.run([tf.norm(emb, axis=1)])"
   ]
  },
  {
   "cell_type": "code",
   "execution_count": 85,
   "metadata": {
    "collapsed": false
   },
   "outputs": [
    {
     "data": {
      "text/plain": [
       "[array([[ 0.03623995,  0.44508567,  0.02048884],\n",
       "        [ 0.4602401 ,  0.39136815,  0.36021053],\n",
       "        [ 0.1374883 ,  0.82820576,  0.54326974],\n",
       "        [ 0.76708357,  0.16682521,  0.61945224],\n",
       "        [ 0.60100509,  0.73120527,  0.32264319]])]"
      ]
     },
     "execution_count": 85,
     "metadata": {},
     "output_type": "execute_result"
    }
   ],
   "source": [
    "sess.run([emb])"
   ]
  },
  {
   "cell_type": "code",
   "execution_count": 65,
   "metadata": {
    "collapsed": false
   },
   "outputs": [
    {
     "data": {
      "text/plain": [
       "[array([[ 0.03623995,  0.44508567,  0.02048884],\n",
       "        [ 0.4602401 ,  0.39136815,  0.36021053],\n",
       "        [ 0.        ,  0.        ,  0.        ],\n",
       "        [ 0.        ,  0.        ,  0.        ],\n",
       "        [ 0.        ,  0.        ,  0.        ]])]"
      ]
     },
     "execution_count": 65,
     "metadata": {},
     "output_type": "execute_result"
    }
   ],
   "source": [
    "sess.run([conditional_assignment(emb)])"
   ]
  },
  {
   "cell_type": "code",
   "execution_count": 97,
   "metadata": {
    "collapsed": false
   },
   "outputs": [
    {
     "name": "stdout",
     "output_type": "stream",
     "text": [
      "ProductViewEmbeddingExploration.ipynb   plot line graphs with errors.ipynb\r\n",
      "ProductViewer.ipynb                     polar embedding.ipynb\r\n",
      "Untitled.ipynb                          read gml file.ipynb\r\n",
      "cartesian_hyperbolic.ipynb              read gml.ipynb\r\n",
      "euclidean_embedding_forward_pass.ipynb  tf_grad_intercept.ipynb\r\n",
      "hyp_embedding_forward_pass.ipynb        \u001b[34mtf_logs\u001b[m\u001b[m/\r\n",
      "hyperbolic_embedding.ipynb              theta_grad_debug.ipynb\r\n"
     ]
    }
   ],
   "source": [
    "ls"
   ]
  },
  {
   "cell_type": "code",
   "execution_count": 98,
   "metadata": {
    "collapsed": false
   },
   "outputs": [
    {
     "name": "stdout",
     "output_type": "stream",
     "text": [
      "/Users/workspace/Hyperbolic-Embedding/results\n"
     ]
    }
   ],
   "source": [
    "cd ../../results/"
   ]
  },
  {
   "cell_type": "code",
   "execution_count": 99,
   "metadata": {
    "collapsed": false
   },
   "outputs": [
    {
     "name": "stdout",
     "output_type": "stream",
     "text": [
      "README.md               \u001b[34mblogcatalog_121_sample\u001b[m\u001b[m/ \u001b[34mpolbooks\u001b[m\u001b[m/\r\n",
      "\u001b[34madjnoun\u001b[m\u001b[m/                \u001b[34mflickr\u001b[m\u001b[m/                 \u001b[34mpolitical_blogs\u001b[m\u001b[m/\r\n",
      "\u001b[34mall\u001b[m\u001b[m/                    \u001b[34mfootball\u001b[m\u001b[m/               \u001b[34myoutube\u001b[m\u001b[m/\r\n",
      "\u001b[34mblogcatalog\u001b[m\u001b[m/            \u001b[34mkarate\u001b[m\u001b[m/\r\n"
     ]
    }
   ],
   "source": [
    "ls"
   ]
  },
  {
   "cell_type": "code",
   "execution_count": 100,
   "metadata": {
    "collapsed": false
   },
   "outputs": [
    {
     "name": "stdout",
     "output_type": "stream",
     "text": [
      "/Users/workspace/Hyperbolic-Embedding/results/all\n"
     ]
    }
   ],
   "source": [
    "cd all"
   ]
  },
  {
   "cell_type": "code",
   "execution_count": 101,
   "metadata": {
    "collapsed": false
   },
   "outputs": [
    {
     "name": "stdout",
     "output_type": "stream",
     "text": [
      "adjnoun_errors.csv          karate_means.csv\r\n",
      "adjnoun_means.csv           \u001b[34mlineplots\u001b[m\u001b[m/\r\n",
      "\u001b[34membedding_figs\u001b[m\u001b[m/             polbooks_errors.csv\r\n",
      "football_errors.csv         polbooks_means.csv\r\n",
      "football_means.csv          political_blogs_errors.csv\r\n",
      "karate_errors.csv           political_blogs_means.csv\r\n"
     ]
    }
   ],
   "source": [
    "ls"
   ]
  },
  {
   "cell_type": "code",
   "execution_count": 102,
   "metadata": {
    "collapsed": false
   },
   "outputs": [
    {
     "name": "stdout",
     "output_type": "stream",
     "text": [
      "/Users/workspace/Hyperbolic-Embedding/results\n"
     ]
    }
   ],
   "source": [
    "cd .."
   ]
  },
  {
   "cell_type": "code",
   "execution_count": 103,
   "metadata": {
    "collapsed": false
   },
   "outputs": [
    {
     "name": "stdout",
     "output_type": "stream",
     "text": [
      "README.md               \u001b[34mblogcatalog_121_sample\u001b[m\u001b[m/ \u001b[34mpolbooks\u001b[m\u001b[m/\r\n",
      "\u001b[34madjnoun\u001b[m\u001b[m/                \u001b[34mflickr\u001b[m\u001b[m/                 \u001b[34mpolitical_blogs\u001b[m\u001b[m/\r\n",
      "\u001b[34mall\u001b[m\u001b[m/                    \u001b[34mfootball\u001b[m\u001b[m/               \u001b[34myoutube\u001b[m\u001b[m/\r\n",
      "\u001b[34mblogcatalog\u001b[m\u001b[m/            \u001b[34mkarate\u001b[m\u001b[m/\r\n"
     ]
    }
   ],
   "source": [
    "ls"
   ]
  },
  {
   "cell_type": "code",
   "execution_count": 104,
   "metadata": {
    "collapsed": false
   },
   "outputs": [
    {
     "name": "stdout",
     "output_type": "stream",
     "text": [
      "/Users/workspace/Hyperbolic-Embedding/results/football\n"
     ]
    }
   ],
   "source": [
    "cd football/"
   ]
  },
  {
   "cell_type": "code",
   "execution_count": 105,
   "metadata": {
    "collapsed": false
   },
   "outputs": [
    {
     "name": "stdout",
     "output_type": "stream",
     "text": [
      "\u001b[34mfigs\u001b[m\u001b[m/                       micro20170518-093531.csv\r\n",
      "macro20170518-082608.csv    micro20170518-102429.csv\r\n",
      "macro20170518-093133.csv    micro20170518-102728.csv\r\n",
      "macro20170518-093531.csv    pvalues20170518-082608.csv\r\n",
      "macro20170518-102429.csv    pvalues20170518-093133.csv\r\n",
      "macro20170518-102728.csv    pvalues20170518-093531.csv\r\n",
      "micro20170518-082608.csv    pvalues20170518-102429.csv\r\n",
      "micro20170518-093133.csv    pvalues20170518-102728.csv\r\n"
     ]
    }
   ],
   "source": [
    "ls"
   ]
  },
  {
   "cell_type": "code",
   "execution_count": 111,
   "metadata": {
    "collapsed": false
   },
   "outputs": [
    {
     "name": "stdout",
     "output_type": "stream",
     "text": [
      "/Users/workspace/Hyperbolic-Embedding/local_resources/football\n"
     ]
    }
   ],
   "source": [
    "cd ../../local_resources/football/"
   ]
  },
  {
   "cell_type": "code",
   "execution_count": 112,
   "metadata": {
    "collapsed": false
   },
   "outputs": [
    {
     "name": "stdout",
     "output_type": "stream",
     "text": [
      "X.p               football.txt      football32.emd    walks_n1_l10.csv\r\n",
      "\u001b[34mdeepwalk_figs\u001b[m\u001b[m/    football128.emd   football4.emd     y.p\r\n",
      "\u001b[34membeddings\u001b[m\u001b[m/       football16.emd    football64.emd\r\n",
      "football.gml      football2.emd     football8.emd\r\n"
     ]
    }
   ],
   "source": [
    "ls"
   ]
  },
  {
   "cell_type": "code",
   "execution_count": 114,
   "metadata": {
    "collapsed": false
   },
   "outputs": [],
   "source": [
    "y = utils.read_pickle('y.p')"
   ]
  },
  {
   "cell_type": "code",
   "execution_count": 124,
   "metadata": {
    "collapsed": true
   },
   "outputs": [
    {
     "data": {
      "text/html": [
       "<div>\n",
       "<style>\n",
       "    .dataframe thead tr:only-child th {\n",
       "        text-align: right;\n",
       "    }\n",
       "\n",
       "    .dataframe thead th {\n",
       "        text-align: left;\n",
       "    }\n",
       "\n",
       "    .dataframe tbody tr th {\n",
       "        vertical-align: top;\n",
       "    }\n",
       "</style>\n",
       "<table border=\"1\" class=\"dataframe\">\n",
       "  <thead>\n",
       "    <tr style=\"text-align: right;\">\n",
       "      <th></th>\n",
       "      <th>cat</th>\n",
       "    </tr>\n",
       "  </thead>\n",
       "  <tbody>\n",
       "    <tr>\n",
       "      <th>65</th>\n",
       "      <td>9</td>\n",
       "    </tr>\n",
       "    <tr>\n",
       "      <th>66</th>\n",
       "      <td>4</td>\n",
       "    </tr>\n",
       "    <tr>\n",
       "      <th>67</th>\n",
       "      <td>11</td>\n",
       "    </tr>\n",
       "    <tr>\n",
       "      <th>68</th>\n",
       "      <td>8</td>\n",
       "    </tr>\n",
       "    <tr>\n",
       "      <th>69</th>\n",
       "      <td>10</td>\n",
       "    </tr>\n",
       "    <tr>\n",
       "      <th>70</th>\n",
       "      <td>9</td>\n",
       "    </tr>\n",
       "    <tr>\n",
       "      <th>71</th>\n",
       "      <td>6</td>\n",
       "    </tr>\n",
       "    <tr>\n",
       "      <th>72</th>\n",
       "      <td>3</td>\n",
       "    </tr>\n",
       "    <tr>\n",
       "      <th>73</th>\n",
       "      <td>11</td>\n",
       "    </tr>\n",
       "    <tr>\n",
       "      <th>74</th>\n",
       "      <td>3</td>\n",
       "    </tr>\n",
       "    <tr>\n",
       "      <th>75</th>\n",
       "      <td>4</td>\n",
       "    </tr>\n",
       "    <tr>\n",
       "      <th>76</th>\n",
       "      <td>9</td>\n",
       "    </tr>\n",
       "    <tr>\n",
       "      <th>77</th>\n",
       "      <td>8</td>\n",
       "    </tr>\n",
       "    <tr>\n",
       "      <th>78</th>\n",
       "      <td>8</td>\n",
       "    </tr>\n",
       "    <tr>\n",
       "      <th>79</th>\n",
       "      <td>1</td>\n",
       "    </tr>\n",
       "    <tr>\n",
       "      <th>80</th>\n",
       "      <td>5</td>\n",
       "    </tr>\n",
       "    <tr>\n",
       "      <th>81</th>\n",
       "      <td>3</td>\n",
       "    </tr>\n",
       "    <tr>\n",
       "      <th>82</th>\n",
       "      <td>5</td>\n",
       "    </tr>\n",
       "    <tr>\n",
       "      <th>83</th>\n",
       "      <td>11</td>\n",
       "    </tr>\n",
       "    <tr>\n",
       "      <th>84</th>\n",
       "      <td>3</td>\n",
       "    </tr>\n",
       "    <tr>\n",
       "      <th>85</th>\n",
       "      <td>6</td>\n",
       "    </tr>\n",
       "    <tr>\n",
       "      <th>86</th>\n",
       "      <td>4</td>\n",
       "    </tr>\n",
       "    <tr>\n",
       "      <th>87</th>\n",
       "      <td>9</td>\n",
       "    </tr>\n",
       "    <tr>\n",
       "      <th>88</th>\n",
       "      <td>11</td>\n",
       "    </tr>\n",
       "    <tr>\n",
       "      <th>89</th>\n",
       "      <td>0</td>\n",
       "    </tr>\n",
       "    <tr>\n",
       "      <th>90</th>\n",
       "      <td>5</td>\n",
       "    </tr>\n",
       "    <tr>\n",
       "      <th>91</th>\n",
       "      <td>4</td>\n",
       "    </tr>\n",
       "    <tr>\n",
       "      <th>92</th>\n",
       "      <td>4</td>\n",
       "    </tr>\n",
       "    <tr>\n",
       "      <th>93</th>\n",
       "      <td>7</td>\n",
       "    </tr>\n",
       "    <tr>\n",
       "      <th>94</th>\n",
       "      <td>1</td>\n",
       "    </tr>\n",
       "    <tr>\n",
       "      <th>95</th>\n",
       "      <td>9</td>\n",
       "    </tr>\n",
       "    <tr>\n",
       "      <th>96</th>\n",
       "      <td>9</td>\n",
       "    </tr>\n",
       "    <tr>\n",
       "      <th>97</th>\n",
       "      <td>10</td>\n",
       "    </tr>\n",
       "    <tr>\n",
       "      <th>98</th>\n",
       "      <td>3</td>\n",
       "    </tr>\n",
       "    <tr>\n",
       "      <th>99</th>\n",
       "      <td>6</td>\n",
       "    </tr>\n",
       "    <tr>\n",
       "      <th>100</th>\n",
       "      <td>2</td>\n",
       "    </tr>\n",
       "    <tr>\n",
       "      <th>101</th>\n",
       "      <td>1</td>\n",
       "    </tr>\n",
       "    <tr>\n",
       "      <th>102</th>\n",
       "      <td>3</td>\n",
       "    </tr>\n",
       "    <tr>\n",
       "      <th>103</th>\n",
       "      <td>0</td>\n",
       "    </tr>\n",
       "    <tr>\n",
       "      <th>104</th>\n",
       "      <td>7</td>\n",
       "    </tr>\n",
       "    <tr>\n",
       "      <th>105</th>\n",
       "      <td>0</td>\n",
       "    </tr>\n",
       "    <tr>\n",
       "      <th>106</th>\n",
       "      <td>2</td>\n",
       "    </tr>\n",
       "    <tr>\n",
       "      <th>107</th>\n",
       "      <td>3</td>\n",
       "    </tr>\n",
       "    <tr>\n",
       "      <th>108</th>\n",
       "      <td>8</td>\n",
       "    </tr>\n",
       "    <tr>\n",
       "      <th>109</th>\n",
       "      <td>0</td>\n",
       "    </tr>\n",
       "    <tr>\n",
       "      <th>110</th>\n",
       "      <td>4</td>\n",
       "    </tr>\n",
       "    <tr>\n",
       "      <th>111</th>\n",
       "      <td>8</td>\n",
       "    </tr>\n",
       "    <tr>\n",
       "      <th>112</th>\n",
       "      <td>4</td>\n",
       "    </tr>\n",
       "    <tr>\n",
       "      <th>113</th>\n",
       "      <td>9</td>\n",
       "    </tr>\n",
       "    <tr>\n",
       "      <th>114</th>\n",
       "      <td>11</td>\n",
       "    </tr>\n",
       "  </tbody>\n",
       "</table>\n",
       "</div>"
      ],
      "text/plain": [
       "     cat\n",
       "65     9\n",
       "66     4\n",
       "67    11\n",
       "68     8\n",
       "69    10\n",
       "70     9\n",
       "71     6\n",
       "72     3\n",
       "73    11\n",
       "74     3\n",
       "75     4\n",
       "76     9\n",
       "77     8\n",
       "78     8\n",
       "79     1\n",
       "80     5\n",
       "81     3\n",
       "82     5\n",
       "83    11\n",
       "84     3\n",
       "85     6\n",
       "86     4\n",
       "87     9\n",
       "88    11\n",
       "89     0\n",
       "90     5\n",
       "91     4\n",
       "92     4\n",
       "93     7\n",
       "94     1\n",
       "95     9\n",
       "96     9\n",
       "97    10\n",
       "98     3\n",
       "99     6\n",
       "100    2\n",
       "101    1\n",
       "102    3\n",
       "103    0\n",
       "104    7\n",
       "105    0\n",
       "106    2\n",
       "107    3\n",
       "108    8\n",
       "109    0\n",
       "110    4\n",
       "111    8\n",
       "112    4\n",
       "113    9\n",
       "114   11"
      ]
     },
     "execution_count": 124,
     "metadata": {},
     "output_type": "execute_result"
    }
   ],
   "source": [
    "y.tail(50)"
   ]
  },
  {
   "cell_type": "code",
   "execution_count": 117,
   "metadata": {
    "collapsed": true
   },
   "outputs": [],
   "source": [
    "path = 'football2.emd'"
   ]
  },
  {
   "cell_type": "code",
   "execution_count": 118,
   "metadata": {
    "collapsed": true
   },
   "outputs": [],
   "source": [
    "de = pd.read_csv(path, header=None, index_col=0, skiprows=1, sep=\" \")"
   ]
  },
  {
   "cell_type": "code",
   "execution_count": 119,
   "metadata": {
    "collapsed": true
   },
   "outputs": [
    {
     "data": {
      "text/html": [
       "<div>\n",
       "<style>\n",
       "    .dataframe thead tr:only-child th {\n",
       "        text-align: right;\n",
       "    }\n",
       "\n",
       "    .dataframe thead th {\n",
       "        text-align: left;\n",
       "    }\n",
       "\n",
       "    .dataframe tbody tr th {\n",
       "        vertical-align: top;\n",
       "    }\n",
       "</style>\n",
       "<table border=\"1\" class=\"dataframe\">\n",
       "  <thead>\n",
       "    <tr style=\"text-align: right;\">\n",
       "      <th></th>\n",
       "      <th>1</th>\n",
       "      <th>2</th>\n",
       "    </tr>\n",
       "    <tr>\n",
       "      <th>0</th>\n",
       "      <th></th>\n",
       "      <th></th>\n",
       "    </tr>\n",
       "  </thead>\n",
       "  <tbody>\n",
       "    <tr>\n",
       "      <th>7</th>\n",
       "      <td>0.163730</td>\n",
       "      <td>-0.294363</td>\n",
       "    </tr>\n",
       "    <tr>\n",
       "      <th>62</th>\n",
       "      <td>0.175629</td>\n",
       "      <td>-0.230399</td>\n",
       "    </tr>\n",
       "    <tr>\n",
       "      <th>21</th>\n",
       "      <td>-0.282195</td>\n",
       "      <td>-0.154486</td>\n",
       "    </tr>\n",
       "    <tr>\n",
       "      <th>64</th>\n",
       "      <td>0.004095</td>\n",
       "      <td>-0.148719</td>\n",
       "    </tr>\n",
       "    <tr>\n",
       "      <th>17</th>\n",
       "      <td>-0.085513</td>\n",
       "      <td>-0.401220</td>\n",
       "    </tr>\n",
       "  </tbody>\n",
       "</table>\n",
       "</div>"
      ],
      "text/plain": [
       "           1         2\n",
       "0                     \n",
       "7   0.163730 -0.294363\n",
       "62  0.175629 -0.230399\n",
       "21 -0.282195 -0.154486\n",
       "64  0.004095 -0.148719\n",
       "17 -0.085513 -0.401220"
      ]
     },
     "execution_count": 119,
     "metadata": {},
     "output_type": "execute_result"
    }
   ],
   "source": [
    "de.head()"
   ]
  },
  {
   "cell_type": "code",
   "execution_count": 120,
   "metadata": {
    "collapsed": true
   },
   "outputs": [],
   "source": [
    "de.sort_index(inplace=True)"
   ]
  },
  {
   "cell_type": "code",
   "execution_count": 123,
   "metadata": {
    "collapsed": true
   },
   "outputs": [
    {
     "data": {
      "text/html": [
       "<div>\n",
       "<style>\n",
       "    .dataframe thead tr:only-child th {\n",
       "        text-align: right;\n",
       "    }\n",
       "\n",
       "    .dataframe thead th {\n",
       "        text-align: left;\n",
       "    }\n",
       "\n",
       "    .dataframe tbody tr th {\n",
       "        vertical-align: top;\n",
       "    }\n",
       "</style>\n",
       "<table border=\"1\" class=\"dataframe\">\n",
       "  <thead>\n",
       "    <tr style=\"text-align: right;\">\n",
       "      <th></th>\n",
       "      <th>1</th>\n",
       "      <th>2</th>\n",
       "    </tr>\n",
       "    <tr>\n",
       "      <th>0</th>\n",
       "      <th></th>\n",
       "      <th></th>\n",
       "    </tr>\n",
       "  </thead>\n",
       "  <tbody>\n",
       "    <tr>\n",
       "      <th>65</th>\n",
       "      <td>-0.260192</td>\n",
       "      <td>-0.319107</td>\n",
       "    </tr>\n",
       "    <tr>\n",
       "      <th>66</th>\n",
       "      <td>0.094310</td>\n",
       "      <td>-0.490185</td>\n",
       "    </tr>\n",
       "    <tr>\n",
       "      <th>67</th>\n",
       "      <td>-0.140702</td>\n",
       "      <td>-0.156527</td>\n",
       "    </tr>\n",
       "    <tr>\n",
       "      <th>68</th>\n",
       "      <td>-0.279966</td>\n",
       "      <td>-0.116826</td>\n",
       "    </tr>\n",
       "    <tr>\n",
       "      <th>69</th>\n",
       "      <td>-0.129916</td>\n",
       "      <td>-0.269242</td>\n",
       "    </tr>\n",
       "    <tr>\n",
       "      <th>70</th>\n",
       "      <td>0.179014</td>\n",
       "      <td>-0.486941</td>\n",
       "    </tr>\n",
       "    <tr>\n",
       "      <th>71</th>\n",
       "      <td>0.187840</td>\n",
       "      <td>-0.230134</td>\n",
       "    </tr>\n",
       "    <tr>\n",
       "      <th>72</th>\n",
       "      <td>0.014289</td>\n",
       "      <td>-0.464155</td>\n",
       "    </tr>\n",
       "    <tr>\n",
       "      <th>73</th>\n",
       "      <td>-0.225496</td>\n",
       "      <td>-0.147748</td>\n",
       "    </tr>\n",
       "    <tr>\n",
       "      <th>74</th>\n",
       "      <td>-0.258919</td>\n",
       "      <td>-0.564038</td>\n",
       "    </tr>\n",
       "    <tr>\n",
       "      <th>75</th>\n",
       "      <td>0.200370</td>\n",
       "      <td>-0.274217</td>\n",
       "    </tr>\n",
       "    <tr>\n",
       "      <th>76</th>\n",
       "      <td>-0.316611</td>\n",
       "      <td>-0.435816</td>\n",
       "    </tr>\n",
       "    <tr>\n",
       "      <th>77</th>\n",
       "      <td>0.077113</td>\n",
       "      <td>-0.578241</td>\n",
       "    </tr>\n",
       "    <tr>\n",
       "      <th>78</th>\n",
       "      <td>-0.092235</td>\n",
       "      <td>-0.306555</td>\n",
       "    </tr>\n",
       "    <tr>\n",
       "      <th>79</th>\n",
       "      <td>-0.031722</td>\n",
       "      <td>-0.325515</td>\n",
       "    </tr>\n",
       "    <tr>\n",
       "      <th>80</th>\n",
       "      <td>-0.000273</td>\n",
       "      <td>-0.579668</td>\n",
       "    </tr>\n",
       "    <tr>\n",
       "      <th>81</th>\n",
       "      <td>-0.102591</td>\n",
       "      <td>-0.614114</td>\n",
       "    </tr>\n",
       "    <tr>\n",
       "      <th>82</th>\n",
       "      <td>0.090366</td>\n",
       "      <td>-0.468023</td>\n",
       "    </tr>\n",
       "    <tr>\n",
       "      <th>83</th>\n",
       "      <td>-0.251761</td>\n",
       "      <td>-0.477269</td>\n",
       "    </tr>\n",
       "    <tr>\n",
       "      <th>84</th>\n",
       "      <td>-0.283032</td>\n",
       "      <td>-0.292035</td>\n",
       "    </tr>\n",
       "    <tr>\n",
       "      <th>85</th>\n",
       "      <td>-0.144022</td>\n",
       "      <td>-0.445223</td>\n",
       "    </tr>\n",
       "    <tr>\n",
       "      <th>86</th>\n",
       "      <td>0.122557</td>\n",
       "      <td>-0.545477</td>\n",
       "    </tr>\n",
       "    <tr>\n",
       "      <th>87</th>\n",
       "      <td>-0.249678</td>\n",
       "      <td>-0.200446</td>\n",
       "    </tr>\n",
       "    <tr>\n",
       "      <th>88</th>\n",
       "      <td>0.001956</td>\n",
       "      <td>-0.348912</td>\n",
       "    </tr>\n",
       "    <tr>\n",
       "      <th>89</th>\n",
       "      <td>-0.189285</td>\n",
       "      <td>-0.080253</td>\n",
       "    </tr>\n",
       "    <tr>\n",
       "      <th>90</th>\n",
       "      <td>-0.040393</td>\n",
       "      <td>-0.213597</td>\n",
       "    </tr>\n",
       "    <tr>\n",
       "      <th>91</th>\n",
       "      <td>-0.197369</td>\n",
       "      <td>-0.488163</td>\n",
       "    </tr>\n",
       "    <tr>\n",
       "      <th>92</th>\n",
       "      <td>-0.121065</td>\n",
       "      <td>-0.151924</td>\n",
       "    </tr>\n",
       "    <tr>\n",
       "      <th>93</th>\n",
       "      <td>-0.017126</td>\n",
       "      <td>-0.148127</td>\n",
       "    </tr>\n",
       "    <tr>\n",
       "      <th>94</th>\n",
       "      <td>-0.166424</td>\n",
       "      <td>-0.612853</td>\n",
       "    </tr>\n",
       "    <tr>\n",
       "      <th>95</th>\n",
       "      <td>-0.138068</td>\n",
       "      <td>-0.415867</td>\n",
       "    </tr>\n",
       "    <tr>\n",
       "      <th>96</th>\n",
       "      <td>0.045559</td>\n",
       "      <td>-0.299880</td>\n",
       "    </tr>\n",
       "    <tr>\n",
       "      <th>97</th>\n",
       "      <td>-0.104309</td>\n",
       "      <td>0.050274</td>\n",
       "    </tr>\n",
       "    <tr>\n",
       "      <th>98</th>\n",
       "      <td>0.060423</td>\n",
       "      <td>-0.555225</td>\n",
       "    </tr>\n",
       "    <tr>\n",
       "      <th>99</th>\n",
       "      <td>0.145382</td>\n",
       "      <td>-0.331461</td>\n",
       "    </tr>\n",
       "    <tr>\n",
       "      <th>100</th>\n",
       "      <td>-0.120849</td>\n",
       "      <td>-0.270356</td>\n",
       "    </tr>\n",
       "    <tr>\n",
       "      <th>101</th>\n",
       "      <td>-0.108364</td>\n",
       "      <td>-0.394483</td>\n",
       "    </tr>\n",
       "    <tr>\n",
       "      <th>102</th>\n",
       "      <td>-0.070112</td>\n",
       "      <td>-0.377054</td>\n",
       "    </tr>\n",
       "    <tr>\n",
       "      <th>103</th>\n",
       "      <td>-0.046914</td>\n",
       "      <td>-0.342744</td>\n",
       "    </tr>\n",
       "    <tr>\n",
       "      <th>104</th>\n",
       "      <td>0.130204</td>\n",
       "      <td>-0.287633</td>\n",
       "    </tr>\n",
       "    <tr>\n",
       "      <th>105</th>\n",
       "      <td>-0.025540</td>\n",
       "      <td>-0.425886</td>\n",
       "    </tr>\n",
       "    <tr>\n",
       "      <th>106</th>\n",
       "      <td>0.194331</td>\n",
       "      <td>-0.336224</td>\n",
       "    </tr>\n",
       "    <tr>\n",
       "      <th>107</th>\n",
       "      <td>0.030372</td>\n",
       "      <td>-0.134339</td>\n",
       "    </tr>\n",
       "    <tr>\n",
       "      <th>108</th>\n",
       "      <td>-0.174265</td>\n",
       "      <td>-0.009590</td>\n",
       "    </tr>\n",
       "    <tr>\n",
       "      <th>109</th>\n",
       "      <td>-0.173273</td>\n",
       "      <td>-0.312681</td>\n",
       "    </tr>\n",
       "    <tr>\n",
       "      <th>110</th>\n",
       "      <td>0.126934</td>\n",
       "      <td>-0.577902</td>\n",
       "    </tr>\n",
       "    <tr>\n",
       "      <th>111</th>\n",
       "      <td>0.092258</td>\n",
       "      <td>-0.337640</td>\n",
       "    </tr>\n",
       "    <tr>\n",
       "      <th>112</th>\n",
       "      <td>0.127073</td>\n",
       "      <td>-0.440258</td>\n",
       "    </tr>\n",
       "    <tr>\n",
       "      <th>113</th>\n",
       "      <td>0.064728</td>\n",
       "      <td>-0.139619</td>\n",
       "    </tr>\n",
       "    <tr>\n",
       "      <th>114</th>\n",
       "      <td>-0.025880</td>\n",
       "      <td>-0.208818</td>\n",
       "    </tr>\n",
       "  </tbody>\n",
       "</table>\n",
       "</div>"
      ],
      "text/plain": [
       "            1         2\n",
       "0                      \n",
       "65  -0.260192 -0.319107\n",
       "66   0.094310 -0.490185\n",
       "67  -0.140702 -0.156527\n",
       "68  -0.279966 -0.116826\n",
       "69  -0.129916 -0.269242\n",
       "70   0.179014 -0.486941\n",
       "71   0.187840 -0.230134\n",
       "72   0.014289 -0.464155\n",
       "73  -0.225496 -0.147748\n",
       "74  -0.258919 -0.564038\n",
       "75   0.200370 -0.274217\n",
       "76  -0.316611 -0.435816\n",
       "77   0.077113 -0.578241\n",
       "78  -0.092235 -0.306555\n",
       "79  -0.031722 -0.325515\n",
       "80  -0.000273 -0.579668\n",
       "81  -0.102591 -0.614114\n",
       "82   0.090366 -0.468023\n",
       "83  -0.251761 -0.477269\n",
       "84  -0.283032 -0.292035\n",
       "85  -0.144022 -0.445223\n",
       "86   0.122557 -0.545477\n",
       "87  -0.249678 -0.200446\n",
       "88   0.001956 -0.348912\n",
       "89  -0.189285 -0.080253\n",
       "90  -0.040393 -0.213597\n",
       "91  -0.197369 -0.488163\n",
       "92  -0.121065 -0.151924\n",
       "93  -0.017126 -0.148127\n",
       "94  -0.166424 -0.612853\n",
       "95  -0.138068 -0.415867\n",
       "96   0.045559 -0.299880\n",
       "97  -0.104309  0.050274\n",
       "98   0.060423 -0.555225\n",
       "99   0.145382 -0.331461\n",
       "100 -0.120849 -0.270356\n",
       "101 -0.108364 -0.394483\n",
       "102 -0.070112 -0.377054\n",
       "103 -0.046914 -0.342744\n",
       "104  0.130204 -0.287633\n",
       "105 -0.025540 -0.425886\n",
       "106  0.194331 -0.336224\n",
       "107  0.030372 -0.134339\n",
       "108 -0.174265 -0.009590\n",
       "109 -0.173273 -0.312681\n",
       "110  0.126934 -0.577902\n",
       "111  0.092258 -0.337640\n",
       "112  0.127073 -0.440258\n",
       "113  0.064728 -0.139619\n",
       "114 -0.025880 -0.208818"
      ]
     },
     "execution_count": 123,
     "metadata": {},
     "output_type": "execute_result"
    }
   ],
   "source": [
    "de.tail(50)"
   ]
  },
  {
   "cell_type": "code",
   "execution_count": 133,
   "metadata": {
    "collapsed": false
   },
   "outputs": [],
   "source": [
    "folder = '../../local_resources/karate/gridsearch/'\n",
    "files = os.listdir(folder)"
   ]
  },
  {
   "cell_type": "code",
   "execution_count": 135,
   "metadata": {
    "collapsed": false
   },
   "outputs": [
    {
     "name": "stdout",
     "output_type": "stream",
     "text": [
      "X.p               football.txt      football32.emd    walks_n1_l10.csv\r\n",
      "\u001b[34mdeepwalk_figs\u001b[m\u001b[m/    football128.emd   football4.emd     y.p\r\n",
      "\u001b[34membeddings\u001b[m\u001b[m/       football16.emd    football64.emd\r\n",
      "football.gml      football2.emd     football8.emd\r\n"
     ]
    }
   ],
   "source": [
    "ls"
   ]
  },
  {
   "cell_type": "code",
   "execution_count": 136,
   "metadata": {
    "collapsed": false
   },
   "outputs": [
    {
     "name": "stdout",
     "output_type": "stream",
     "text": [
      "/Users/workspace/Hyperbolic-Embedding/results/all\n"
     ]
    }
   ],
   "source": [
    "cd ../../results/all/"
   ]
  },
  {
   "cell_type": "code",
   "execution_count": 137,
   "metadata": {
    "collapsed": false
   },
   "outputs": [
    {
     "name": "stdout",
     "output_type": "stream",
     "text": [
      "adjnoun_errors.csv\r\n",
      "adjnoun_errors_20170822-183858.csv\r\n",
      "adjnoun_means.csv\r\n",
      "adjnoun_means_20170822-183858.csv\r\n",
      "\u001b[34membedding_figs\u001b[m\u001b[m/\r\n",
      "football_errors.csv\r\n",
      "football_errors_20170822-183653.csv\r\n",
      "football_errors_20170822-190137.csv\r\n",
      "football_errors_20170822-191038.csv\r\n",
      "football_means.csv\r\n",
      "football_means_20170822-183653.csv\r\n",
      "football_means_20170822-190137.csv\r\n",
      "football_means_20170822-191038.csv\r\n",
      "karate_errors.csv\r\n",
      "karate_errors_20170822-184418.csv\r\n",
      "karate_means.csv\r\n",
      "karate_means_20170822-184418.csv\r\n",
      "\u001b[34mlineplots\u001b[m\u001b[m/\r\n",
      "polbooks_errors.csv\r\n",
      "polbooks_errors_20170822-184018.csv\r\n",
      "polbooks_means.csv\r\n",
      "polbooks_means_20170822-184018.csv\r\n",
      "political_blogs_errors.csv\r\n",
      "political_blogs_errors_20170822-184253.csv\r\n",
      "political_blogs_means.csv\r\n",
      "political_blogs_means_20170822-184253.csv\r\n"
     ]
    }
   ],
   "source": [
    "ls"
   ]
  },
  {
   "cell_type": "code",
   "execution_count": 138,
   "metadata": {
    "collapsed": false
   },
   "outputs": [
    {
     "name": "stdout",
     "output_type": "stream",
     "text": [
      "adjnoun_errors.csv\r\n",
      "adjnoun_errors_20170822-183858.csv\r\n",
      "adjnoun_errors_20170822-192942.csv\r\n",
      "adjnoun_means.csv\r\n",
      "adjnoun_means_20170822-183858.csv\r\n",
      "adjnoun_means_20170822-192942.csv\r\n",
      "\u001b[34membedding_figs\u001b[m\u001b[m/\r\n",
      "football_errors.csv\r\n",
      "football_errors_20170822-183653.csv\r\n",
      "football_errors_20170822-190137.csv\r\n",
      "football_errors_20170822-191038.csv\r\n",
      "football_errors_20170822-192740.csv\r\n",
      "football_means.csv\r\n",
      "football_means_20170822-183653.csv\r\n",
      "football_means_20170822-190137.csv\r\n",
      "football_means_20170822-191038.csv\r\n",
      "football_means_20170822-192740.csv\r\n",
      "karate_errors.csv\r\n",
      "karate_errors_20170822-184418.csv\r\n",
      "karate_means.csv\r\n",
      "karate_means_20170822-184418.csv\r\n",
      "\u001b[34mlineplots\u001b[m\u001b[m/\r\n",
      "polbooks_errors.csv\r\n",
      "polbooks_errors_20170822-184018.csv\r\n",
      "polbooks_errors_20170822-193059.csv\r\n",
      "polbooks_means.csv\r\n",
      "polbooks_means_20170822-184018.csv\r\n",
      "polbooks_means_20170822-193059.csv\r\n",
      "political_blogs_errors.csv\r\n",
      "political_blogs_errors_20170822-184253.csv\r\n",
      "political_blogs_means.csv\r\n",
      "political_blogs_means_20170822-184253.csv\r\n"
     ]
    }
   ],
   "source": [
    "ls"
   ]
  },
  {
   "cell_type": "code",
   "execution_count": 158,
   "metadata": {
    "collapsed": true
   },
   "outputs": [],
   "source": [
    "errors = pd.read_csv('polbooks_errors_20170822-193059.csv', index_col=0)\n",
    "means = pd.read_csv('polbooks_means_20170822-193059.csv', index_col=0)"
   ]
  },
  {
   "cell_type": "code",
   "execution_count": 159,
   "metadata": {
    "collapsed": false
   },
   "outputs": [
    {
     "data": {
      "text/html": [
       "<div>\n",
       "<style>\n",
       "    .dataframe thead tr:only-child th {\n",
       "        text-align: right;\n",
       "    }\n",
       "\n",
       "    .dataframe thead th {\n",
       "        text-align: left;\n",
       "    }\n",
       "\n",
       "    .dataframe tbody tr th {\n",
       "        vertical-align: top;\n",
       "    }\n",
       "</style>\n",
       "<table border=\"1\" class=\"dataframe\">\n",
       "  <thead>\n",
       "    <tr style=\"text-align: right;\">\n",
       "      <th></th>\n",
       "      <th>0.1</th>\n",
       "      <th>0.2</th>\n",
       "      <th>0.3</th>\n",
       "      <th>0.4</th>\n",
       "      <th>0.5</th>\n",
       "      <th>0.6</th>\n",
       "      <th>0.7</th>\n",
       "      <th>0.8</th>\n",
       "      <th>0.9</th>\n",
       "    </tr>\n",
       "  </thead>\n",
       "  <tbody>\n",
       "    <tr>\n",
       "      <th>hyperbolic</th>\n",
       "      <td>0.083078</td>\n",
       "      <td>0.071281</td>\n",
       "      <td>0.012466</td>\n",
       "      <td>0.013667</td>\n",
       "      <td>0.009439</td>\n",
       "      <td>0.018068</td>\n",
       "      <td>0.008982</td>\n",
       "      <td>0.022820</td>\n",
       "      <td>0.059646</td>\n",
       "    </tr>\n",
       "    <tr>\n",
       "      <th>deepwalk2</th>\n",
       "      <td>0.025519</td>\n",
       "      <td>0.026306</td>\n",
       "      <td>0.019471</td>\n",
       "      <td>0.016048</td>\n",
       "      <td>0.012753</td>\n",
       "      <td>0.020997</td>\n",
       "      <td>0.010103</td>\n",
       "      <td>0.024272</td>\n",
       "      <td>0.028868</td>\n",
       "    </tr>\n",
       "    <tr>\n",
       "      <th>deepwalk4</th>\n",
       "      <td>0.022474</td>\n",
       "      <td>0.019310</td>\n",
       "      <td>0.017506</td>\n",
       "      <td>0.008081</td>\n",
       "      <td>0.012870</td>\n",
       "      <td>0.019444</td>\n",
       "      <td>0.016414</td>\n",
       "      <td>0.024024</td>\n",
       "      <td>0.033063</td>\n",
       "    </tr>\n",
       "    <tr>\n",
       "      <th>deepwalk8</th>\n",
       "      <td>0.025513</td>\n",
       "      <td>0.018327</td>\n",
       "      <td>0.008701</td>\n",
       "      <td>0.004616</td>\n",
       "      <td>0.006816</td>\n",
       "      <td>0.018198</td>\n",
       "      <td>0.008640</td>\n",
       "      <td>0.023427</td>\n",
       "      <td>0.024412</td>\n",
       "    </tr>\n",
       "    <tr>\n",
       "      <th>deepwalk16</th>\n",
       "      <td>0.021725</td>\n",
       "      <td>0.018189</td>\n",
       "      <td>0.015251</td>\n",
       "      <td>0.004616</td>\n",
       "      <td>0.006816</td>\n",
       "      <td>0.013183</td>\n",
       "      <td>0.008510</td>\n",
       "      <td>0.022940</td>\n",
       "      <td>0.024412</td>\n",
       "    </tr>\n",
       "  </tbody>\n",
       "</table>\n",
       "</div>"
      ],
      "text/plain": [
       "                 0.1       0.2       0.3       0.4       0.5       0.6  \\\n",
       "hyperbolic  0.083078  0.071281  0.012466  0.013667  0.009439  0.018068   \n",
       "deepwalk2   0.025519  0.026306  0.019471  0.016048  0.012753  0.020997   \n",
       "deepwalk4   0.022474  0.019310  0.017506  0.008081  0.012870  0.019444   \n",
       "deepwalk8   0.025513  0.018327  0.008701  0.004616  0.006816  0.018198   \n",
       "deepwalk16  0.021725  0.018189  0.015251  0.004616  0.006816  0.013183   \n",
       "\n",
       "                 0.7       0.8       0.9  \n",
       "hyperbolic  0.008982  0.022820  0.059646  \n",
       "deepwalk2   0.010103  0.024272  0.028868  \n",
       "deepwalk4   0.016414  0.024024  0.033063  \n",
       "deepwalk8   0.008640  0.023427  0.024412  \n",
       "deepwalk16  0.008510  0.022940  0.024412  "
      ]
     },
     "execution_count": 159,
     "metadata": {},
     "output_type": "execute_result"
    }
   ],
   "source": [
    "errors.head()"
   ]
  },
  {
   "cell_type": "code",
   "execution_count": 160,
   "metadata": {
    "collapsed": false
   },
   "outputs": [
    {
     "data": {
      "text/html": [
       "<div>\n",
       "<style>\n",
       "    .dataframe thead tr:only-child th {\n",
       "        text-align: right;\n",
       "    }\n",
       "\n",
       "    .dataframe thead th {\n",
       "        text-align: left;\n",
       "    }\n",
       "\n",
       "    .dataframe tbody tr th {\n",
       "        vertical-align: top;\n",
       "    }\n",
       "</style>\n",
       "<table border=\"1\" class=\"dataframe\">\n",
       "  <thead>\n",
       "    <tr style=\"text-align: right;\">\n",
       "      <th></th>\n",
       "      <th>0.1</th>\n",
       "      <th>0.2</th>\n",
       "      <th>0.3</th>\n",
       "      <th>0.4</th>\n",
       "      <th>0.5</th>\n",
       "      <th>0.6</th>\n",
       "      <th>0.7</th>\n",
       "      <th>0.8</th>\n",
       "      <th>0.9</th>\n",
       "    </tr>\n",
       "  </thead>\n",
       "  <tbody>\n",
       "    <tr>\n",
       "      <th>hyperbolic</th>\n",
       "      <td>0.387580</td>\n",
       "      <td>0.513383</td>\n",
       "      <td>0.619729</td>\n",
       "      <td>0.618584</td>\n",
       "      <td>0.606418</td>\n",
       "      <td>0.624964</td>\n",
       "      <td>0.581178</td>\n",
       "      <td>0.627997</td>\n",
       "      <td>0.651240</td>\n",
       "    </tr>\n",
       "    <tr>\n",
       "      <th>deepwalk2</th>\n",
       "      <td>0.206336</td>\n",
       "      <td>0.206572</td>\n",
       "      <td>0.249073</td>\n",
       "      <td>0.223140</td>\n",
       "      <td>0.210243</td>\n",
       "      <td>0.291252</td>\n",
       "      <td>0.261114</td>\n",
       "      <td>0.261059</td>\n",
       "      <td>0.208125</td>\n",
       "    </tr>\n",
       "    <tr>\n",
       "      <th>deepwalk4</th>\n",
       "      <td>0.197952</td>\n",
       "      <td>0.186188</td>\n",
       "      <td>0.219883</td>\n",
       "      <td>0.202962</td>\n",
       "      <td>0.199773</td>\n",
       "      <td>0.251232</td>\n",
       "      <td>0.229311</td>\n",
       "      <td>0.223024</td>\n",
       "      <td>0.218504</td>\n",
       "    </tr>\n",
       "    <tr>\n",
       "      <th>deepwalk8</th>\n",
       "      <td>0.202959</td>\n",
       "      <td>0.183264</td>\n",
       "      <td>0.202172</td>\n",
       "      <td>0.196066</td>\n",
       "      <td>0.191944</td>\n",
       "      <td>0.236796</td>\n",
       "      <td>0.205769</td>\n",
       "      <td>0.210933</td>\n",
       "      <td>0.215705</td>\n",
       "    </tr>\n",
       "    <tr>\n",
       "      <th>deepwalk16</th>\n",
       "      <td>0.194424</td>\n",
       "      <td>0.183030</td>\n",
       "      <td>0.209734</td>\n",
       "      <td>0.196066</td>\n",
       "      <td>0.191944</td>\n",
       "      <td>0.214735</td>\n",
       "      <td>0.188879</td>\n",
       "      <td>0.208261</td>\n",
       "      <td>0.215705</td>\n",
       "    </tr>\n",
       "  </tbody>\n",
       "</table>\n",
       "</div>"
      ],
      "text/plain": [
       "                 0.1       0.2       0.3       0.4       0.5       0.6  \\\n",
       "hyperbolic  0.387580  0.513383  0.619729  0.618584  0.606418  0.624964   \n",
       "deepwalk2   0.206336  0.206572  0.249073  0.223140  0.210243  0.291252   \n",
       "deepwalk4   0.197952  0.186188  0.219883  0.202962  0.199773  0.251232   \n",
       "deepwalk8   0.202959  0.183264  0.202172  0.196066  0.191944  0.236796   \n",
       "deepwalk16  0.194424  0.183030  0.209734  0.196066  0.191944  0.214735   \n",
       "\n",
       "                 0.7       0.8       0.9  \n",
       "hyperbolic  0.581178  0.627997  0.651240  \n",
       "deepwalk2   0.261114  0.261059  0.208125  \n",
       "deepwalk4   0.229311  0.223024  0.218504  \n",
       "deepwalk8   0.205769  0.210933  0.215705  \n",
       "deepwalk16  0.188879  0.208261  0.215705  "
      ]
     },
     "execution_count": 160,
     "metadata": {},
     "output_type": "execute_result"
    }
   ],
   "source": [
    "means.head()"
   ]
  },
  {
   "cell_type": "code",
   "execution_count": 161,
   "metadata": {
    "collapsed": true
   },
   "outputs": [],
   "source": [
    "errors_t = errors.transpose()"
   ]
  },
  {
   "cell_type": "code",
   "execution_count": 162,
   "metadata": {
    "collapsed": false
   },
   "outputs": [
    {
     "data": {
      "text/html": [
       "<div>\n",
       "<style>\n",
       "    .dataframe thead tr:only-child th {\n",
       "        text-align: right;\n",
       "    }\n",
       "\n",
       "    .dataframe thead th {\n",
       "        text-align: left;\n",
       "    }\n",
       "\n",
       "    .dataframe tbody tr th {\n",
       "        vertical-align: top;\n",
       "    }\n",
       "</style>\n",
       "<table border=\"1\" class=\"dataframe\">\n",
       "  <thead>\n",
       "    <tr style=\"text-align: right;\">\n",
       "      <th></th>\n",
       "      <th>hyperbolic</th>\n",
       "      <th>deepwalk2</th>\n",
       "      <th>deepwalk4</th>\n",
       "      <th>deepwalk8</th>\n",
       "      <th>deepwalk16</th>\n",
       "      <th>deepwalk32</th>\n",
       "      <th>deepwalk64</th>\n",
       "      <th>deepwalk128</th>\n",
       "    </tr>\n",
       "  </thead>\n",
       "  <tbody>\n",
       "    <tr>\n",
       "      <th>0.1</th>\n",
       "      <td>0.083078</td>\n",
       "      <td>0.025519</td>\n",
       "      <td>0.022474</td>\n",
       "      <td>0.025513</td>\n",
       "      <td>0.021725</td>\n",
       "      <td>0.022036</td>\n",
       "      <td>0.027121</td>\n",
       "      <td>0.024870</td>\n",
       "    </tr>\n",
       "    <tr>\n",
       "      <th>0.2</th>\n",
       "      <td>0.071281</td>\n",
       "      <td>0.026306</td>\n",
       "      <td>0.019310</td>\n",
       "      <td>0.018327</td>\n",
       "      <td>0.018189</td>\n",
       "      <td>0.020381</td>\n",
       "      <td>0.020523</td>\n",
       "      <td>0.021212</td>\n",
       "    </tr>\n",
       "    <tr>\n",
       "      <th>0.3</th>\n",
       "      <td>0.012466</td>\n",
       "      <td>0.019471</td>\n",
       "      <td>0.017506</td>\n",
       "      <td>0.008701</td>\n",
       "      <td>0.015251</td>\n",
       "      <td>0.015307</td>\n",
       "      <td>0.013458</td>\n",
       "      <td>0.016136</td>\n",
       "    </tr>\n",
       "    <tr>\n",
       "      <th>0.4</th>\n",
       "      <td>0.013667</td>\n",
       "      <td>0.016048</td>\n",
       "      <td>0.008081</td>\n",
       "      <td>0.004616</td>\n",
       "      <td>0.004616</td>\n",
       "      <td>0.004616</td>\n",
       "      <td>0.004616</td>\n",
       "      <td>0.004616</td>\n",
       "    </tr>\n",
       "    <tr>\n",
       "      <th>0.5</th>\n",
       "      <td>0.009439</td>\n",
       "      <td>0.012753</td>\n",
       "      <td>0.012870</td>\n",
       "      <td>0.006816</td>\n",
       "      <td>0.006816</td>\n",
       "      <td>0.006816</td>\n",
       "      <td>0.006816</td>\n",
       "      <td>0.006816</td>\n",
       "    </tr>\n",
       "  </tbody>\n",
       "</table>\n",
       "</div>"
      ],
      "text/plain": [
       "     hyperbolic  deepwalk2  deepwalk4  deepwalk8  deepwalk16  deepwalk32  \\\n",
       "0.1    0.083078   0.025519   0.022474   0.025513    0.021725    0.022036   \n",
       "0.2    0.071281   0.026306   0.019310   0.018327    0.018189    0.020381   \n",
       "0.3    0.012466   0.019471   0.017506   0.008701    0.015251    0.015307   \n",
       "0.4    0.013667   0.016048   0.008081   0.004616    0.004616    0.004616   \n",
       "0.5    0.009439   0.012753   0.012870   0.006816    0.006816    0.006816   \n",
       "\n",
       "     deepwalk64  deepwalk128  \n",
       "0.1    0.027121     0.024870  \n",
       "0.2    0.020523     0.021212  \n",
       "0.3    0.013458     0.016136  \n",
       "0.4    0.004616     0.004616  \n",
       "0.5    0.006816     0.006816  "
      ]
     },
     "execution_count": 162,
     "metadata": {},
     "output_type": "execute_result"
    }
   ],
   "source": [
    "errors_t.head()"
   ]
  },
  {
   "cell_type": "code",
   "execution_count": 163,
   "metadata": {
    "collapsed": true
   },
   "outputs": [],
   "source": [
    "means_t = means.transpose()"
   ]
  },
  {
   "cell_type": "code",
   "execution_count": 164,
   "metadata": {
    "collapsed": false
   },
   "outputs": [
    {
     "data": {
      "text/html": [
       "<div>\n",
       "<style>\n",
       "    .dataframe thead tr:only-child th {\n",
       "        text-align: right;\n",
       "    }\n",
       "\n",
       "    .dataframe thead th {\n",
       "        text-align: left;\n",
       "    }\n",
       "\n",
       "    .dataframe tbody tr th {\n",
       "        vertical-align: top;\n",
       "    }\n",
       "</style>\n",
       "<table border=\"1\" class=\"dataframe\">\n",
       "  <thead>\n",
       "    <tr style=\"text-align: right;\">\n",
       "      <th></th>\n",
       "      <th>hyperbolic</th>\n",
       "      <th>deepwalk2</th>\n",
       "      <th>deepwalk4</th>\n",
       "      <th>deepwalk8</th>\n",
       "      <th>deepwalk16</th>\n",
       "      <th>deepwalk32</th>\n",
       "      <th>deepwalk64</th>\n",
       "      <th>deepwalk128</th>\n",
       "    </tr>\n",
       "  </thead>\n",
       "  <tbody>\n",
       "    <tr>\n",
       "      <th>0.1</th>\n",
       "      <td>0.387580</td>\n",
       "      <td>0.206336</td>\n",
       "      <td>0.197952</td>\n",
       "      <td>0.202959</td>\n",
       "      <td>0.194424</td>\n",
       "      <td>0.194253</td>\n",
       "      <td>0.203669</td>\n",
       "      <td>0.201008</td>\n",
       "    </tr>\n",
       "    <tr>\n",
       "      <th>0.2</th>\n",
       "      <td>0.513383</td>\n",
       "      <td>0.206572</td>\n",
       "      <td>0.186188</td>\n",
       "      <td>0.183264</td>\n",
       "      <td>0.183030</td>\n",
       "      <td>0.186428</td>\n",
       "      <td>0.186633</td>\n",
       "      <td>0.187602</td>\n",
       "    </tr>\n",
       "    <tr>\n",
       "      <th>0.3</th>\n",
       "      <td>0.619729</td>\n",
       "      <td>0.249073</td>\n",
       "      <td>0.219883</td>\n",
       "      <td>0.202172</td>\n",
       "      <td>0.209734</td>\n",
       "      <td>0.209795</td>\n",
       "      <td>0.207781</td>\n",
       "      <td>0.210683</td>\n",
       "    </tr>\n",
       "    <tr>\n",
       "      <th>0.4</th>\n",
       "      <td>0.618584</td>\n",
       "      <td>0.223140</td>\n",
       "      <td>0.202962</td>\n",
       "      <td>0.196066</td>\n",
       "      <td>0.196066</td>\n",
       "      <td>0.196066</td>\n",
       "      <td>0.196066</td>\n",
       "      <td>0.196066</td>\n",
       "    </tr>\n",
       "    <tr>\n",
       "      <th>0.5</th>\n",
       "      <td>0.606418</td>\n",
       "      <td>0.210243</td>\n",
       "      <td>0.199773</td>\n",
       "      <td>0.191944</td>\n",
       "      <td>0.191944</td>\n",
       "      <td>0.191944</td>\n",
       "      <td>0.191944</td>\n",
       "      <td>0.191944</td>\n",
       "    </tr>\n",
       "  </tbody>\n",
       "</table>\n",
       "</div>"
      ],
      "text/plain": [
       "     hyperbolic  deepwalk2  deepwalk4  deepwalk8  deepwalk16  deepwalk32  \\\n",
       "0.1    0.387580   0.206336   0.197952   0.202959    0.194424    0.194253   \n",
       "0.2    0.513383   0.206572   0.186188   0.183264    0.183030    0.186428   \n",
       "0.3    0.619729   0.249073   0.219883   0.202172    0.209734    0.209795   \n",
       "0.4    0.618584   0.223140   0.202962   0.196066    0.196066    0.196066   \n",
       "0.5    0.606418   0.210243   0.199773   0.191944    0.191944    0.191944   \n",
       "\n",
       "     deepwalk64  deepwalk128  \n",
       "0.1    0.203669     0.201008  \n",
       "0.2    0.186633     0.187602  \n",
       "0.3    0.207781     0.210683  \n",
       "0.4    0.196066     0.196066  \n",
       "0.5    0.191944     0.191944  "
      ]
     },
     "execution_count": 164,
     "metadata": {},
     "output_type": "execute_result"
    }
   ],
   "source": [
    "means_t.head()"
   ]
  },
  {
   "cell_type": "code",
   "execution_count": 165,
   "metadata": {
    "collapsed": true
   },
   "outputs": [],
   "source": [
    "%matplotlib inline"
   ]
  },
  {
   "cell_type": "code",
   "execution_count": 166,
   "metadata": {
    "collapsed": true
   },
   "outputs": [],
   "source": [
    "def plot_error_bars(ax, data, sde):\n",
    "    xvals = np.arange(0, 9, 1)\n",
    "    for idx in range(data.shape[1]):\n",
    "        if idx == 0:\n",
    "            col = 'b'\n",
    "        else:\n",
    "            col = 'r'\n",
    "        ax.fill_between(xvals.T, data[:, idx] - sde[:, idx], data[:, idx] + sde[:, idx], interpolate=True, alpha=0.1,\n",
    "                        color=col)\n",
    "    return ax"
   ]
  },
  {
   "cell_type": "code",
   "execution_count": 167,
   "metadata": {
    "collapsed": false
   },
   "outputs": [
    {
     "data": {
      "image/png": "[encoded data removed]",
      "text/plain": [
       "<matplotlib.figure.Figure at 0x112811c50>"
      ]
     },
     "metadata": {},
     "output_type": "display_data"
    }
   ],
   "source": [
    "styles = ['bo-', 'ro--', 'ro-.', 'ro:', 'rs-', 'rs--', 'rs-.', 'rs:']\n",
    "ax = means_t.plot(style=styles, legend=False, kind='line')\n",
    "ax = plot_error_bars(ax, means_t.values, errors_t.values)"
   ]
  },
  {
   "cell_type": "code",
   "execution_count": 169,
   "metadata": {
    "collapsed": false
   },
   "outputs": [
    {
     "name": "stdout",
     "output_type": "stream",
     "text": [
      "/Users/workspace/Hyperbolic-Embedding/local_resources/karate\n"
     ]
    }
   ],
   "source": [
    "cd ../../local_resources/karate/"
   ]
  },
  {
   "cell_type": "code",
   "execution_count": 217,
   "metadata": {
    "collapsed": false
   },
   "outputs": [
    {
     "name": "stdout",
     "output_type": "stream",
     "text": [
      "input matrix of shape: (34, 34)\n",
      "output matrix of shape: (34, 34)\n",
      "(34, 34)\n"
     ]
    }
   ],
   "source": [
    "x, y = utils.read_data('X.p', 'y.p', threshold=0)"
   ]
  },
  {
   "cell_type": "code",
   "execution_count": 218,
   "metadata": {
    "collapsed": false
   },
   "outputs": [
    {
     "data": {
      "text/plain": [
       "scipy.sparse.csc.csc_matrix"
      ]
     },
     "execution_count": 218,
     "metadata": {},
     "output_type": "execute_result"
    }
   ],
   "source": [
    "type(x)"
   ]
  },
  {
   "cell_type": "code",
   "execution_count": 219,
   "metadata": {
    "collapsed": false
   },
   "outputs": [
    {
     "data": {
      "text/plain": [
       "1"
      ]
     },
     "execution_count": 219,
     "metadata": {},
     "output_type": "execute_result"
    }
   ],
   "source": [
    "len(y.shape)"
   ]
  },
  {
   "cell_type": "code",
   "execution_count": 220,
   "metadata": {
    "collapsed": false
   },
   "outputs": [
    {
     "data": {
      "text/plain": [
       "2"
      ]
     },
     "execution_count": 220,
     "metadata": {},
     "output_type": "execute_result"
    }
   ],
   "source": [
    "len(x.shape)"
   ]
  },
  {
   "cell_type": "code",
   "execution_count": 230,
   "metadata": {
    "collapsed": false
   },
   "outputs": [],
   "source": [
    "X_train, X_test, y_train, y_test = train_test_split(x,y, train_size=0.2, stratify=y)"
   ]
  },
  {
   "cell_type": "code",
   "execution_count": 256,
   "metadata": {
    "collapsed": false
   },
   "outputs": [],
   "source": [
    "x = np.array([.3,0])\n",
    "y = np.array([[.3,.4], [.3,.2]])"
   ]
  },
  {
   "cell_type": "code",
   "execution_count": 263,
   "metadata": {
    "collapsed": false
   },
   "outputs": [],
   "source": [
    "xvec = np.array([[.3,0], [.3,0.1], [.2,.1]])"
   ]
  },
  {
   "cell_type": "code",
   "execution_count": 274,
   "metadata": {
    "collapsed": false
   },
   "outputs": [
    {
     "ename": "ValueError",
     "evalue": "operands could not be broadcast together with shapes (3,2) (2,2) ",
     "output_type": "error",
     "traceback": [
      "\u001b[0;31m---------------------------------------------------------------------------\u001b[0m",
      "\u001b[0;31mValueError\u001b[0m                                Traceback (most recent call last)",
      "\u001b[0;32m<ipython-input-274-167828eabde9>\u001b[0m in \u001b[0;36m<module>\u001b[0;34m()\u001b[0m\n\u001b[0;32m----> 1\u001b[0;31m \u001b[0mtemp\u001b[0m \u001b[0;34m=\u001b[0m \u001b[0mxvec\u001b[0m \u001b[0;34m-\u001b[0m \u001b[0my\u001b[0m\u001b[0;34m\u001b[0m\u001b[0m\n\u001b[0m",
      "\u001b[0;31mValueError\u001b[0m: operands could not be broadcast together with shapes (3,2) (2,2) "
     ]
    }
   ],
   "source": [
    "temp = xvec - y"
   ]
  },
  {
   "cell_type": "code",
   "execution_count": 271,
   "metadata": {
    "collapsed": false
   },
   "outputs": [
    {
     "data": {
      "text/plain": [
       "(2, 3, 2)"
      ]
     },
     "execution_count": 271,
     "metadata": {},
     "output_type": "execute_result"
    }
   ],
   "source": [
    "temp.shape"
   ]
  },
  {
   "cell_type": "code",
   "execution_count": 268,
   "metadata": {
    "collapsed": false
   },
   "outputs": [
    {
     "ename": "ValueError",
     "evalue": "cannot reshape array of size 12 into shape (3,2)",
     "output_type": "error",
     "traceback": [
      "\u001b[0;31m---------------------------------------------------------------------------\u001b[0m",
      "\u001b[0;31mValueError\u001b[0m                                Traceback (most recent call last)",
      "\u001b[0;32m<ipython-input-268-2bd22ebacf86>\u001b[0m in \u001b[0;36m<module>\u001b[0;34m()\u001b[0m\n\u001b[0;32m----> 1\u001b[0;31m \u001b[0mtemp\u001b[0m\u001b[0;34m.\u001b[0m\u001b[0mreshape\u001b[0m\u001b[0;34m(\u001b[0m\u001b[0;34m[\u001b[0m\u001b[0;36m3\u001b[0m\u001b[0;34m,\u001b[0m\u001b[0;36m2\u001b[0m\u001b[0;34m]\u001b[0m\u001b[0;34m)\u001b[0m\u001b[0;34m\u001b[0m\u001b[0m\n\u001b[0m",
      "\u001b[0;31mValueError\u001b[0m: cannot reshape array of size 12 into shape (3,2)"
     ]
    }
   ],
   "source": [
    "temp.reshape([3,2])"
   ]
  },
  {
   "cell_type": "code",
   "execution_count": 259,
   "metadata": {
    "collapsed": false
   },
   "outputs": [],
   "source": [
    "norm_square = np.square(np.linalg.norm(y-x, axis=1))"
   ]
  },
  {
   "cell_type": "code",
   "execution_count": 260,
   "metadata": {
    "collapsed": false
   },
   "outputs": [],
   "source": [
    "denom1 = 1-np.square(np.linalg.norm(y, axis=1))\n",
    "denom2 = 1-np.square(np.linalg.norm(x, axis=0))"
   ]
  },
  {
   "cell_type": "code",
   "execution_count": 261,
   "metadata": {
    "collapsed": false
   },
   "outputs": [],
   "source": [
    "arg = 1 + 2*norm_square/(denom1*denom2)"
   ]
  },
  {
   "cell_type": "code",
   "execution_count": 262,
   "metadata": {
    "collapsed": false
   },
   "outputs": [
    {
     "data": {
      "text/plain": [
       "array([ 0.93403847,  0.44584975])"
      ]
     },
     "execution_count": 262,
     "metadata": {},
     "output_type": "execute_result"
    }
   ],
   "source": [
    "np.arccosh(arg)"
   ]
  },
  {
   "cell_type": "code",
   "execution_count": null,
   "metadata": {
    "collapsed": true
   },
   "outputs": [],
   "source": [
    "norm_squared = tf.square(tf.norm(vecs, axis=0))\n",
    "hyperbolic_factor = 0.25 * tf.square(1 - norm_squared)"
   ]
  },
  {
   "cell_type": "code",
   "execution_count": 239,
   "metadata": {
    "collapsed": false
   },
   "outputs": [
    {
     "data": {
      "text/plain": [
       "3.6055512754639891"
      ]
     },
     "execution_count": 239,
     "metadata": {},
     "output_type": "execute_result"
    }
   ],
   "source": [
    "np.sqrt(13)"
   ]
  },
  {
   "cell_type": "code",
   "execution_count": 293,
   "metadata": {
    "collapsed": true
   },
   "outputs": [],
   "source": [
    "x = np.array([[2,0],[3,0],[4,0]])\n",
    "y = np.array([[1,0],[2,4]])"
   ]
  },
  {
   "cell_type": "code",
   "execution_count": 303,
   "metadata": {
    "collapsed": false
   },
   "outputs": [],
   "source": [
    "xnorm_sq = np.square(np.linalg.norm(x, axis=1))"
   ]
  },
  {
   "cell_type": "code",
   "execution_count": 305,
   "metadata": {
    "collapsed": false
   },
   "outputs": [
    {
     "data": {
      "text/plain": [
       "array([  4.,   9.,  16.])"
      ]
     },
     "execution_count": 305,
     "metadata": {},
     "output_type": "execute_result"
    }
   ],
   "source": [
    "xnorm_sq"
   ]
  },
  {
   "cell_type": "code",
   "execution_count": 308,
   "metadata": {
    "collapsed": false
   },
   "outputs": [],
   "source": [
    "ynorm_sq = np.square(np.linalg.norm(y, axis=1))"
   ]
  },
  {
   "cell_type": "code",
   "execution_count": 309,
   "metadata": {
    "collapsed": false
   },
   "outputs": [
    {
     "data": {
      "text/plain": [
       "array([  1.,  20.])"
      ]
     },
     "execution_count": 309,
     "metadata": {},
     "output_type": "execute_result"
    }
   ],
   "source": [
    "ynorm_sq"
   ]
  },
  {
   "cell_type": "code",
   "execution_count": 310,
   "metadata": {
    "collapsed": false
   },
   "outputs": [
    {
     "data": {
      "text/plain": [
       "array([[  5.,  24.],\n",
       "       [ 10.,  29.],\n",
       "       [ 17.,  36.]])"
      ]
     },
     "execution_count": 310,
     "metadata": {},
     "output_type": "execute_result"
    }
   ],
   "source": [
    "xnorm_sq[:,None] + ynorm_sq[None,:]"
   ]
  },
  {
   "cell_type": "code",
   "execution_count": 311,
   "metadata": {
    "collapsed": false
   },
   "outputs": [
    {
     "data": {
      "text/plain": [
       "array([[ -3.],\n",
       "       [ -8.],\n",
       "       [-15.]])"
      ]
     },
     "execution_count": 311,
     "metadata": {},
     "output_type": "execute_result"
    }
   ],
   "source": [
    "(1-xnorm_sq[:,None])"
   ]
  },
  {
   "cell_type": "code",
   "execution_count": 313,
   "metadata": {
    "collapsed": false
   },
   "outputs": [
    {
     "data": {
      "text/plain": [
       "array([[  0., -19.]])"
      ]
     },
     "execution_count": 313,
     "metadata": {},
     "output_type": "execute_result"
    }
   ],
   "source": [
    "1-ynorm_sq[None,:]"
   ]
  },
  {
   "cell_type": "code",
   "execution_count": 312,
   "metadata": {
    "collapsed": false
   },
   "outputs": [
    {
     "data": {
      "text/plain": [
       "array([[  -0.,   57.],\n",
       "       [  -0.,  152.],\n",
       "       [  -0.,  285.]])"
      ]
     },
     "execution_count": 312,
     "metadata": {},
     "output_type": "execute_result"
    }
   ],
   "source": [
    "(1-xnorm_sq[:,None])*(1-ynorm_sq[None,:])"
   ]
  },
  {
   "cell_type": "code",
   "execution_count": 298,
   "metadata": {
    "collapsed": false
   },
   "outputs": [
    {
     "data": {
      "text/plain": [
       "array([[2, 4],\n",
       "       [3, 6],\n",
       "       [4, 8]])"
      ]
     },
     "execution_count": 298,
     "metadata": {},
     "output_type": "execute_result"
    }
   ],
   "source": [
    "np.matmul(x,y.T)"
   ]
  },
  {
   "cell_type": "code",
   "execution_count": 302,
   "metadata": {
    "collapsed": false
   },
   "outputs": [
    {
     "data": {
      "text/plain": [
       "array([[  1.,  16.],\n",
       "       [  4.,  17.],\n",
       "       [  9.,  20.]])"
      ]
     },
     "execution_count": 302,
     "metadata": {},
     "output_type": "execute_result"
    }
   ],
   "source": [
    "np.square(xnorm[:,None]) + np.square(ynorm[None,:]) - 2*np.matmul(x,y.T)"
   ]
  },
  {
   "cell_type": "code",
   "execution_count": null,
   "metadata": {
    "collapsed": true
   },
   "outputs": [],
   "source": [
    "denom"
   ]
  }
 ],
 "metadata": {
  "kernelspec": {
   "display_name": "Python 2",
   "language": "python",
   "name": "python2"
  },
  "language_info": {
   "codemirror_mode": {
    "name": "ipython",
    "version": 2
   },
   "file_extension": ".py",
   "mimetype": "text/x-python",
   "name": "python",
   "nbconvert_exporter": "python",
   "pygments_lexer": "ipython2",
   "version": "2.7.12"
  }
 },
 "nbformat": 4,
 "nbformat_minor": 1
}
