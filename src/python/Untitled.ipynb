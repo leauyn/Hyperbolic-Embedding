{
 "cells": [
  {
   "cell_type": "code",
   "execution_count": 1,
   "metadata": {
    "collapsed": false
   },
   "outputs": [],
   "source": [
    "import utils"
   ]
  },
  {
   "cell_type": "code",
   "execution_count": 3,
   "metadata": {
    "collapsed": false
   },
   "outputs": [],
   "source": [
    "arr = np.random.rand(3,3)"
   ]
  },
  {
   "cell_type": "code",
   "execution_count": 4,
   "metadata": {
    "collapsed": false
   },
   "outputs": [
    {
     "data": {
      "text/plain": [
       "array([[ 0.28431191,  0.72475972,  0.51036677],\n",
       "       [ 0.59062449,  0.14858588,  0.7141304 ],\n",
       "       [ 0.30395078,  0.04234962,  0.83388359]])"
      ]
     },
     "execution_count": 4,
     "metadata": {},
     "output_type": "execute_result"
    }
   ],
   "source": [
    "arr"
   ]
  },
  {
   "cell_type": "code",
   "execution_count": 5,
   "metadata": {
    "collapsed": false
   },
   "outputs": [
    {
     "data": {
      "text/plain": [
       "4.1529631580084647"
      ]
     },
     "execution_count": 5,
     "metadata": {},
     "output_type": "execute_result"
    }
   ],
   "source": [
    "np.sum(arr98783296)"
   ]
  },
  {
   "cell_type": "code",
   "execution_count": 4,
   "metadata": {
    "collapsed": true
   },
   "outputs": [],
   "source": [
    "arrs = arr.astype(np.str)"
   ]
  },
  {
   "cell_type": "code",
   "execution_count": 5,
   "metadata": {
    "collapsed": false
   },
   "outputs": [
    {
     "data": {
      "text/plain": [
       "array([['0.373408973018', '0.952879735006', '0.0382700089147'],\n",
       "       ['0.105720168821', '0.614241678357', '0.59357356448'],\n",
       "       ['0.807327835863', '0.72509137082', '0.814391862483']],\n",
       "      dtype='|S32')"
      ]
     },
     "execution_count": 5,
     "metadata": {},
     "output_type": "execute_result"
    }
   ],
   "source": [
    "arrs"
   ]
  },
  {
   "cell_type": "code",
   "execution_count": 7,
   "metadata": {
    "collapsed": false
   },
   "outputs": [],
   "source": [
    "arrsl = arrs.tolist()"
   ]
  },
  {
   "cell_type": "code",
   "execution_count": 8,
   "metadata": {
    "collapsed": false
   },
   "outputs": [
    {
     "data": {
      "text/plain": [
       "[['0.373408973018', '0.952879735006', '0.0382700089147'],\n",
       " ['0.105720168821', '0.614241678357', '0.59357356448'],\n",
       " ['0.807327835863', '0.72509137082', '0.814391862483']]"
      ]
     },
     "execution_count": 8,
     "metadata": {},
     "output_type": "execute_result"
    }
   ],
   "source": [
    "arrsl"
   ]
  },
  {
   "cell_type": "code",
   "execution_count": 9,
   "metadata": {
    "collapsed": false
   },
   "outputs": [
    {
     "name": "stdout",
     "output_type": "stream",
     "text": [
      "Untitled.ipynb                 polar_embedding.py\r\n",
      "debug_hyperbolic_cartesian.py  polar_embedding.pyc\r\n",
      "euclidean_cartesian.py         preprocessing.py\r\n",
      "euclidean_cartesian.pyc        preprocessing.pyc\r\n",
      "experiments.py                 run_detectors.py\r\n",
      "graph.py                       run_detectors.pyc\r\n",
      "hyperbolic_cartesian.py        runtime_optimisation.py\r\n",
      "hyperbolic_cartesian.pyc       sample_network.py\r\n",
      "hyperbolic_embedding.py        test.py\r\n",
      "hyperbolic_embedding.pyc       utils.py\r\n",
      "multilabel_detectors.py        utils.pyc\r\n",
      "multilabel_detectors.pyc       visualisation.py\r\n",
      "multilabel_evaluation.py       visualisation.pyc\r\n",
      "multilabel_evaluation.pyc\r\n"
     ]
    }
   ],
   "source": [
    "ls"
   ]
  },
  {
   "cell_type": "code",
   "execution_count": 12,
   "metadata": {
    "collapsed": true
   },
   "outputs": [],
   "source": [
    "embedding_path = '../../local_resources/blogcatalog/embeddings/Win_cartesian_20170830-232747.csv'\n",
    "target_path = '../../local_resources/blogcatalog/y.p'\n",
    "feature_path = '../../local_resources/blogcatalog/X.p'"
   ]
  },
  {
   "cell_type": "code",
   "execution_count": 13,
   "metadata": {
    "collapsed": false
   },
   "outputs": [],
   "source": [
    "hyperbolic = pd.read_csv(embedding_path, index_col=0)"
   ]
  },
  {
   "cell_type": "code",
   "execution_count": 14,
   "metadata": {
    "collapsed": false
   },
   "outputs": [
    {
     "data": {
      "text/html": [
       "<div>\n",
       "<style>\n",
       "    .dataframe thead tr:only-child th {\n",
       "        text-align: right;\n",
       "    }\n",
       "\n",
       "    .dataframe thead th {\n",
       "        text-align: left;\n",
       "    }\n",
       "\n",
       "    .dataframe tbody tr th {\n",
       "        vertical-align: top;\n",
       "    }\n",
       "</style>\n",
       "<table border=\"1\" class=\"dataframe\">\n",
       "  <thead>\n",
       "    <tr style=\"text-align: right;\">\n",
       "      <th></th>\n",
       "      <th>0</th>\n",
       "      <th>1</th>\n",
       "      <th>2</th>\n",
       "      <th>3</th>\n",
       "      <th>4</th>\n",
       "      <th>5</th>\n",
       "      <th>6</th>\n",
       "      <th>7</th>\n",
       "      <th>8</th>\n",
       "      <th>9</th>\n",
       "      <th>...</th>\n",
       "      <th>118</th>\n",
       "      <th>119</th>\n",
       "      <th>120</th>\n",
       "      <th>121</th>\n",
       "      <th>122</th>\n",
       "      <th>123</th>\n",
       "      <th>124</th>\n",
       "      <th>125</th>\n",
       "      <th>126</th>\n",
       "      <th>127</th>\n",
       "    </tr>\n",
       "  </thead>\n",
       "  <tbody>\n",
       "    <tr>\n",
       "      <th>0</th>\n",
       "      <td>-0.014513</td>\n",
       "      <td>-0.016070</td>\n",
       "      <td>0.013898</td>\n",
       "      <td>0.001820</td>\n",
       "      <td>-0.010466</td>\n",
       "      <td>0.001405</td>\n",
       "      <td>-0.008149</td>\n",
       "      <td>0.028177</td>\n",
       "      <td>-0.022893</td>\n",
       "      <td>-0.002360</td>\n",
       "      <td>...</td>\n",
       "      <td>-0.017349</td>\n",
       "      <td>-0.005500</td>\n",
       "      <td>0.009024</td>\n",
       "      <td>-0.028495</td>\n",
       "      <td>0.017118</td>\n",
       "      <td>0.009812</td>\n",
       "      <td>-0.007551</td>\n",
       "      <td>0.009884</td>\n",
       "      <td>-0.011643</td>\n",
       "      <td>0.009353</td>\n",
       "    </tr>\n",
       "    <tr>\n",
       "      <th>1</th>\n",
       "      <td>0.010257</td>\n",
       "      <td>-0.016743</td>\n",
       "      <td>0.006007</td>\n",
       "      <td>-0.010984</td>\n",
       "      <td>-0.000655</td>\n",
       "      <td>-0.006080</td>\n",
       "      <td>0.003932</td>\n",
       "      <td>0.017659</td>\n",
       "      <td>0.003025</td>\n",
       "      <td>0.002074</td>\n",
       "      <td>...</td>\n",
       "      <td>-0.024776</td>\n",
       "      <td>-0.005432</td>\n",
       "      <td>0.014488</td>\n",
       "      <td>-0.007299</td>\n",
       "      <td>0.006593</td>\n",
       "      <td>-0.000108</td>\n",
       "      <td>0.005752</td>\n",
       "      <td>0.006259</td>\n",
       "      <td>0.008059</td>\n",
       "      <td>-0.007648</td>\n",
       "    </tr>\n",
       "    <tr>\n",
       "      <th>2</th>\n",
       "      <td>0.006617</td>\n",
       "      <td>-0.018758</td>\n",
       "      <td>0.009038</td>\n",
       "      <td>-0.006887</td>\n",
       "      <td>-0.003687</td>\n",
       "      <td>-0.000848</td>\n",
       "      <td>-0.006807</td>\n",
       "      <td>0.034407</td>\n",
       "      <td>-0.009743</td>\n",
       "      <td>0.003624</td>\n",
       "      <td>...</td>\n",
       "      <td>-0.027741</td>\n",
       "      <td>-0.006724</td>\n",
       "      <td>0.014415</td>\n",
       "      <td>-0.018000</td>\n",
       "      <td>0.011438</td>\n",
       "      <td>0.011939</td>\n",
       "      <td>0.002994</td>\n",
       "      <td>0.014958</td>\n",
       "      <td>0.000362</td>\n",
       "      <td>-0.000939</td>\n",
       "    </tr>\n",
       "    <tr>\n",
       "      <th>3</th>\n",
       "      <td>0.026935</td>\n",
       "      <td>-0.025794</td>\n",
       "      <td>-0.006718</td>\n",
       "      <td>-0.016043</td>\n",
       "      <td>-0.006316</td>\n",
       "      <td>-0.014101</td>\n",
       "      <td>0.007468</td>\n",
       "      <td>0.004790</td>\n",
       "      <td>0.031548</td>\n",
       "      <td>0.004101</td>\n",
       "      <td>...</td>\n",
       "      <td>-0.031225</td>\n",
       "      <td>-0.001991</td>\n",
       "      <td>0.014867</td>\n",
       "      <td>0.012234</td>\n",
       "      <td>-0.010707</td>\n",
       "      <td>-0.004308</td>\n",
       "      <td>0.020463</td>\n",
       "      <td>0.008060</td>\n",
       "      <td>0.019241</td>\n",
       "      <td>-0.023111</td>\n",
       "    </tr>\n",
       "    <tr>\n",
       "      <th>4</th>\n",
       "      <td>0.024002</td>\n",
       "      <td>-0.027847</td>\n",
       "      <td>0.009274</td>\n",
       "      <td>-0.018866</td>\n",
       "      <td>-0.010688</td>\n",
       "      <td>-0.004886</td>\n",
       "      <td>0.014086</td>\n",
       "      <td>0.030510</td>\n",
       "      <td>0.015296</td>\n",
       "      <td>0.002777</td>\n",
       "      <td>...</td>\n",
       "      <td>-0.043411</td>\n",
       "      <td>-0.014615</td>\n",
       "      <td>0.034656</td>\n",
       "      <td>-0.010104</td>\n",
       "      <td>0.012124</td>\n",
       "      <td>-0.009635</td>\n",
       "      <td>0.015541</td>\n",
       "      <td>-0.001222</td>\n",
       "      <td>0.019456</td>\n",
       "      <td>-0.025845</td>\n",
       "    </tr>\n",
       "  </tbody>\n",
       "</table>\n",
       "<p>5 rows × 128 columns</p>\n",
       "</div>"
      ],
      "text/plain": [
       "          0         1         2         3         4         5         6  \\\n",
       "0 -0.014513 -0.016070  0.013898  0.001820 -0.010466  0.001405 -0.008149   \n",
       "1  0.010257 -0.016743  0.006007 -0.010984 -0.000655 -0.006080  0.003932   \n",
       "2  0.006617 -0.018758  0.009038 -0.006887 -0.003687 -0.000848 -0.006807   \n",
       "3  0.026935 -0.025794 -0.006718 -0.016043 -0.006316 -0.014101  0.007468   \n",
       "4  0.024002 -0.027847  0.009274 -0.018866 -0.010688 -0.004886  0.014086   \n",
       "\n",
       "          7         8         9    ...          118       119       120  \\\n",
       "0  0.028177 -0.022893 -0.002360    ...    -0.017349 -0.005500  0.009024   \n",
       "1  0.017659  0.003025  0.002074    ...    -0.024776 -0.005432  0.014488   \n",
       "2  0.034407 -0.009743  0.003624    ...    -0.027741 -0.006724  0.014415   \n",
       "3  0.004790  0.031548  0.004101    ...    -0.031225 -0.001991  0.014867   \n",
       "4  0.030510  0.015296  0.002777    ...    -0.043411 -0.014615  0.034656   \n",
       "\n",
       "        121       122       123       124       125       126       127  \n",
       "0 -0.028495  0.017118  0.009812 -0.007551  0.009884 -0.011643  0.009353  \n",
       "1 -0.007299  0.006593 -0.000108  0.005752  0.006259  0.008059 -0.007648  \n",
       "2 -0.018000  0.011438  0.011939  0.002994  0.014958  0.000362 -0.000939  \n",
       "3  0.012234 -0.010707 -0.004308  0.020463  0.008060  0.019241 -0.023111  \n",
       "4 -0.010104  0.012124 -0.009635  0.015541 -0.001222  0.019456 -0.025845  \n",
       "\n",
       "[5 rows x 128 columns]"
      ]
     },
     "execution_count": 14,
     "metadata": {},
     "output_type": "execute_result"
    }
   ],
   "source": [
    "hyperbolic.head()"
   ]
  },
  {
   "cell_type": "code",
   "execution_count": 15,
   "metadata": {
    "collapsed": false
   },
   "outputs": [
    {
     "ename": "NameError",
     "evalue": "name 'read_embeddings' is not defined",
     "output_type": "error",
     "traceback": [
      "\u001b[0;31m---------------------------------------------------------------------------\u001b[0m",
      "\u001b[0;31mNameError\u001b[0m                                 Traceback (most recent call last)",
      "\u001b[0;32m<ipython-input-15-2afa6f734dba>\u001b[0m in \u001b[0;36m<module>\u001b[0;34m()\u001b[0m\n\u001b[1;32m      1\u001b[0m \u001b[0mpaths\u001b[0m \u001b[0;34m=\u001b[0m \u001b[0;34m[\u001b[0m\u001b[0;34m'../../local_resources/blogcatalog/blogcatalog128.emd'\u001b[0m\u001b[0;34m]\u001b[0m\u001b[0;34m\u001b[0m\u001b[0m\n\u001b[1;32m      2\u001b[0m \u001b[0msizes\u001b[0m \u001b[0;34m=\u001b[0m \u001b[0;34m[\u001b[0m\u001b[0;36m128\u001b[0m\u001b[0;34m]\u001b[0m\u001b[0;34m\u001b[0m\u001b[0m\n\u001b[0;32m----> 3\u001b[0;31m \u001b[0;34m[\u001b[0m\u001b[0mdeepwalk\u001b[0m\u001b[0;34m]\u001b[0m\u001b[0;34m,\u001b[0m \u001b[0my\u001b[0m \u001b[0;34m=\u001b[0m \u001b[0mread_embeddings\u001b[0m\u001b[0;34m(\u001b[0m\u001b[0mpaths\u001b[0m\u001b[0;34m,\u001b[0m \u001b[0mtarget_path\u001b[0m\u001b[0;34m,\u001b[0m \u001b[0msizes\u001b[0m\u001b[0;34m)\u001b[0m\u001b[0;34m\u001b[0m\u001b[0m\n\u001b[0m",
      "\u001b[0;31mNameError\u001b[0m: name 'read_embeddings' is not defined"
     ]
    }
   ],
   "source": [
    "paths = ['../../local_resources/blogcatalog/blogcatalog128.emd']\n",
    "sizes = [128]\n",
    "[deepwalk], y = read_embeddings(paths, target_path, sizes)"
   ]
  },
  {
   "cell_type": "code",
   "execution_count": 22,
   "metadata": {
    "collapsed": false
   },
   "outputs": [],
   "source": [
    "deepwalk = pd.read_csv(paths[0], header=None, index_col=0, skiprows=1, sep=\" \")"
   ]
  },
  {
   "cell_type": "code",
   "execution_count": 23,
   "metadata": {
    "collapsed": false
   },
   "outputs": [
    {
     "data": {
      "text/html": [
       "<div>\n",
       "<style>\n",
       "    .dataframe thead tr:only-child th {\n",
       "        text-align: right;\n",
       "    }\n",
       "\n",
       "    .dataframe thead th {\n",
       "        text-align: left;\n",
       "    }\n",
       "\n",
       "    .dataframe tbody tr th {\n",
       "        vertical-align: top;\n",
       "    }\n",
       "</style>\n",
       "<table border=\"1\" class=\"dataframe\">\n",
       "  <thead>\n",
       "    <tr style=\"text-align: right;\">\n",
       "      <th></th>\n",
       "      <th>1</th>\n",
       "      <th>2</th>\n",
       "      <th>3</th>\n",
       "      <th>4</th>\n",
       "      <th>5</th>\n",
       "      <th>6</th>\n",
       "      <th>7</th>\n",
       "      <th>8</th>\n",
       "      <th>9</th>\n",
       "      <th>10</th>\n",
       "      <th>...</th>\n",
       "      <th>119</th>\n",
       "      <th>120</th>\n",
       "      <th>121</th>\n",
       "      <th>122</th>\n",
       "      <th>123</th>\n",
       "      <th>124</th>\n",
       "      <th>125</th>\n",
       "      <th>126</th>\n",
       "      <th>127</th>\n",
       "      <th>128</th>\n",
       "    </tr>\n",
       "    <tr>\n",
       "      <th>0</th>\n",
       "      <th></th>\n",
       "      <th></th>\n",
       "      <th></th>\n",
       "      <th></th>\n",
       "      <th></th>\n",
       "      <th></th>\n",
       "      <th></th>\n",
       "      <th></th>\n",
       "      <th></th>\n",
       "      <th></th>\n",
       "      <th></th>\n",
       "      <th></th>\n",
       "      <th></th>\n",
       "      <th></th>\n",
       "      <th></th>\n",
       "      <th></th>\n",
       "      <th></th>\n",
       "      <th></th>\n",
       "      <th></th>\n",
       "      <th></th>\n",
       "      <th></th>\n",
       "    </tr>\n",
       "  </thead>\n",
       "  <tbody>\n",
       "    <tr>\n",
       "      <th>4838</th>\n",
       "      <td>-0.063785</td>\n",
       "      <td>0.200842</td>\n",
       "      <td>0.124523</td>\n",
       "      <td>0.096612</td>\n",
       "      <td>0.079121</td>\n",
       "      <td>0.131064</td>\n",
       "      <td>0.080369</td>\n",
       "      <td>-0.104317</td>\n",
       "      <td>-0.152945</td>\n",
       "      <td>0.166722</td>\n",
       "      <td>...</td>\n",
       "      <td>0.192937</td>\n",
       "      <td>0.128929</td>\n",
       "      <td>0.075525</td>\n",
       "      <td>0.248860</td>\n",
       "      <td>-0.314172</td>\n",
       "      <td>-0.071574</td>\n",
       "      <td>-0.122616</td>\n",
       "      <td>0.120476</td>\n",
       "      <td>0.214037</td>\n",
       "      <td>-0.022488</td>\n",
       "    </tr>\n",
       "    <tr>\n",
       "      <th>175</th>\n",
       "      <td>-0.168905</td>\n",
       "      <td>-0.012473</td>\n",
       "      <td>0.158409</td>\n",
       "      <td>-0.028054</td>\n",
       "      <td>0.055808</td>\n",
       "      <td>0.169399</td>\n",
       "      <td>0.108019</td>\n",
       "      <td>-0.184747</td>\n",
       "      <td>0.012552</td>\n",
       "      <td>0.062193</td>\n",
       "      <td>...</td>\n",
       "      <td>0.148329</td>\n",
       "      <td>0.022897</td>\n",
       "      <td>0.096448</td>\n",
       "      <td>0.282853</td>\n",
       "      <td>-0.116553</td>\n",
       "      <td>0.034316</td>\n",
       "      <td>-0.007171</td>\n",
       "      <td>-0.036149</td>\n",
       "      <td>0.124146</td>\n",
       "      <td>-0.022533</td>\n",
       "    </tr>\n",
       "    <tr>\n",
       "      <th>4373</th>\n",
       "      <td>-0.209386</td>\n",
       "      <td>0.255200</td>\n",
       "      <td>0.042344</td>\n",
       "      <td>0.129865</td>\n",
       "      <td>0.079373</td>\n",
       "      <td>0.186769</td>\n",
       "      <td>-0.269030</td>\n",
       "      <td>-0.363870</td>\n",
       "      <td>-0.096576</td>\n",
       "      <td>0.188755</td>\n",
       "      <td>...</td>\n",
       "      <td>0.118768</td>\n",
       "      <td>-0.048961</td>\n",
       "      <td>0.149286</td>\n",
       "      <td>0.081662</td>\n",
       "      <td>-0.223472</td>\n",
       "      <td>0.041991</td>\n",
       "      <td>-0.076196</td>\n",
       "      <td>-0.028986</td>\n",
       "      <td>-0.029009</td>\n",
       "      <td>0.070446</td>\n",
       "    </tr>\n",
       "    <tr>\n",
       "      <th>8156</th>\n",
       "      <td>-0.262711</td>\n",
       "      <td>0.061876</td>\n",
       "      <td>0.105548</td>\n",
       "      <td>0.052317</td>\n",
       "      <td>-0.115278</td>\n",
       "      <td>-0.235740</td>\n",
       "      <td>-0.177505</td>\n",
       "      <td>-0.157776</td>\n",
       "      <td>-0.262904</td>\n",
       "      <td>0.132250</td>\n",
       "      <td>...</td>\n",
       "      <td>0.144046</td>\n",
       "      <td>0.154238</td>\n",
       "      <td>0.108119</td>\n",
       "      <td>0.204089</td>\n",
       "      <td>-0.221079</td>\n",
       "      <td>0.060222</td>\n",
       "      <td>0.125079</td>\n",
       "      <td>0.134429</td>\n",
       "      <td>0.186496</td>\n",
       "      <td>0.080856</td>\n",
       "    </tr>\n",
       "    <tr>\n",
       "      <th>1225</th>\n",
       "      <td>-0.413721</td>\n",
       "      <td>0.179534</td>\n",
       "      <td>0.140244</td>\n",
       "      <td>0.049358</td>\n",
       "      <td>0.101915</td>\n",
       "      <td>-0.001329</td>\n",
       "      <td>-0.319624</td>\n",
       "      <td>-0.099829</td>\n",
       "      <td>-0.096216</td>\n",
       "      <td>0.154886</td>\n",
       "      <td>...</td>\n",
       "      <td>0.096702</td>\n",
       "      <td>0.237698</td>\n",
       "      <td>-0.001355</td>\n",
       "      <td>0.136421</td>\n",
       "      <td>0.117579</td>\n",
       "      <td>0.060149</td>\n",
       "      <td>0.118896</td>\n",
       "      <td>0.018337</td>\n",
       "      <td>0.150841</td>\n",
       "      <td>0.225190</td>\n",
       "    </tr>\n",
       "  </tbody>\n",
       "</table>\n",
       "<p>5 rows × 128 columns</p>\n",
       "</div>"
      ],
      "text/plain": [
       "           1         2         3         4         5         6         7    \\\n",
       "0                                                                            \n",
       "4838 -0.063785  0.200842  0.124523  0.096612  0.079121  0.131064  0.080369   \n",
       "175  -0.168905 -0.012473  0.158409 -0.028054  0.055808  0.169399  0.108019   \n",
       "4373 -0.209386  0.255200  0.042344  0.129865  0.079373  0.186769 -0.269030   \n",
       "8156 -0.262711  0.061876  0.105548  0.052317 -0.115278 -0.235740 -0.177505   \n",
       "1225 -0.413721  0.179534  0.140244  0.049358  0.101915 -0.001329 -0.319624   \n",
       "\n",
       "           8         9         10     ...          119       120       121  \\\n",
       "0                                     ...                                    \n",
       "4838 -0.104317 -0.152945  0.166722    ...     0.192937  0.128929  0.075525   \n",
       "175  -0.184747  0.012552  0.062193    ...     0.148329  0.022897  0.096448   \n",
       "4373 -0.363870 -0.096576  0.188755    ...     0.118768 -0.048961  0.149286   \n",
       "8156 -0.157776 -0.262904  0.132250    ...     0.144046  0.154238  0.108119   \n",
       "1225 -0.099829 -0.096216  0.154886    ...     0.096702  0.237698 -0.001355   \n",
       "\n",
       "           122       123       124       125       126       127       128  \n",
       "0                                                                           \n",
       "4838  0.248860 -0.314172 -0.071574 -0.122616  0.120476  0.214037 -0.022488  \n",
       "175   0.282853 -0.116553  0.034316 -0.007171 -0.036149  0.124146 -0.022533  \n",
       "4373  0.081662 -0.223472  0.041991 -0.076196 -0.028986 -0.029009  0.070446  \n",
       "8156  0.204089 -0.221079  0.060222  0.125079  0.134429  0.186496  0.080856  \n",
       "1225  0.136421  0.117579  0.060149  0.118896  0.018337  0.150841  0.225190  \n",
       "\n",
       "[5 rows x 128 columns]"
      ]
     },
     "execution_count": 23,
     "metadata": {},
     "output_type": "execute_result"
    }
   ],
   "source": [
    "deepwalk.head()"
   ]
  },
  {
   "cell_type": "code",
   "execution_count": 24,
   "metadata": {
    "collapsed": true
   },
   "outputs": [],
   "source": [
    "ds = deepwalk.sort_index(ascending=True)"
   ]
  },
  {
   "cell_type": "code",
   "execution_count": 25,
   "metadata": {
    "collapsed": false
   },
   "outputs": [
    {
     "data": {
      "text/html": [
       "<div>\n",
       "<style>\n",
       "    .dataframe thead tr:only-child th {\n",
       "        text-align: right;\n",
       "    }\n",
       "\n",
       "    .dataframe thead th {\n",
       "        text-align: left;\n",
       "    }\n",
       "\n",
       "    .dataframe tbody tr th {\n",
       "        vertical-align: top;\n",
       "    }\n",
       "</style>\n",
       "<table border=\"1\" class=\"dataframe\">\n",
       "  <thead>\n",
       "    <tr style=\"text-align: right;\">\n",
       "      <th></th>\n",
       "      <th>1</th>\n",
       "      <th>2</th>\n",
       "      <th>3</th>\n",
       "      <th>4</th>\n",
       "      <th>5</th>\n",
       "      <th>6</th>\n",
       "      <th>7</th>\n",
       "      <th>8</th>\n",
       "      <th>9</th>\n",
       "      <th>10</th>\n",
       "      <th>...</th>\n",
       "      <th>119</th>\n",
       "      <th>120</th>\n",
       "      <th>121</th>\n",
       "      <th>122</th>\n",
       "      <th>123</th>\n",
       "      <th>124</th>\n",
       "      <th>125</th>\n",
       "      <th>126</th>\n",
       "      <th>127</th>\n",
       "      <th>128</th>\n",
       "    </tr>\n",
       "    <tr>\n",
       "      <th>0</th>\n",
       "      <th></th>\n",
       "      <th></th>\n",
       "      <th></th>\n",
       "      <th></th>\n",
       "      <th></th>\n",
       "      <th></th>\n",
       "      <th></th>\n",
       "      <th></th>\n",
       "      <th></th>\n",
       "      <th></th>\n",
       "      <th></th>\n",
       "      <th></th>\n",
       "      <th></th>\n",
       "      <th></th>\n",
       "      <th></th>\n",
       "      <th></th>\n",
       "      <th></th>\n",
       "      <th></th>\n",
       "      <th></th>\n",
       "      <th></th>\n",
       "      <th></th>\n",
       "    </tr>\n",
       "  </thead>\n",
       "  <tbody>\n",
       "    <tr>\n",
       "      <th>0</th>\n",
       "      <td>0.157687</td>\n",
       "      <td>-0.188563</td>\n",
       "      <td>-0.364380</td>\n",
       "      <td>0.066544</td>\n",
       "      <td>0.063952</td>\n",
       "      <td>-0.306227</td>\n",
       "      <td>0.145748</td>\n",
       "      <td>-0.024508</td>\n",
       "      <td>0.078286</td>\n",
       "      <td>0.273490</td>\n",
       "      <td>...</td>\n",
       "      <td>0.163704</td>\n",
       "      <td>-0.020197</td>\n",
       "      <td>0.105337</td>\n",
       "      <td>0.141802</td>\n",
       "      <td>-0.355497</td>\n",
       "      <td>0.142622</td>\n",
       "      <td>-0.234140</td>\n",
       "      <td>0.042347</td>\n",
       "      <td>0.040169</td>\n",
       "      <td>-0.154282</td>\n",
       "    </tr>\n",
       "    <tr>\n",
       "      <th>1</th>\n",
       "      <td>0.383107</td>\n",
       "      <td>-0.014959</td>\n",
       "      <td>0.105476</td>\n",
       "      <td>-0.188543</td>\n",
       "      <td>0.032430</td>\n",
       "      <td>-0.487199</td>\n",
       "      <td>0.623573</td>\n",
       "      <td>-0.393363</td>\n",
       "      <td>-0.054657</td>\n",
       "      <td>-0.048864</td>\n",
       "      <td>...</td>\n",
       "      <td>0.453132</td>\n",
       "      <td>-0.280049</td>\n",
       "      <td>-0.091066</td>\n",
       "      <td>0.321439</td>\n",
       "      <td>-0.287219</td>\n",
       "      <td>0.066952</td>\n",
       "      <td>-0.174899</td>\n",
       "      <td>0.030163</td>\n",
       "      <td>0.107185</td>\n",
       "      <td>-0.007188</td>\n",
       "    </tr>\n",
       "    <tr>\n",
       "      <th>2</th>\n",
       "      <td>-0.029730</td>\n",
       "      <td>0.255521</td>\n",
       "      <td>0.138213</td>\n",
       "      <td>0.192125</td>\n",
       "      <td>-0.014703</td>\n",
       "      <td>-0.293399</td>\n",
       "      <td>0.234676</td>\n",
       "      <td>-0.039477</td>\n",
       "      <td>0.051923</td>\n",
       "      <td>-0.085100</td>\n",
       "      <td>...</td>\n",
       "      <td>-0.253025</td>\n",
       "      <td>0.004295</td>\n",
       "      <td>0.083459</td>\n",
       "      <td>0.122785</td>\n",
       "      <td>-0.127028</td>\n",
       "      <td>0.035308</td>\n",
       "      <td>-0.201788</td>\n",
       "      <td>0.334906</td>\n",
       "      <td>0.362171</td>\n",
       "      <td>-0.283823</td>\n",
       "    </tr>\n",
       "    <tr>\n",
       "      <th>3</th>\n",
       "      <td>-0.329608</td>\n",
       "      <td>0.271731</td>\n",
       "      <td>0.258364</td>\n",
       "      <td>0.431122</td>\n",
       "      <td>0.058298</td>\n",
       "      <td>-0.181333</td>\n",
       "      <td>0.082666</td>\n",
       "      <td>-0.173871</td>\n",
       "      <td>-0.266074</td>\n",
       "      <td>0.395157</td>\n",
       "      <td>...</td>\n",
       "      <td>-0.122085</td>\n",
       "      <td>0.074193</td>\n",
       "      <td>0.271043</td>\n",
       "      <td>0.250981</td>\n",
       "      <td>-0.299506</td>\n",
       "      <td>-0.139933</td>\n",
       "      <td>0.347380</td>\n",
       "      <td>-0.263036</td>\n",
       "      <td>-0.435558</td>\n",
       "      <td>0.136762</td>\n",
       "    </tr>\n",
       "    <tr>\n",
       "      <th>4</th>\n",
       "      <td>-0.055197</td>\n",
       "      <td>0.236203</td>\n",
       "      <td>0.234736</td>\n",
       "      <td>0.077040</td>\n",
       "      <td>-0.055698</td>\n",
       "      <td>-0.316603</td>\n",
       "      <td>-0.213899</td>\n",
       "      <td>0.008282</td>\n",
       "      <td>0.160840</td>\n",
       "      <td>-0.170797</td>\n",
       "      <td>...</td>\n",
       "      <td>-0.310672</td>\n",
       "      <td>0.102374</td>\n",
       "      <td>0.006533</td>\n",
       "      <td>0.047744</td>\n",
       "      <td>0.030616</td>\n",
       "      <td>0.089060</td>\n",
       "      <td>-0.259601</td>\n",
       "      <td>-0.069352</td>\n",
       "      <td>-0.182707</td>\n",
       "      <td>-0.402714</td>\n",
       "    </tr>\n",
       "  </tbody>\n",
       "</table>\n",
       "<p>5 rows × 128 columns</p>\n",
       "</div>"
      ],
      "text/plain": [
       "        1         2         3         4         5         6         7    \\\n",
       "0                                                                         \n",
       "0  0.157687 -0.188563 -0.364380  0.066544  0.063952 -0.306227  0.145748   \n",
       "1  0.383107 -0.014959  0.105476 -0.188543  0.032430 -0.487199  0.623573   \n",
       "2 -0.029730  0.255521  0.138213  0.192125 -0.014703 -0.293399  0.234676   \n",
       "3 -0.329608  0.271731  0.258364  0.431122  0.058298 -0.181333  0.082666   \n",
       "4 -0.055197  0.236203  0.234736  0.077040 -0.055698 -0.316603 -0.213899   \n",
       "\n",
       "        8         9         10     ...          119       120       121  \\\n",
       "0                                  ...                                    \n",
       "0 -0.024508  0.078286  0.273490    ...     0.163704 -0.020197  0.105337   \n",
       "1 -0.393363 -0.054657 -0.048864    ...     0.453132 -0.280049 -0.091066   \n",
       "2 -0.039477  0.051923 -0.085100    ...    -0.253025  0.004295  0.083459   \n",
       "3 -0.173871 -0.266074  0.395157    ...    -0.122085  0.074193  0.271043   \n",
       "4  0.008282  0.160840 -0.170797    ...    -0.310672  0.102374  0.006533   \n",
       "\n",
       "        122       123       124       125       126       127       128  \n",
       "0                                                                        \n",
       "0  0.141802 -0.355497  0.142622 -0.234140  0.042347  0.040169 -0.154282  \n",
       "1  0.321439 -0.287219  0.066952 -0.174899  0.030163  0.107185 -0.007188  \n",
       "2  0.122785 -0.127028  0.035308 -0.201788  0.334906  0.362171 -0.283823  \n",
       "3  0.250981 -0.299506 -0.139933  0.347380 -0.263036 -0.435558  0.136762  \n",
       "4  0.047744  0.030616  0.089060 -0.259601 -0.069352 -0.182707 -0.402714  \n",
       "\n",
       "[5 rows x 128 columns]"
      ]
     },
     "execution_count": 25,
     "metadata": {},
     "output_type": "execute_result"
    }
   ],
   "source": [
    "ds.head()"
   ]
  },
  {
   "cell_type": "code",
   "execution_count": 27,
   "metadata": {
    "collapsed": false
   },
   "outputs": [],
   "source": [
    "x = utils.read_pickle(feature_path)\n",
    "y = utils.read_pickle(target_path)"
   ]
  },
  {
   "cell_type": "code",
   "execution_count": 28,
   "metadata": {
    "collapsed": false
   },
   "outputs": [
    {
     "data": {
      "text/plain": [
       "scipy.sparse.csc.csc_matrix"
      ]
     },
     "execution_count": 28,
     "metadata": {},
     "output_type": "execute_result"
    }
   ],
   "source": [
    "type(y)"
   ]
  },
  {
   "cell_type": "code",
   "execution_count": 29,
   "metadata": {
    "collapsed": false
   },
   "outputs": [
    {
     "data": {
      "text/plain": [
       "<10312x39 sparse matrix of type '<type 'numpy.float64'>'\n",
       "\twith 14476 stored elements in Compressed Sparse Column format>"
      ]
     },
     "execution_count": 29,
     "metadata": {},
     "output_type": "execute_result"
    }
   ],
   "source": [
    "y"
   ]
  },
  {
   "cell_type": "code",
   "execution_count": 30,
   "metadata": {
    "collapsed": true
   },
   "outputs": [],
   "source": [
    "wout_path = '../../local_resources/blogcatalog/embeddings/Wout_cartesian_20170831-041645.csv'"
   ]
  },
  {
   "cell_type": "code",
   "execution_count": 31,
   "metadata": {
    "collapsed": true
   },
   "outputs": [],
   "source": [
    "hyperbolic = pd.read_csv(embedding_path, index_col=0)"
   ]
  },
  {
   "cell_type": "code",
   "execution_count": 32,
   "metadata": {
    "collapsed": false
   },
   "outputs": [
    {
     "data": {
      "text/html": [
       "<div>\n",
       "<style>\n",
       "    .dataframe thead tr:only-child th {\n",
       "        text-align: right;\n",
       "    }\n",
       "\n",
       "    .dataframe thead th {\n",
       "        text-align: left;\n",
       "    }\n",
       "\n",
       "    .dataframe tbody tr th {\n",
       "        vertical-align: top;\n",
       "    }\n",
       "</style>\n",
       "<table border=\"1\" class=\"dataframe\">\n",
       "  <thead>\n",
       "    <tr style=\"text-align: right;\">\n",
       "      <th></th>\n",
       "      <th>0</th>\n",
       "      <th>1</th>\n",
       "      <th>2</th>\n",
       "      <th>3</th>\n",
       "      <th>4</th>\n",
       "      <th>5</th>\n",
       "      <th>6</th>\n",
       "      <th>7</th>\n",
       "      <th>8</th>\n",
       "      <th>9</th>\n",
       "      <th>...</th>\n",
       "      <th>118</th>\n",
       "      <th>119</th>\n",
       "      <th>120</th>\n",
       "      <th>121</th>\n",
       "      <th>122</th>\n",
       "      <th>123</th>\n",
       "      <th>124</th>\n",
       "      <th>125</th>\n",
       "      <th>126</th>\n",
       "      <th>127</th>\n",
       "    </tr>\n",
       "  </thead>\n",
       "  <tbody>\n",
       "    <tr>\n",
       "      <th>0</th>\n",
       "      <td>-0.014513</td>\n",
       "      <td>-0.016070</td>\n",
       "      <td>0.013898</td>\n",
       "      <td>0.001820</td>\n",
       "      <td>-0.010466</td>\n",
       "      <td>0.001405</td>\n",
       "      <td>-0.008149</td>\n",
       "      <td>0.028177</td>\n",
       "      <td>-0.022893</td>\n",
       "      <td>-0.002360</td>\n",
       "      <td>...</td>\n",
       "      <td>-0.017349</td>\n",
       "      <td>-0.005500</td>\n",
       "      <td>0.009024</td>\n",
       "      <td>-0.028495</td>\n",
       "      <td>0.017118</td>\n",
       "      <td>0.009812</td>\n",
       "      <td>-0.007551</td>\n",
       "      <td>0.009884</td>\n",
       "      <td>-0.011643</td>\n",
       "      <td>0.009353</td>\n",
       "    </tr>\n",
       "    <tr>\n",
       "      <th>1</th>\n",
       "      <td>0.010257</td>\n",
       "      <td>-0.016743</td>\n",
       "      <td>0.006007</td>\n",
       "      <td>-0.010984</td>\n",
       "      <td>-0.000655</td>\n",
       "      <td>-0.006080</td>\n",
       "      <td>0.003932</td>\n",
       "      <td>0.017659</td>\n",
       "      <td>0.003025</td>\n",
       "      <td>0.002074</td>\n",
       "      <td>...</td>\n",
       "      <td>-0.024776</td>\n",
       "      <td>-0.005432</td>\n",
       "      <td>0.014488</td>\n",
       "      <td>-0.007299</td>\n",
       "      <td>0.006593</td>\n",
       "      <td>-0.000108</td>\n",
       "      <td>0.005752</td>\n",
       "      <td>0.006259</td>\n",
       "      <td>0.008059</td>\n",
       "      <td>-0.007648</td>\n",
       "    </tr>\n",
       "    <tr>\n",
       "      <th>2</th>\n",
       "      <td>0.006617</td>\n",
       "      <td>-0.018758</td>\n",
       "      <td>0.009038</td>\n",
       "      <td>-0.006887</td>\n",
       "      <td>-0.003687</td>\n",
       "      <td>-0.000848</td>\n",
       "      <td>-0.006807</td>\n",
       "      <td>0.034407</td>\n",
       "      <td>-0.009743</td>\n",
       "      <td>0.003624</td>\n",
       "      <td>...</td>\n",
       "      <td>-0.027741</td>\n",
       "      <td>-0.006724</td>\n",
       "      <td>0.014415</td>\n",
       "      <td>-0.018000</td>\n",
       "      <td>0.011438</td>\n",
       "      <td>0.011939</td>\n",
       "      <td>0.002994</td>\n",
       "      <td>0.014958</td>\n",
       "      <td>0.000362</td>\n",
       "      <td>-0.000939</td>\n",
       "    </tr>\n",
       "    <tr>\n",
       "      <th>3</th>\n",
       "      <td>0.026935</td>\n",
       "      <td>-0.025794</td>\n",
       "      <td>-0.006718</td>\n",
       "      <td>-0.016043</td>\n",
       "      <td>-0.006316</td>\n",
       "      <td>-0.014101</td>\n",
       "      <td>0.007468</td>\n",
       "      <td>0.004790</td>\n",
       "      <td>0.031548</td>\n",
       "      <td>0.004101</td>\n",
       "      <td>...</td>\n",
       "      <td>-0.031225</td>\n",
       "      <td>-0.001991</td>\n",
       "      <td>0.014867</td>\n",
       "      <td>0.012234</td>\n",
       "      <td>-0.010707</td>\n",
       "      <td>-0.004308</td>\n",
       "      <td>0.020463</td>\n",
       "      <td>0.008060</td>\n",
       "      <td>0.019241</td>\n",
       "      <td>-0.023111</td>\n",
       "    </tr>\n",
       "    <tr>\n",
       "      <th>4</th>\n",
       "      <td>0.024002</td>\n",
       "      <td>-0.027847</td>\n",
       "      <td>0.009274</td>\n",
       "      <td>-0.018866</td>\n",
       "      <td>-0.010688</td>\n",
       "      <td>-0.004886</td>\n",
       "      <td>0.014086</td>\n",
       "      <td>0.030510</td>\n",
       "      <td>0.015296</td>\n",
       "      <td>0.002777</td>\n",
       "      <td>...</td>\n",
       "      <td>-0.043411</td>\n",
       "      <td>-0.014615</td>\n",
       "      <td>0.034656</td>\n",
       "      <td>-0.010104</td>\n",
       "      <td>0.012124</td>\n",
       "      <td>-0.009635</td>\n",
       "      <td>0.015541</td>\n",
       "      <td>-0.001222</td>\n",
       "      <td>0.019456</td>\n",
       "      <td>-0.025845</td>\n",
       "    </tr>\n",
       "  </tbody>\n",
       "</table>\n",
       "<p>5 rows × 128 columns</p>\n",
       "</div>"
      ],
      "text/plain": [
       "          0         1         2         3         4         5         6  \\\n",
       "0 -0.014513 -0.016070  0.013898  0.001820 -0.010466  0.001405 -0.008149   \n",
       "1  0.010257 -0.016743  0.006007 -0.010984 -0.000655 -0.006080  0.003932   \n",
       "2  0.006617 -0.018758  0.009038 -0.006887 -0.003687 -0.000848 -0.006807   \n",
       "3  0.026935 -0.025794 -0.006718 -0.016043 -0.006316 -0.014101  0.007468   \n",
       "4  0.024002 -0.027847  0.009274 -0.018866 -0.010688 -0.004886  0.014086   \n",
       "\n",
       "          7         8         9    ...          118       119       120  \\\n",
       "0  0.028177 -0.022893 -0.002360    ...    -0.017349 -0.005500  0.009024   \n",
       "1  0.017659  0.003025  0.002074    ...    -0.024776 -0.005432  0.014488   \n",
       "2  0.034407 -0.009743  0.003624    ...    -0.027741 -0.006724  0.014415   \n",
       "3  0.004790  0.031548  0.004101    ...    -0.031225 -0.001991  0.014867   \n",
       "4  0.030510  0.015296  0.002777    ...    -0.043411 -0.014615  0.034656   \n",
       "\n",
       "        121       122       123       124       125       126       127  \n",
       "0 -0.028495  0.017118  0.009812 -0.007551  0.009884 -0.011643  0.009353  \n",
       "1 -0.007299  0.006593 -0.000108  0.005752  0.006259  0.008059 -0.007648  \n",
       "2 -0.018000  0.011438  0.011939  0.002994  0.014958  0.000362 -0.000939  \n",
       "3  0.012234 -0.010707 -0.004308  0.020463  0.008060  0.019241 -0.023111  \n",
       "4 -0.010104  0.012124 -0.009635  0.015541 -0.001222  0.019456 -0.025845  \n",
       "\n",
       "[5 rows x 128 columns]"
      ]
     },
     "execution_count": 32,
     "metadata": {},
     "output_type": "execute_result"
    }
   ],
   "source": [
    "hyperbolic.head()"
   ]
  },
  {
   "cell_type": "code",
   "execution_count": 7,
   "metadata": {
    "collapsed": false
   },
   "outputs": [
    {
     "data": {
      "text/plain": [
       "0.9998389568623616"
      ]
     },
     "execution_count": 7,
     "metadata": {},
     "output_type": "execute_result"
    }
   ],
   "source": [
    "0.98783296**2+.155**2"
   ]
  },
  {
   "cell_type": "code",
   "execution_count": null,
   "metadata": {
    "collapsed": true
   },
   "outputs": [],
   "source": []
  }
 ],
 "metadata": {
  "kernelspec": {
   "display_name": "Python 2",
   "language": "python",
   "name": "python2"
  },
  "language_info": {
   "codemirror_mode": {
    "name": "ipython",
    "version": 2
   },
   "file_extension": ".py",
   "mimetype": "text/x-python",
   "name": "python",
   "nbconvert_exporter": "python",
   "pygments_lexer": "ipython2",
   "version": "2.7.12"
  }
 },
 "nbformat": 4,
 "nbformat_minor": 1
}
